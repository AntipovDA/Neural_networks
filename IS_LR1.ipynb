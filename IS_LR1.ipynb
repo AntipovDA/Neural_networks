{
  "nbformat": 4,
  "nbformat_minor": 0,
  "metadata": {
    "colab": {
      "provenance": []
    },
    "kernelspec": {
      "name": "python3",
      "display_name": "Python 3"
    },
    "language_info": {
      "name": "python"
    }
  },
  "cells": [
    {
      "cell_type": "code",
      "execution_count": null,
      "metadata": {
        "id": "Wjr6pYRj6-Do"
      },
      "outputs": [],
      "source": [
        "import os\n",
        "os.chdir('/content/drive/MyDrive/Colab Notebooks')"
      ]
    },
    {
      "cell_type": "code",
      "source": [
        "# импорт модулей\n",
        "from tensorflow import keras\n",
        "import matplotlib.pyplot as plt\n",
        "import numpy as np\n",
        "import sklearn"
      ],
      "metadata": {
        "id": "qXpcO9cw7h-e"
      },
      "execution_count": null,
      "outputs": []
    },
    {
      "cell_type": "code",
      "source": [
        "# загрузка датасета\n",
        "from keras.datasets import mnist\n",
        "(X_train, y_train), (X_test, y_test) = mnist.load_data()"
      ],
      "metadata": {
        "id": "Zv60JJVK74cl"
      },
      "execution_count": null,
      "outputs": []
    },
    {
      "cell_type": "code",
      "source": [
        "# создание своего разбиения датасета\n",
        "from sklearn.model_selection import train_test_split\n",
        "# объединяем в один набор\n",
        "X = np.concatenate((X_train, X_test))\n",
        "y = np.concatenate((y_train, y_test))\n",
        "# разбиваем по вариантам\n",
        "X_train, X_test, y_train, y_test = train_test_split(X, y,\n",
        " test_size = 10000,\n",
        " train_size = 60000,\n",
        " random_state = 3)\n",
        "\n",
        "# вывод размерностей\n",
        "print('Shape of X train:', X_train.shape)\n",
        "print('Shape of y train:', y_train.shape)\n",
        "print('Shape of X test:', X_test.shape)\n",
        "print('Shape of y test:', y_test.shape)"
      ],
      "metadata": {
        "colab": {
          "base_uri": "https://localhost:8080/"
        },
        "id": "FM8RUYIu8EhW",
        "outputId": "6e6e3407-6ef9-49f1-9144-414a47c8ca8e"
      },
      "execution_count": null,
      "outputs": [
        {
          "output_type": "stream",
          "name": "stdout",
          "text": [
            "Shape of X train: (60000, 28, 28)\n",
            "Shape of y train: (60000,)\n",
            "Shape of X test: (10000, 28, 28)\n",
            "Shape of y test: (10000,)\n"
          ]
        }
      ]
    },
    {
      "cell_type": "code",
      "source": [
        "# вывод изображения\n",
        "for i in range(4):\n",
        "  plt.imshow(X_train[i], cmap=plt.get_cmap('gray'))\n",
        "  plt.show()\n",
        "  # вывод метки для этого изображения\n",
        "  print(y_train[i])\n"
      ],
      "metadata": {
        "colab": {
          "base_uri": "https://localhost:8080/",
          "height": 1000
        },
        "id": "c6gPaGyk8u51",
        "outputId": "debef1f0-8c75-4832-9c8f-b59d134e27ff"
      },
      "execution_count": null,
      "outputs": [
        {
          "output_type": "display_data",
          "data": {
            "text/plain": [
              "<Figure size 432x288 with 1 Axes>"
            ],
            "image/png": "[encoded data removed]"
          },
          "metadata": {
            "needs_background": "light"
          }
        },
        {
          "output_type": "stream",
          "name": "stdout",
          "text": [
            "7\n"
          ]
        },
        {
          "output_type": "display_data",
          "data": {
            "text/plain": [
              "<Figure size 432x288 with 1 Axes>"
            ],
            "image/png": "[encoded data removed]"
          },
          "metadata": {
            "needs_background": "light"
          }
        },
        {
          "output_type": "stream",
          "name": "stdout",
          "text": [
            "8\n"
          ]
        },
        {
          "output_type": "display_data",
          "data": {
            "text/plain": [
              "<Figure size 432x288 with 1 Axes>"
            ],
            "image/png": "[encoded data removed]"
          },
          "metadata": {
            "needs_background": "light"
          }
        },
        {
          "output_type": "stream",
          "name": "stdout",
          "text": [
            "2\n"
          ]
        },
        {
          "output_type": "display_data",
          "data": {
            "text/plain": [
              "<Figure size 432x288 with 1 Axes>"
            ],
            "image/png": "[encoded data removed]"
          },
          "metadata": {
            "needs_background": "light"
          }
        },
        {
          "output_type": "stream",
          "name": "stdout",
          "text": [
            "2\n"
          ]
        }
      ]
    },
    {
      "cell_type": "code",
      "source": [
        "# развернем каждое изображение 28*28 в вектор 784\n",
        "num_pixels = X_train.shape[1] * X_train.shape[2]\n",
        "X_train = X_train.reshape(X_train.shape[0], num_pixels) / 255\n",
        "X_test = X_test.reshape(X_test.shape[0], num_pixels) / 255\n",
        "print('Shape of transformed X train:', X_train.shape)\n",
        "print('Shape of test X train:', X_test.shape)"
      ],
      "metadata": {
        "colab": {
          "base_uri": "https://localhost:8080/"
        },
        "id": "VFFzKH979UcN",
        "outputId": "dc76186d-ec99-4245-ec1e-ce9ea3c1dd14"
      },
      "execution_count": null,
      "outputs": [
        {
          "output_type": "stream",
          "name": "stdout",
          "text": [
            "Shape of transformed X train: (60000, 784)\n",
            "Shape of test X train: (10000, 784)\n"
          ]
        }
      ]
    },
    {
      "cell_type": "code",
      "source": [
        "# переведем метки в one-hot\n",
        "from keras.utils import np_utils\n",
        "y_train = np_utils.to_categorical(y_train)\n",
        "y_test = np_utils.to_categorical(y_test)\n",
        "print('Shape of transformed y train:', y_train.shape)\n",
        "num_classes = y_train.shape[1]\n",
        "print('Shape of transformed y test:', y_test.shape)\n",
        "num_classes = y_train.shape[1]"
      ],
      "metadata": {
        "colab": {
          "base_uri": "https://localhost:8080/"
        },
        "id": "Lpo0uXF_9l3M",
        "outputId": "d6fd6f33-d70b-4b1d-ec3e-205910eac4b3"
      },
      "execution_count": null,
      "outputs": [
        {
          "output_type": "stream",
          "name": "stdout",
          "text": [
            "Shape of transformed y train: (60000, 10)\n",
            "Shape of transformed y test: (10000, 10)\n"
          ]
        }
      ]
    },
    {
      "cell_type": "code",
      "source": [
        "from keras.models import Sequential\n",
        "from keras.layers import Dense"
      ],
      "metadata": {
        "id": "rkQxn0Az929k"
      },
      "execution_count": null,
      "outputs": []
    },
    {
      "cell_type": "code",
      "source": [
        "# Модель однослойной нейронной сети (кол-во скрытых слоев = 0)\n",
        "# 1. создаем модель - объявляем ее объектом класса Sequential\n",
        "model1 = Sequential()\n",
        "\n",
        "# 2. добавляем выходной слой\n",
        "model1.add(Dense(units=num_classes, input_dim=num_pixels, activation='softmax'))\n",
        "\n",
        "# 3. компилируем модель\n",
        "model1.compile(loss='categorical_crossentropy', optimizer='sgd', metrics=['accuracy'])\n",
        "\n",
        "# вывод информации об архитектуре модели\n",
        "print(model1.summary())"
      ],
      "metadata": {
        "colab": {
          "base_uri": "https://localhost:8080/"
        },
        "id": "dRzvsKz8A5zr",
        "outputId": "d360bac0-110e-4fa8-8e03-ab3aa408d908"
      },
      "execution_count": null,
      "outputs": [
        {
          "output_type": "stream",
          "name": "stdout",
          "text": [
            "Model: \"sequential_1\"\n",
            "_________________________________________________________________\n",
            " Layer (type)                Output Shape              Param #   \n",
            "=================================================================\n",
            " dense_1 (Dense)             (None, 10)                7850      \n",
            "                                                                 \n",
            "=================================================================\n",
            "Total params: 7,850\n",
            "Trainable params: 7,850\n",
            "Non-trainable params: 0\n",
            "_________________________________________________________________\n",
            "None\n"
          ]
        }
      ]
    },
    {
      "cell_type": "code",
      "source": [
        "# Обучаем модель\n",
        "H = model1.fit(X_train, y_train, validation_split=0.1, epochs=100)"
      ],
      "metadata": {
        "colab": {
          "base_uri": "https://localhost:8080/"
        },
        "id": "3kpPz35JDMWy",
        "outputId": "e1bd3e43-2e60-4ed4-835b-a3ccb6d2c9b3"
      },
      "execution_count": null,
      "outputs": [
        {
          "output_type": "stream",
          "name": "stdout",
          "text": [
            "Epoch 1/100\n",
            "1688/1688 [==============================] - 3s 2ms/step - loss: 0.8020 - accuracy: 0.8088 - val_loss: 0.5275 - val_accuracy: 0.8673\n",
            "Epoch 2/100\n",
            "1688/1688 [==============================] - 3s 2ms/step - loss: 0.4646 - accuracy: 0.8793 - val_loss: 0.4405 - val_accuracy: 0.8815\n",
            "Epoch 3/100\n",
            "1688/1688 [==============================] - 4s 2ms/step - loss: 0.4088 - accuracy: 0.8900 - val_loss: 0.4028 - val_accuracy: 0.8895\n",
            "Epoch 4/100\n",
            "1688/1688 [==============================] - 7s 4ms/step - loss: 0.3811 - accuracy: 0.8959 - val_loss: 0.3815 - val_accuracy: 0.8950\n",
            "Epoch 5/100\n",
            "1688/1688 [==============================] - 5s 3ms/step - loss: 0.3637 - accuracy: 0.8999 - val_loss: 0.3665 - val_accuracy: 0.8985\n",
            "Epoch 6/100\n",
            "1688/1688 [==============================] - 3s 2ms/step - loss: 0.3512 - accuracy: 0.9030 - val_loss: 0.3562 - val_accuracy: 0.9012\n",
            "Epoch 7/100\n",
            "1688/1688 [==============================] - 3s 2ms/step - loss: 0.3418 - accuracy: 0.9049 - val_loss: 0.3479 - val_accuracy: 0.9030\n",
            "Epoch 8/100\n",
            "1688/1688 [==============================] - 3s 2ms/step - loss: 0.3344 - accuracy: 0.9074 - val_loss: 0.3407 - val_accuracy: 0.9045\n",
            "Epoch 9/100\n",
            "1688/1688 [==============================] - 4s 2ms/step - loss: 0.3283 - accuracy: 0.9086 - val_loss: 0.3361 - val_accuracy: 0.9050\n",
            "Epoch 10/100\n",
            "1688/1688 [==============================] - 3s 2ms/step - loss: 0.3232 - accuracy: 0.9101 - val_loss: 0.3311 - val_accuracy: 0.9080\n",
            "Epoch 11/100\n",
            "1688/1688 [==============================] - 3s 2ms/step - loss: 0.3187 - accuracy: 0.9107 - val_loss: 0.3276 - val_accuracy: 0.9070\n",
            "Epoch 12/100\n",
            "1688/1688 [==============================] - 3s 2ms/step - loss: 0.3149 - accuracy: 0.9125 - val_loss: 0.3251 - val_accuracy: 0.9087\n",
            "Epoch 13/100\n",
            "1688/1688 [==============================] - 3s 2ms/step - loss: 0.3115 - accuracy: 0.9132 - val_loss: 0.3218 - val_accuracy: 0.9105\n",
            "Epoch 14/100\n",
            "1688/1688 [==============================] - 3s 2ms/step - loss: 0.3085 - accuracy: 0.9143 - val_loss: 0.3197 - val_accuracy: 0.9092\n",
            "Epoch 15/100\n",
            "1688/1688 [==============================] - 3s 2ms/step - loss: 0.3057 - accuracy: 0.9149 - val_loss: 0.3163 - val_accuracy: 0.9115\n",
            "Epoch 16/100\n",
            "1688/1688 [==============================] - 3s 2ms/step - loss: 0.3035 - accuracy: 0.9153 - val_loss: 0.3153 - val_accuracy: 0.9110\n",
            "Epoch 17/100\n",
            "1688/1688 [==============================] - 3s 2ms/step - loss: 0.3012 - accuracy: 0.9162 - val_loss: 0.3126 - val_accuracy: 0.9125\n",
            "Epoch 18/100\n",
            "1688/1688 [==============================] - 3s 2ms/step - loss: 0.2992 - accuracy: 0.9165 - val_loss: 0.3103 - val_accuracy: 0.9120\n",
            "Epoch 19/100\n",
            "1688/1688 [==============================] - 3s 2ms/step - loss: 0.2973 - accuracy: 0.9168 - val_loss: 0.3086 - val_accuracy: 0.9128\n",
            "Epoch 20/100\n",
            "1688/1688 [==============================] - 3s 2ms/step - loss: 0.2955 - accuracy: 0.9173 - val_loss: 0.3076 - val_accuracy: 0.9130\n",
            "Epoch 21/100\n",
            "1688/1688 [==============================] - 3s 2ms/step - loss: 0.2940 - accuracy: 0.9173 - val_loss: 0.3068 - val_accuracy: 0.9127\n",
            "Epoch 22/100\n",
            "1688/1688 [==============================] - 3s 2ms/step - loss: 0.2924 - accuracy: 0.9186 - val_loss: 0.3052 - val_accuracy: 0.9127\n",
            "Epoch 23/100\n",
            "1688/1688 [==============================] - 3s 2ms/step - loss: 0.2911 - accuracy: 0.9183 - val_loss: 0.3044 - val_accuracy: 0.9133\n",
            "Epoch 24/100\n",
            "1688/1688 [==============================] - 3s 2ms/step - loss: 0.2897 - accuracy: 0.9190 - val_loss: 0.3023 - val_accuracy: 0.9143\n",
            "Epoch 25/100\n",
            "1688/1688 [==============================] - 3s 2ms/step - loss: 0.2885 - accuracy: 0.9193 - val_loss: 0.3023 - val_accuracy: 0.9145\n",
            "Epoch 26/100\n",
            "1688/1688 [==============================] - 3s 2ms/step - loss: 0.2873 - accuracy: 0.9194 - val_loss: 0.3020 - val_accuracy: 0.9147\n",
            "Epoch 27/100\n",
            "1688/1688 [==============================] - 3s 2ms/step - loss: 0.2862 - accuracy: 0.9200 - val_loss: 0.3001 - val_accuracy: 0.9147\n",
            "Epoch 28/100\n",
            "1688/1688 [==============================] - 3s 2ms/step - loss: 0.2852 - accuracy: 0.9199 - val_loss: 0.2990 - val_accuracy: 0.9157\n",
            "Epoch 29/100\n",
            "1688/1688 [==============================] - 3s 2ms/step - loss: 0.2841 - accuracy: 0.9203 - val_loss: 0.2987 - val_accuracy: 0.9160\n",
            "Epoch 30/100\n",
            "1688/1688 [==============================] - 3s 2ms/step - loss: 0.2831 - accuracy: 0.9208 - val_loss: 0.2987 - val_accuracy: 0.9147\n",
            "Epoch 31/100\n",
            "1688/1688 [==============================] - 3s 2ms/step - loss: 0.2823 - accuracy: 0.9211 - val_loss: 0.2984 - val_accuracy: 0.9150\n",
            "Epoch 32/100\n",
            "1688/1688 [==============================] - 4s 2ms/step - loss: 0.2814 - accuracy: 0.9212 - val_loss: 0.2963 - val_accuracy: 0.9155\n",
            "Epoch 33/100\n",
            "1688/1688 [==============================] - 3s 2ms/step - loss: 0.2806 - accuracy: 0.9213 - val_loss: 0.2955 - val_accuracy: 0.9168\n",
            "Epoch 34/100\n",
            "1688/1688 [==============================] - 3s 2ms/step - loss: 0.2798 - accuracy: 0.9216 - val_loss: 0.2950 - val_accuracy: 0.9165\n",
            "Epoch 35/100\n",
            "1688/1688 [==============================] - 3s 2ms/step - loss: 0.2790 - accuracy: 0.9219 - val_loss: 0.2946 - val_accuracy: 0.9167\n",
            "Epoch 36/100\n",
            "1688/1688 [==============================] - 3s 2ms/step - loss: 0.2783 - accuracy: 0.9220 - val_loss: 0.2942 - val_accuracy: 0.9157\n",
            "Epoch 37/100\n",
            "1688/1688 [==============================] - 3s 2ms/step - loss: 0.2776 - accuracy: 0.9226 - val_loss: 0.2939 - val_accuracy: 0.9170\n",
            "Epoch 38/100\n",
            "1688/1688 [==============================] - 3s 2ms/step - loss: 0.2768 - accuracy: 0.9227 - val_loss: 0.2933 - val_accuracy: 0.9165\n",
            "Epoch 39/100\n",
            "1688/1688 [==============================] - 3s 2ms/step - loss: 0.2762 - accuracy: 0.9229 - val_loss: 0.2927 - val_accuracy: 0.9172\n",
            "Epoch 40/100\n",
            "1688/1688 [==============================] - 3s 2ms/step - loss: 0.2755 - accuracy: 0.9226 - val_loss: 0.2917 - val_accuracy: 0.9168\n",
            "Epoch 41/100\n",
            "1688/1688 [==============================] - 3s 2ms/step - loss: 0.2749 - accuracy: 0.9234 - val_loss: 0.2917 - val_accuracy: 0.9167\n",
            "Epoch 42/100\n",
            "1688/1688 [==============================] - 3s 2ms/step - loss: 0.2744 - accuracy: 0.9232 - val_loss: 0.2914 - val_accuracy: 0.9183\n",
            "Epoch 43/100\n",
            "1688/1688 [==============================] - 3s 2ms/step - loss: 0.2737 - accuracy: 0.9232 - val_loss: 0.2915 - val_accuracy: 0.9182\n",
            "Epoch 44/100\n",
            "1688/1688 [==============================] - 3s 2ms/step - loss: 0.2733 - accuracy: 0.9236 - val_loss: 0.2910 - val_accuracy: 0.9180\n",
            "Epoch 45/100\n",
            "1688/1688 [==============================] - 3s 2ms/step - loss: 0.2726 - accuracy: 0.9240 - val_loss: 0.2906 - val_accuracy: 0.9188\n",
            "Epoch 46/100\n",
            "1688/1688 [==============================] - 3s 2ms/step - loss: 0.2722 - accuracy: 0.9241 - val_loss: 0.2897 - val_accuracy: 0.9192\n",
            "Epoch 47/100\n",
            "1688/1688 [==============================] - 3s 2ms/step - loss: 0.2717 - accuracy: 0.9238 - val_loss: 0.2901 - val_accuracy: 0.9192\n",
            "Epoch 48/100\n",
            "1688/1688 [==============================] - 3s 2ms/step - loss: 0.2711 - accuracy: 0.9244 - val_loss: 0.2888 - val_accuracy: 0.9185\n",
            "Epoch 49/100\n",
            "1688/1688 [==============================] - 3s 2ms/step - loss: 0.2706 - accuracy: 0.9242 - val_loss: 0.2887 - val_accuracy: 0.9178\n",
            "Epoch 50/100\n",
            "1688/1688 [==============================] - 3s 2ms/step - loss: 0.2702 - accuracy: 0.9242 - val_loss: 0.2896 - val_accuracy: 0.9182\n",
            "Epoch 51/100\n",
            "1688/1688 [==============================] - 3s 2ms/step - loss: 0.2698 - accuracy: 0.9244 - val_loss: 0.2886 - val_accuracy: 0.9195\n",
            "Epoch 52/100\n",
            "1688/1688 [==============================] - 3s 2ms/step - loss: 0.2694 - accuracy: 0.9244 - val_loss: 0.2882 - val_accuracy: 0.9202\n",
            "Epoch 53/100\n",
            "1688/1688 [==============================] - 3s 2ms/step - loss: 0.2689 - accuracy: 0.9244 - val_loss: 0.2875 - val_accuracy: 0.9188\n",
            "Epoch 54/100\n",
            "1688/1688 [==============================] - 3s 2ms/step - loss: 0.2685 - accuracy: 0.9245 - val_loss: 0.2871 - val_accuracy: 0.9188\n",
            "Epoch 55/100\n",
            "1688/1688 [==============================] - 3s 2ms/step - loss: 0.2681 - accuracy: 0.9249 - val_loss: 0.2871 - val_accuracy: 0.9200\n",
            "Epoch 56/100\n",
            "1688/1688 [==============================] - 3s 2ms/step - loss: 0.2676 - accuracy: 0.9249 - val_loss: 0.2871 - val_accuracy: 0.9185\n",
            "Epoch 57/100\n",
            "1688/1688 [==============================] - 3s 2ms/step - loss: 0.2673 - accuracy: 0.9249 - val_loss: 0.2874 - val_accuracy: 0.9200\n",
            "Epoch 58/100\n",
            "1688/1688 [==============================] - 3s 2ms/step - loss: 0.2669 - accuracy: 0.9249 - val_loss: 0.2865 - val_accuracy: 0.9195\n",
            "Epoch 59/100\n",
            "1688/1688 [==============================] - 3s 2ms/step - loss: 0.2666 - accuracy: 0.9254 - val_loss: 0.2860 - val_accuracy: 0.9203\n",
            "Epoch 60/100\n",
            "1688/1688 [==============================] - 3s 2ms/step - loss: 0.2662 - accuracy: 0.9252 - val_loss: 0.2860 - val_accuracy: 0.9202\n",
            "Epoch 61/100\n",
            "1688/1688 [==============================] - 3s 2ms/step - loss: 0.2658 - accuracy: 0.9253 - val_loss: 0.2864 - val_accuracy: 0.9195\n",
            "Epoch 62/100\n",
            "1688/1688 [==============================] - 3s 2ms/step - loss: 0.2655 - accuracy: 0.9252 - val_loss: 0.2853 - val_accuracy: 0.9193\n",
            "Epoch 63/100\n",
            "1688/1688 [==============================] - 3s 2ms/step - loss: 0.2652 - accuracy: 0.9258 - val_loss: 0.2852 - val_accuracy: 0.9208\n",
            "Epoch 64/100\n",
            "1688/1688 [==============================] - 3s 2ms/step - loss: 0.2647 - accuracy: 0.9257 - val_loss: 0.2849 - val_accuracy: 0.9208\n",
            "Epoch 65/100\n",
            "1688/1688 [==============================] - 3s 2ms/step - loss: 0.2644 - accuracy: 0.9259 - val_loss: 0.2854 - val_accuracy: 0.9187\n",
            "Epoch 66/100\n",
            "1688/1688 [==============================] - 3s 2ms/step - loss: 0.2641 - accuracy: 0.9260 - val_loss: 0.2852 - val_accuracy: 0.9220\n",
            "Epoch 67/100\n",
            "1688/1688 [==============================] - 4s 2ms/step - loss: 0.2638 - accuracy: 0.9260 - val_loss: 0.2853 - val_accuracy: 0.9195\n",
            "Epoch 68/100\n",
            "1688/1688 [==============================] - 4s 2ms/step - loss: 0.2635 - accuracy: 0.9258 - val_loss: 0.2851 - val_accuracy: 0.9197\n",
            "Epoch 69/100\n",
            "1688/1688 [==============================] - 3s 2ms/step - loss: 0.2633 - accuracy: 0.9261 - val_loss: 0.2846 - val_accuracy: 0.9207\n",
            "Epoch 70/100\n",
            "1688/1688 [==============================] - 3s 2ms/step - loss: 0.2629 - accuracy: 0.9264 - val_loss: 0.2846 - val_accuracy: 0.9215\n",
            "Epoch 71/100\n",
            "1688/1688 [==============================] - 3s 2ms/step - loss: 0.2627 - accuracy: 0.9263 - val_loss: 0.2849 - val_accuracy: 0.9227\n",
            "Epoch 72/100\n",
            "1688/1688 [==============================] - 3s 2ms/step - loss: 0.2624 - accuracy: 0.9266 - val_loss: 0.2842 - val_accuracy: 0.9212\n",
            "Epoch 73/100\n",
            "1688/1688 [==============================] - 3s 2ms/step - loss: 0.2621 - accuracy: 0.9263 - val_loss: 0.2838 - val_accuracy: 0.9215\n",
            "Epoch 74/100\n",
            "1688/1688 [==============================] - 3s 2ms/step - loss: 0.2618 - accuracy: 0.9265 - val_loss: 0.2840 - val_accuracy: 0.9218\n",
            "Epoch 75/100\n",
            "1688/1688 [==============================] - 3s 2ms/step - loss: 0.2616 - accuracy: 0.9265 - val_loss: 0.2839 - val_accuracy: 0.9220\n",
            "Epoch 76/100\n",
            "1688/1688 [==============================] - 3s 2ms/step - loss: 0.2614 - accuracy: 0.9266 - val_loss: 0.2829 - val_accuracy: 0.9205\n",
            "Epoch 77/100\n",
            "1688/1688 [==============================] - 3s 2ms/step - loss: 0.2610 - accuracy: 0.9266 - val_loss: 0.2829 - val_accuracy: 0.9215\n",
            "Epoch 78/100\n",
            "1688/1688 [==============================] - 3s 2ms/step - loss: 0.2607 - accuracy: 0.9269 - val_loss: 0.2829 - val_accuracy: 0.9220\n",
            "Epoch 79/100\n",
            "1688/1688 [==============================] - 3s 2ms/step - loss: 0.2605 - accuracy: 0.9271 - val_loss: 0.2827 - val_accuracy: 0.9208\n",
            "Epoch 80/100\n",
            "1688/1688 [==============================] - 3s 2ms/step - loss: 0.2604 - accuracy: 0.9271 - val_loss: 0.2827 - val_accuracy: 0.9198\n",
            "Epoch 81/100\n",
            "1688/1688 [==============================] - 3s 2ms/step - loss: 0.2601 - accuracy: 0.9276 - val_loss: 0.2827 - val_accuracy: 0.9228\n",
            "Epoch 82/100\n",
            "1688/1688 [==============================] - 3s 2ms/step - loss: 0.2598 - accuracy: 0.9271 - val_loss: 0.2822 - val_accuracy: 0.9202\n",
            "Epoch 83/100\n",
            "1688/1688 [==============================] - 3s 2ms/step - loss: 0.2595 - accuracy: 0.9271 - val_loss: 0.2822 - val_accuracy: 0.9210\n",
            "Epoch 84/100\n",
            "1688/1688 [==============================] - 3s 2ms/step - loss: 0.2594 - accuracy: 0.9274 - val_loss: 0.2824 - val_accuracy: 0.9220\n",
            "Epoch 85/100\n",
            "1688/1688 [==============================] - 3s 2ms/step - loss: 0.2590 - accuracy: 0.9275 - val_loss: 0.2823 - val_accuracy: 0.9203\n",
            "Epoch 86/100\n",
            "1688/1688 [==============================] - 3s 2ms/step - loss: 0.2589 - accuracy: 0.9273 - val_loss: 0.2820 - val_accuracy: 0.9213\n",
            "Epoch 87/100\n",
            "1688/1688 [==============================] - 3s 2ms/step - loss: 0.2586 - accuracy: 0.9272 - val_loss: 0.2821 - val_accuracy: 0.9210\n",
            "Epoch 88/100\n",
            "1688/1688 [==============================] - 3s 2ms/step - loss: 0.2585 - accuracy: 0.9276 - val_loss: 0.2822 - val_accuracy: 0.9230\n",
            "Epoch 89/100\n",
            "1688/1688 [==============================] - 3s 2ms/step - loss: 0.2582 - accuracy: 0.9276 - val_loss: 0.2817 - val_accuracy: 0.9217\n",
            "Epoch 90/100\n",
            "1688/1688 [==============================] - 3s 2ms/step - loss: 0.2580 - accuracy: 0.9276 - val_loss: 0.2819 - val_accuracy: 0.9220\n",
            "Epoch 91/100\n",
            "1688/1688 [==============================] - 3s 2ms/step - loss: 0.2578 - accuracy: 0.9279 - val_loss: 0.2824 - val_accuracy: 0.9225\n",
            "Epoch 92/100\n",
            "1688/1688 [==============================] - 3s 2ms/step - loss: 0.2576 - accuracy: 0.9279 - val_loss: 0.2810 - val_accuracy: 0.9222\n",
            "Epoch 93/100\n",
            "1688/1688 [==============================] - 3s 2ms/step - loss: 0.2574 - accuracy: 0.9277 - val_loss: 0.2818 - val_accuracy: 0.9208\n",
            "Epoch 94/100\n",
            "1688/1688 [==============================] - 3s 2ms/step - loss: 0.2571 - accuracy: 0.9283 - val_loss: 0.2816 - val_accuracy: 0.9237\n",
            "Epoch 95/100\n",
            "1688/1688 [==============================] - 3s 2ms/step - loss: 0.2569 - accuracy: 0.9281 - val_loss: 0.2813 - val_accuracy: 0.9228\n",
            "Epoch 96/100\n",
            "1688/1688 [==============================] - 3s 2ms/step - loss: 0.2568 - accuracy: 0.9280 - val_loss: 0.2813 - val_accuracy: 0.9220\n",
            "Epoch 97/100\n",
            "1688/1688 [==============================] - 3s 2ms/step - loss: 0.2566 - accuracy: 0.9282 - val_loss: 0.2813 - val_accuracy: 0.9235\n",
            "Epoch 98/100\n",
            "1688/1688 [==============================] - 3s 2ms/step - loss: 0.2564 - accuracy: 0.9281 - val_loss: 0.2809 - val_accuracy: 0.9223\n",
            "Epoch 99/100\n",
            "1688/1688 [==============================] - 3s 2ms/step - loss: 0.2562 - accuracy: 0.9282 - val_loss: 0.2809 - val_accuracy: 0.9233\n",
            "Epoch 100/100\n",
            "1688/1688 [==============================] - 3s 2ms/step - loss: 0.2560 - accuracy: 0.9281 - val_loss: 0.2814 - val_accuracy: 0.9228\n"
          ]
        }
      ]
    },
    {
      "cell_type": "code",
      "source": [
        "# вывод графика ошибки по эпохам\n",
        "plt.plot(H.history['loss'])\n",
        "plt.plot(H.history['val_loss'])\n",
        "plt.grid()\n",
        "plt.xlabel('Epochs')\n",
        "plt.ylabel('loss')\n",
        "plt.legend(['train_loss', 'val_loss'])\n",
        "plt.title('Loss by epochs')\n",
        "plt.show()"
      ],
      "metadata": {
        "colab": {
          "base_uri": "https://localhost:8080/",
          "height": 295
        },
        "id": "s8DKl4lmGMOs",
        "outputId": "e44ef4d2-dff7-4b9d-8813-3a96d2a15e7e"
      },
      "execution_count": null,
      "outputs": [
        {
          "output_type": "display_data",
          "data": {
            "text/plain": [
              "<Figure size 432x288 with 1 Axes>"
            ],
            "image/png": "[encoded data removed]"
          },
          "metadata": {
            "needs_background": "light"
          }
        }
      ]
    },
    {
      "cell_type": "code",
      "source": [
        "# Оценка качества работы модели на тестовых данных\n",
        "scores = model1.evaluate(X_test, y_test)\n",
        "print('Loss on test data:', scores[0])\n",
        "8\n",
        "print('Accuracy on test data:', scores[1])\n"
      ],
      "metadata": {
        "colab": {
          "base_uri": "https://localhost:8080/"
        },
        "id": "xFAxhoXPGhSP",
        "outputId": "d722b4f4-a153-4c40-f9d4-d65306862a5f"
      },
      "execution_count": null,
      "outputs": [
        {
          "output_type": "stream",
          "name": "stdout",
          "text": [
            "313/313 [==============================] - 0s 1ms/step - loss: 0.2801 - accuracy: 0.9256\n",
            "Loss on test data: 0.28006038069725037\n",
            "Accuracy on test data: 0.925599992275238\n"
          ]
        }
      ]
    },
    {
      "cell_type": "code",
      "source": [
        "# сохранение модели на диск в папку model1\n",
        "# В общем случае может быть указан произвольный путь\n",
        "model1.save('model1')"
      ],
      "metadata": {
        "id": "ZayXpEI-HPL3"
      },
      "execution_count": null,
      "outputs": []
    },
    {
      "cell_type": "code",
      "source": [
        "# Модель нейронной сети (кол-во скрытых слоев = 1, кол-во нейронов в скрытом слое = 100)\n",
        "# 1. создаем модель - объявляем ее объектом класса Sequential\n",
        "model_1h100 = Sequential()\n",
        "\n",
        "# 2. добавляем первый скрытый слой\n",
        "model_1h100.add(Dense(units=100, input_dim=num_pixels, activation='sigmoid'))\n",
        "\n",
        "# 3. добавляем выходной слой\n",
        "model_1h100.add(Dense(units=num_classes, activation='softmax'))\n",
        "\n",
        "# компилируем модель\n",
        "model_1h100.compile(loss='categorical_crossentropy', optimizer='sgd', metrics=['accuracy'])\n",
        "\n",
        "# вывод информации об архитектуре модели\n",
        "print(model_1h100.summary())"
      ],
      "metadata": {
        "colab": {
          "base_uri": "https://localhost:8080/"
        },
        "id": "KJQgaCKmS0Ju",
        "outputId": "ec77a67b-2940-4ab3-d33b-86aa3f5c0ed2"
      },
      "execution_count": null,
      "outputs": [
        {
          "output_type": "stream",
          "name": "stdout",
          "text": [
            "Model: \"sequential_2\"\n",
            "_________________________________________________________________\n",
            " Layer (type)                Output Shape              Param #   \n",
            "=================================================================\n",
            " dense_2 (Dense)             (None, 100)               78500     \n",
            "                                                                 \n",
            " dense_3 (Dense)             (None, 10)                1010      \n",
            "                                                                 \n",
            "=================================================================\n",
            "Total params: 79,510\n",
            "Trainable params: 79,510\n",
            "Non-trainable params: 0\n",
            "_________________________________________________________________\n",
            "None\n"
          ]
        }
      ]
    },
    {
      "cell_type": "code",
      "source": [
        "# Обучаем модель\n",
        "H = model_1h100.fit(X_train, y_train, validation_split=0.1, epochs=100)"
      ],
      "metadata": {
        "colab": {
          "base_uri": "https://localhost:8080/"
        },
        "id": "freDYEGWWNke",
        "outputId": "b15ef9e7-1f7e-4b73-ea7e-f22345503485"
      },
      "execution_count": null,
      "outputs": [
        {
          "output_type": "stream",
          "name": "stdout",
          "text": [
            "Epoch 1/100\n",
            "1688/1688 [==============================] - 5s 3ms/step - loss: 1.5103 - accuracy: 0.6815 - val_loss: 0.9706 - val_accuracy: 0.8183\n",
            "Epoch 2/100\n",
            "1688/1688 [==============================] - 4s 2ms/step - loss: 0.7543 - accuracy: 0.8419 - val_loss: 0.6324 - val_accuracy: 0.8595\n",
            "Epoch 3/100\n",
            "1688/1688 [==============================] - 4s 2ms/step - loss: 0.5546 - accuracy: 0.8687 - val_loss: 0.5126 - val_accuracy: 0.8750\n",
            "Epoch 4/100\n",
            "1688/1688 [==============================] - 4s 2ms/step - loss: 0.4700 - accuracy: 0.8818 - val_loss: 0.4519 - val_accuracy: 0.8842\n",
            "Epoch 5/100\n",
            "1688/1688 [==============================] - 4s 2ms/step - loss: 0.4227 - accuracy: 0.8897 - val_loss: 0.4152 - val_accuracy: 0.8898\n",
            "Epoch 6/100\n",
            "1688/1688 [==============================] - 4s 2ms/step - loss: 0.3925 - accuracy: 0.8946 - val_loss: 0.3897 - val_accuracy: 0.8965\n",
            "Epoch 7/100\n",
            "1688/1688 [==============================] - 5s 3ms/step - loss: 0.3710 - accuracy: 0.8991 - val_loss: 0.3708 - val_accuracy: 0.8983\n",
            "Epoch 8/100\n",
            "1688/1688 [==============================] - 5s 3ms/step - loss: 0.3548 - accuracy: 0.9021 - val_loss: 0.3565 - val_accuracy: 0.9018\n",
            "Epoch 9/100\n",
            "1688/1688 [==============================] - 4s 2ms/step - loss: 0.3419 - accuracy: 0.9046 - val_loss: 0.3453 - val_accuracy: 0.9022\n",
            "Epoch 10/100\n",
            "1688/1688 [==============================] - 4s 2ms/step - loss: 0.3313 - accuracy: 0.9066 - val_loss: 0.3357 - val_accuracy: 0.9037\n",
            "Epoch 11/100\n",
            "1688/1688 [==============================] - 4s 2ms/step - loss: 0.3223 - accuracy: 0.9093 - val_loss: 0.3264 - val_accuracy: 0.9057\n",
            "Epoch 12/100\n",
            "1688/1688 [==============================] - 4s 2ms/step - loss: 0.3145 - accuracy: 0.9107 - val_loss: 0.3195 - val_accuracy: 0.9087\n",
            "Epoch 13/100\n",
            "1688/1688 [==============================] - 4s 2ms/step - loss: 0.3077 - accuracy: 0.9124 - val_loss: 0.3126 - val_accuracy: 0.9098\n",
            "Epoch 14/100\n",
            "1688/1688 [==============================] - 4s 3ms/step - loss: 0.3015 - accuracy: 0.9143 - val_loss: 0.3076 - val_accuracy: 0.9105\n",
            "Epoch 15/100\n",
            "1688/1688 [==============================] - 4s 2ms/step - loss: 0.2958 - accuracy: 0.9161 - val_loss: 0.3026 - val_accuracy: 0.9128\n",
            "Epoch 16/100\n",
            "1688/1688 [==============================] - 6s 4ms/step - loss: 0.2907 - accuracy: 0.9168 - val_loss: 0.2971 - val_accuracy: 0.9138\n",
            "Epoch 17/100\n",
            "1688/1688 [==============================] - 5s 3ms/step - loss: 0.2858 - accuracy: 0.9183 - val_loss: 0.2922 - val_accuracy: 0.9158\n",
            "Epoch 18/100\n",
            "1688/1688 [==============================] - 5s 3ms/step - loss: 0.2813 - accuracy: 0.9195 - val_loss: 0.2895 - val_accuracy: 0.9163\n",
            "Epoch 19/100\n",
            "1688/1688 [==============================] - 6s 3ms/step - loss: 0.2771 - accuracy: 0.9204 - val_loss: 0.2842 - val_accuracy: 0.9183\n",
            "Epoch 20/100\n",
            "1688/1688 [==============================] - 6s 3ms/step - loss: 0.2730 - accuracy: 0.9220 - val_loss: 0.2809 - val_accuracy: 0.9183\n",
            "Epoch 21/100\n",
            "1688/1688 [==============================] - 5s 3ms/step - loss: 0.2690 - accuracy: 0.9227 - val_loss: 0.2768 - val_accuracy: 0.9195\n",
            "Epoch 22/100\n",
            "1688/1688 [==============================] - 6s 3ms/step - loss: 0.2652 - accuracy: 0.9239 - val_loss: 0.2739 - val_accuracy: 0.9210\n",
            "Epoch 23/100\n",
            "1688/1688 [==============================] - 5s 3ms/step - loss: 0.2616 - accuracy: 0.9246 - val_loss: 0.2700 - val_accuracy: 0.9215\n",
            "Epoch 24/100\n",
            "1688/1688 [==============================] - 6s 3ms/step - loss: 0.2581 - accuracy: 0.9259 - val_loss: 0.2671 - val_accuracy: 0.9213\n",
            "Epoch 25/100\n",
            "1688/1688 [==============================] - 5s 3ms/step - loss: 0.2546 - accuracy: 0.9266 - val_loss: 0.2644 - val_accuracy: 0.9232\n",
            "Epoch 26/100\n",
            "1688/1688 [==============================] - 5s 3ms/step - loss: 0.2513 - accuracy: 0.9275 - val_loss: 0.2608 - val_accuracy: 0.9232\n",
            "Epoch 27/100\n",
            "1688/1688 [==============================] - 5s 3ms/step - loss: 0.2480 - accuracy: 0.9282 - val_loss: 0.2581 - val_accuracy: 0.9233\n",
            "Epoch 28/100\n",
            "1688/1688 [==============================] - 5s 3ms/step - loss: 0.2449 - accuracy: 0.9287 - val_loss: 0.2543 - val_accuracy: 0.9268\n",
            "Epoch 29/100\n",
            "1688/1688 [==============================] - 5s 3ms/step - loss: 0.2418 - accuracy: 0.9301 - val_loss: 0.2514 - val_accuracy: 0.9283\n",
            "Epoch 30/100\n",
            "1688/1688 [==============================] - 5s 3ms/step - loss: 0.2387 - accuracy: 0.9311 - val_loss: 0.2496 - val_accuracy: 0.9270\n",
            "Epoch 31/100\n",
            "1688/1688 [==============================] - 5s 3ms/step - loss: 0.2358 - accuracy: 0.9318 - val_loss: 0.2472 - val_accuracy: 0.9277\n",
            "Epoch 32/100\n",
            "1688/1688 [==============================] - 5s 3ms/step - loss: 0.2329 - accuracy: 0.9326 - val_loss: 0.2434 - val_accuracy: 0.9308\n",
            "Epoch 33/100\n",
            "1688/1688 [==============================] - 5s 3ms/step - loss: 0.2300 - accuracy: 0.9334 - val_loss: 0.2410 - val_accuracy: 0.9300\n",
            "Epoch 34/100\n",
            "1688/1688 [==============================] - 6s 3ms/step - loss: 0.2273 - accuracy: 0.9341 - val_loss: 0.2384 - val_accuracy: 0.9310\n",
            "Epoch 35/100\n",
            "1688/1688 [==============================] - 6s 3ms/step - loss: 0.2245 - accuracy: 0.9355 - val_loss: 0.2364 - val_accuracy: 0.9312\n",
            "Epoch 36/100\n",
            "1688/1688 [==============================] - 6s 3ms/step - loss: 0.2218 - accuracy: 0.9357 - val_loss: 0.2345 - val_accuracy: 0.9330\n",
            "Epoch 37/100\n",
            "1688/1688 [==============================] - 6s 3ms/step - loss: 0.2192 - accuracy: 0.9368 - val_loss: 0.2311 - val_accuracy: 0.9322\n",
            "Epoch 38/100\n",
            "1688/1688 [==============================] - 5s 3ms/step - loss: 0.2166 - accuracy: 0.9377 - val_loss: 0.2290 - val_accuracy: 0.9347\n",
            "Epoch 39/100\n",
            "1688/1688 [==============================] - 6s 3ms/step - loss: 0.2140 - accuracy: 0.9376 - val_loss: 0.2262 - val_accuracy: 0.9345\n",
            "Epoch 40/100\n",
            "1688/1688 [==============================] - 6s 4ms/step - loss: 0.2116 - accuracy: 0.9388 - val_loss: 0.2238 - val_accuracy: 0.9353\n",
            "Epoch 41/100\n",
            "1688/1688 [==============================] - 5s 3ms/step - loss: 0.2092 - accuracy: 0.9392 - val_loss: 0.2212 - val_accuracy: 0.9363\n",
            "Epoch 42/100\n",
            "1688/1688 [==============================] - 5s 3ms/step - loss: 0.2069 - accuracy: 0.9401 - val_loss: 0.2195 - val_accuracy: 0.9365\n",
            "Epoch 43/100\n",
            "1688/1688 [==============================] - 5s 3ms/step - loss: 0.2045 - accuracy: 0.9409 - val_loss: 0.2173 - val_accuracy: 0.9380\n",
            "Epoch 44/100\n",
            "1688/1688 [==============================] - 5s 3ms/step - loss: 0.2022 - accuracy: 0.9414 - val_loss: 0.2152 - val_accuracy: 0.9383\n",
            "Epoch 45/100\n",
            "1688/1688 [==============================] - 4s 3ms/step - loss: 0.1999 - accuracy: 0.9424 - val_loss: 0.2137 - val_accuracy: 0.9387\n",
            "Epoch 46/100\n",
            "1688/1688 [==============================] - 4s 2ms/step - loss: 0.1979 - accuracy: 0.9429 - val_loss: 0.2118 - val_accuracy: 0.9400\n",
            "Epoch 47/100\n",
            "1688/1688 [==============================] - 4s 2ms/step - loss: 0.1957 - accuracy: 0.9436 - val_loss: 0.2098 - val_accuracy: 0.9403\n",
            "Epoch 48/100\n",
            "1688/1688 [==============================] - 4s 3ms/step - loss: 0.1936 - accuracy: 0.9443 - val_loss: 0.2078 - val_accuracy: 0.9410\n",
            "Epoch 49/100\n",
            "1688/1688 [==============================] - 4s 2ms/step - loss: 0.1916 - accuracy: 0.9447 - val_loss: 0.2062 - val_accuracy: 0.9415\n",
            "Epoch 50/100\n",
            "1688/1688 [==============================] - 4s 2ms/step - loss: 0.1895 - accuracy: 0.9454 - val_loss: 0.2036 - val_accuracy: 0.9412\n",
            "Epoch 51/100\n",
            "1688/1688 [==============================] - 4s 2ms/step - loss: 0.1876 - accuracy: 0.9459 - val_loss: 0.2017 - val_accuracy: 0.9418\n",
            "Epoch 52/100\n",
            "1688/1688 [==============================] - 4s 2ms/step - loss: 0.1855 - accuracy: 0.9466 - val_loss: 0.2004 - val_accuracy: 0.9413\n",
            "Epoch 53/100\n",
            "1688/1688 [==============================] - 4s 2ms/step - loss: 0.1837 - accuracy: 0.9473 - val_loss: 0.1986 - val_accuracy: 0.9437\n",
            "Epoch 54/100\n",
            "1688/1688 [==============================] - 4s 2ms/step - loss: 0.1818 - accuracy: 0.9476 - val_loss: 0.1968 - val_accuracy: 0.9442\n",
            "Epoch 55/100\n",
            "1688/1688 [==============================] - 4s 2ms/step - loss: 0.1800 - accuracy: 0.9484 - val_loss: 0.1951 - val_accuracy: 0.9438\n",
            "Epoch 56/100\n",
            "1688/1688 [==============================] - 4s 2ms/step - loss: 0.1782 - accuracy: 0.9488 - val_loss: 0.1933 - val_accuracy: 0.9447\n",
            "Epoch 57/100\n",
            "1688/1688 [==============================] - 5s 3ms/step - loss: 0.1764 - accuracy: 0.9497 - val_loss: 0.1919 - val_accuracy: 0.9452\n",
            "Epoch 58/100\n",
            "1688/1688 [==============================] - 5s 3ms/step - loss: 0.1747 - accuracy: 0.9501 - val_loss: 0.1903 - val_accuracy: 0.9448\n",
            "Epoch 59/100\n",
            "1688/1688 [==============================] - 5s 3ms/step - loss: 0.1730 - accuracy: 0.9504 - val_loss: 0.1891 - val_accuracy: 0.9450\n",
            "Epoch 60/100\n",
            "1688/1688 [==============================] - 5s 3ms/step - loss: 0.1712 - accuracy: 0.9511 - val_loss: 0.1874 - val_accuracy: 0.9455\n",
            "Epoch 61/100\n",
            "1688/1688 [==============================] - 5s 3ms/step - loss: 0.1697 - accuracy: 0.9515 - val_loss: 0.1860 - val_accuracy: 0.9460\n",
            "Epoch 62/100\n",
            "1688/1688 [==============================] - 5s 3ms/step - loss: 0.1681 - accuracy: 0.9521 - val_loss: 0.1846 - val_accuracy: 0.9458\n",
            "Epoch 63/100\n",
            "1688/1688 [==============================] - 5s 3ms/step - loss: 0.1665 - accuracy: 0.9524 - val_loss: 0.1833 - val_accuracy: 0.9470\n",
            "Epoch 64/100\n",
            "1688/1688 [==============================] - 5s 3ms/step - loss: 0.1650 - accuracy: 0.9532 - val_loss: 0.1815 - val_accuracy: 0.9465\n",
            "Epoch 65/100\n",
            "1688/1688 [==============================] - 5s 3ms/step - loss: 0.1634 - accuracy: 0.9534 - val_loss: 0.1802 - val_accuracy: 0.9468\n",
            "Epoch 66/100\n",
            "1688/1688 [==============================] - 5s 3ms/step - loss: 0.1619 - accuracy: 0.9538 - val_loss: 0.1790 - val_accuracy: 0.9477\n",
            "Epoch 67/100\n",
            "1688/1688 [==============================] - 5s 3ms/step - loss: 0.1605 - accuracy: 0.9545 - val_loss: 0.1780 - val_accuracy: 0.9480\n",
            "Epoch 68/100\n",
            "1688/1688 [==============================] - 5s 3ms/step - loss: 0.1590 - accuracy: 0.9549 - val_loss: 0.1766 - val_accuracy: 0.9483\n",
            "Epoch 69/100\n",
            "1688/1688 [==============================] - 5s 3ms/step - loss: 0.1576 - accuracy: 0.9553 - val_loss: 0.1758 - val_accuracy: 0.9483\n",
            "Epoch 70/100\n",
            "1688/1688 [==============================] - 5s 3ms/step - loss: 0.1562 - accuracy: 0.9557 - val_loss: 0.1743 - val_accuracy: 0.9492\n",
            "Epoch 71/100\n",
            "1688/1688 [==============================] - 5s 3ms/step - loss: 0.1548 - accuracy: 0.9563 - val_loss: 0.1730 - val_accuracy: 0.9490\n",
            "Epoch 72/100\n",
            "1688/1688 [==============================] - 5s 3ms/step - loss: 0.1535 - accuracy: 0.9562 - val_loss: 0.1719 - val_accuracy: 0.9503\n",
            "Epoch 73/100\n",
            "1688/1688 [==============================] - 5s 3ms/step - loss: 0.1521 - accuracy: 0.9567 - val_loss: 0.1699 - val_accuracy: 0.9500\n",
            "Epoch 74/100\n",
            "1688/1688 [==============================] - 7s 4ms/step - loss: 0.1509 - accuracy: 0.9574 - val_loss: 0.1688 - val_accuracy: 0.9497\n",
            "Epoch 75/100\n",
            "1688/1688 [==============================] - 5s 3ms/step - loss: 0.1496 - accuracy: 0.9573 - val_loss: 0.1683 - val_accuracy: 0.9507\n",
            "Epoch 76/100\n",
            "1688/1688 [==============================] - 5s 3ms/step - loss: 0.1483 - accuracy: 0.9579 - val_loss: 0.1674 - val_accuracy: 0.9503\n",
            "Epoch 77/100\n",
            "1688/1688 [==============================] - 5s 3ms/step - loss: 0.1470 - accuracy: 0.9583 - val_loss: 0.1669 - val_accuracy: 0.9507\n",
            "Epoch 78/100\n",
            "1688/1688 [==============================] - 5s 3ms/step - loss: 0.1457 - accuracy: 0.9586 - val_loss: 0.1644 - val_accuracy: 0.9513\n",
            "Epoch 79/100\n",
            "1688/1688 [==============================] - 5s 3ms/step - loss: 0.1447 - accuracy: 0.9591 - val_loss: 0.1637 - val_accuracy: 0.9512\n",
            "Epoch 80/100\n",
            "1688/1688 [==============================] - 5s 3ms/step - loss: 0.1435 - accuracy: 0.9591 - val_loss: 0.1624 - val_accuracy: 0.9527\n",
            "Epoch 81/100\n",
            "1688/1688 [==============================] - 5s 3ms/step - loss: 0.1423 - accuracy: 0.9598 - val_loss: 0.1616 - val_accuracy: 0.9518\n",
            "Epoch 82/100\n",
            "1688/1688 [==============================] - 5s 3ms/step - loss: 0.1411 - accuracy: 0.9600 - val_loss: 0.1608 - val_accuracy: 0.9515\n",
            "Epoch 83/100\n",
            "1688/1688 [==============================] - 5s 3ms/step - loss: 0.1400 - accuracy: 0.9601 - val_loss: 0.1596 - val_accuracy: 0.9523\n",
            "Epoch 84/100\n",
            "1688/1688 [==============================] - 5s 3ms/step - loss: 0.1389 - accuracy: 0.9607 - val_loss: 0.1588 - val_accuracy: 0.9520\n",
            "Epoch 85/100\n",
            "1688/1688 [==============================] - 5s 3ms/step - loss: 0.1378 - accuracy: 0.9610 - val_loss: 0.1578 - val_accuracy: 0.9528\n",
            "Epoch 86/100\n",
            "1688/1688 [==============================] - 5s 3ms/step - loss: 0.1367 - accuracy: 0.9610 - val_loss: 0.1572 - val_accuracy: 0.9543\n",
            "Epoch 87/100\n",
            "1688/1688 [==============================] - 5s 3ms/step - loss: 0.1357 - accuracy: 0.9618 - val_loss: 0.1558 - val_accuracy: 0.9537\n",
            "Epoch 88/100\n",
            "1688/1688 [==============================] - 5s 3ms/step - loss: 0.1346 - accuracy: 0.9618 - val_loss: 0.1552 - val_accuracy: 0.9538\n",
            "Epoch 89/100\n",
            "1688/1688 [==============================] - 5s 3ms/step - loss: 0.1336 - accuracy: 0.9621 - val_loss: 0.1540 - val_accuracy: 0.9537\n",
            "Epoch 90/100\n",
            "1688/1688 [==============================] - 5s 3ms/step - loss: 0.1326 - accuracy: 0.9626 - val_loss: 0.1534 - val_accuracy: 0.9550\n",
            "Epoch 91/100\n",
            "1688/1688 [==============================] - 4s 3ms/step - loss: 0.1316 - accuracy: 0.9627 - val_loss: 0.1519 - val_accuracy: 0.9542\n",
            "Epoch 92/100\n",
            "1688/1688 [==============================] - 5s 3ms/step - loss: 0.1306 - accuracy: 0.9629 - val_loss: 0.1513 - val_accuracy: 0.9558\n",
            "Epoch 93/100\n",
            "1688/1688 [==============================] - 5s 3ms/step - loss: 0.1296 - accuracy: 0.9632 - val_loss: 0.1507 - val_accuracy: 0.9558\n",
            "Epoch 94/100\n",
            "1688/1688 [==============================] - 6s 3ms/step - loss: 0.1286 - accuracy: 0.9637 - val_loss: 0.1496 - val_accuracy: 0.9557\n",
            "Epoch 95/100\n",
            "1688/1688 [==============================] - 5s 3ms/step - loss: 0.1278 - accuracy: 0.9640 - val_loss: 0.1490 - val_accuracy: 0.9560\n",
            "Epoch 96/100\n",
            "1688/1688 [==============================] - 5s 3ms/step - loss: 0.1267 - accuracy: 0.9641 - val_loss: 0.1479 - val_accuracy: 0.9563\n",
            "Epoch 97/100\n",
            "1688/1688 [==============================] - 5s 3ms/step - loss: 0.1259 - accuracy: 0.9643 - val_loss: 0.1479 - val_accuracy: 0.9557\n",
            "Epoch 98/100\n",
            "1688/1688 [==============================] - 5s 3ms/step - loss: 0.1250 - accuracy: 0.9647 - val_loss: 0.1465 - val_accuracy: 0.9570\n",
            "Epoch 99/100\n",
            "1688/1688 [==============================] - 5s 3ms/step - loss: 0.1241 - accuracy: 0.9647 - val_loss: 0.1457 - val_accuracy: 0.9565\n",
            "Epoch 100/100\n",
            "1688/1688 [==============================] - 5s 3ms/step - loss: 0.1232 - accuracy: 0.9654 - val_loss: 0.1456 - val_accuracy: 0.9568\n"
          ]
        }
      ]
    },
    {
      "cell_type": "code",
      "source": [
        "# вывод графика ошибки по эпохам\n",
        "plt.plot(H.history['loss'])\n",
        "plt.plot(H.history['val_loss'])\n",
        "plt.grid()\n",
        "plt.xlabel('Epochs')\n",
        "plt.ylabel('loss')\n",
        "plt.legend(['train_loss', 'val_loss'])\n",
        "plt.title('Loss by epochs')\n",
        "plt.show()"
      ],
      "metadata": {
        "colab": {
          "base_uri": "https://localhost:8080/",
          "height": 295
        },
        "id": "Wt5Kvu1IYoLa",
        "outputId": "1e378ecd-0b14-404a-a818-c89c9e25c894"
      },
      "execution_count": null,
      "outputs": [
        {
          "output_type": "display_data",
          "data": {
            "text/plain": [
              "<Figure size 432x288 with 1 Axes>"
            ],
            "image/png": "[encoded data removed]"
          },
          "metadata": {
            "needs_background": "light"
          }
        }
      ]
    },
    {
      "cell_type": "code",
      "source": [
        "# Оценка качества работы модели на тестовых данных\n",
        "scores = model_1h100.evaluate(X_test, y_test)\n",
        "print('Loss on test data:', scores[0])\n",
        "print('Accuracy on test data:', scores[1])"
      ],
      "metadata": {
        "colab": {
          "base_uri": "https://localhost:8080/"
        },
        "id": "TIVVGW-KYx8s",
        "outputId": "fb431dd8-5bbe-4c4e-f8fd-ad1edfe7e97f"
      },
      "execution_count": null,
      "outputs": [
        {
          "output_type": "stream",
          "name": "stdout",
          "text": [
            "313/313 [==============================] - 1s 2ms/step - loss: 0.1466 - accuracy: 0.9573\n",
            "Loss on test data: 0.14656580984592438\n",
            "Accuracy on test data: 0.9573000073432922\n"
          ]
        }
      ]
    },
    {
      "cell_type": "code",
      "source": [
        "# сохранение модели на диск в папку model_1h100\n",
        "model_1h100.save('model_1h100')"
      ],
      "metadata": {
        "id": "WqWDAKbEbLI6"
      },
      "execution_count": null,
      "outputs": []
    },
    {
      "cell_type": "code",
      "source": [
        "# Модель нейронной сети (кол-во скрытых слоев = 1, кол-во нейронов в скрытом слое = 300)\n",
        "# 1. создаем модель - объявляем ее объектом класса Sequential\n",
        "model_1h300 = Sequential()\n",
        "\n",
        "# 2. добавляем первый скрытый слой\n",
        "model_1h300.add(Dense(units=300, input_dim=num_pixels, activation='sigmoid'))\n",
        "\n",
        "# 3. добавляем выходной слой\n",
        "model_1h300.add(Dense(units=num_classes, activation='softmax'))\n",
        "\n",
        "# компилируем модель\n",
        "model_1h300.compile(loss='categorical_crossentropy', optimizer='sgd', metrics=['accuracy'])\n",
        "\n",
        "# вывод информации об архитектуре модели\n",
        "print(model_1h300.summary())"
      ],
      "metadata": {
        "colab": {
          "base_uri": "https://localhost:8080/"
        },
        "id": "XdpzV9tRbWlH",
        "outputId": "1416c7d3-a4df-43d0-e17c-805dae11c0dd"
      },
      "execution_count": null,
      "outputs": [
        {
          "output_type": "stream",
          "name": "stdout",
          "text": [
            "Model: \"sequential_3\"\n",
            "_________________________________________________________________\n",
            " Layer (type)                Output Shape              Param #   \n",
            "=================================================================\n",
            " dense_4 (Dense)             (None, 300)               235500    \n",
            "                                                                 \n",
            " dense_5 (Dense)             (None, 10)                3010      \n",
            "                                                                 \n",
            "=================================================================\n",
            "Total params: 238,510\n",
            "Trainable params: 238,510\n",
            "Non-trainable params: 0\n",
            "_________________________________________________________________\n",
            "None\n"
          ]
        }
      ]
    },
    {
      "cell_type": "code",
      "source": [
        "# Обучаем модель\n",
        "H = model_1h300.fit(X_train, y_train, validation_split=0.1, epochs=100)"
      ],
      "metadata": {
        "colab": {
          "base_uri": "https://localhost:8080/"
        },
        "id": "Apd3DifVdoKt",
        "outputId": "1f96a827-cccb-46f9-c3d2-e8e4716c8bb5"
      },
      "execution_count": null,
      "outputs": [
        {
          "output_type": "stream",
          "name": "stdout",
          "text": [
            "Epoch 1/100\n",
            "1688/1688 [==============================] - 6s 4ms/step - loss: 1.3972 - accuracy: 0.7017 - val_loss: 0.8727 - val_accuracy: 0.8142\n",
            "Epoch 2/100\n",
            "1688/1688 [==============================] - 6s 3ms/step - loss: 0.6834 - accuracy: 0.8478 - val_loss: 0.5823 - val_accuracy: 0.8647\n",
            "Epoch 3/100\n",
            "1688/1688 [==============================] - 6s 3ms/step - loss: 0.5151 - accuracy: 0.8721 - val_loss: 0.4827 - val_accuracy: 0.8818\n",
            "Epoch 4/100\n",
            "1688/1688 [==============================] - 6s 4ms/step - loss: 0.4441 - accuracy: 0.8841 - val_loss: 0.4330 - val_accuracy: 0.8863\n",
            "Epoch 5/100\n",
            "1688/1688 [==============================] - 6s 3ms/step - loss: 0.4050 - accuracy: 0.8903 - val_loss: 0.4022 - val_accuracy: 0.8927\n",
            "Epoch 6/100\n",
            "1688/1688 [==============================] - 6s 4ms/step - loss: 0.3798 - accuracy: 0.8948 - val_loss: 0.3828 - val_accuracy: 0.8925\n",
            "Epoch 7/100\n",
            "1688/1688 [==============================] - 6s 4ms/step - loss: 0.3625 - accuracy: 0.8987 - val_loss: 0.3663 - val_accuracy: 0.8972\n",
            "Epoch 8/100\n",
            "1688/1688 [==============================] - 6s 3ms/step - loss: 0.3494 - accuracy: 0.9016 - val_loss: 0.3540 - val_accuracy: 0.8990\n",
            "Epoch 9/100\n",
            "1688/1688 [==============================] - 6s 3ms/step - loss: 0.3389 - accuracy: 0.9039 - val_loss: 0.3449 - val_accuracy: 0.9013\n",
            "Epoch 10/100\n",
            "1688/1688 [==============================] - 6s 3ms/step - loss: 0.3306 - accuracy: 0.9057 - val_loss: 0.3378 - val_accuracy: 0.9033\n",
            "Epoch 11/100\n",
            "1688/1688 [==============================] - 7s 4ms/step - loss: 0.3233 - accuracy: 0.9076 - val_loss: 0.3306 - val_accuracy: 0.9058\n",
            "Epoch 12/100\n",
            "1688/1688 [==============================] - 7s 4ms/step - loss: 0.3171 - accuracy: 0.9095 - val_loss: 0.3241 - val_accuracy: 0.9058\n",
            "Epoch 13/100\n",
            "1688/1688 [==============================] - 7s 4ms/step - loss: 0.3119 - accuracy: 0.9109 - val_loss: 0.3208 - val_accuracy: 0.9063\n",
            "Epoch 14/100\n",
            "1688/1688 [==============================] - 7s 4ms/step - loss: 0.3072 - accuracy: 0.9116 - val_loss: 0.3162 - val_accuracy: 0.9083\n",
            "Epoch 15/100\n",
            "1688/1688 [==============================] - 8s 5ms/step - loss: 0.3027 - accuracy: 0.9133 - val_loss: 0.3105 - val_accuracy: 0.9093\n",
            "Epoch 16/100\n",
            "1688/1688 [==============================] - 7s 4ms/step - loss: 0.2992 - accuracy: 0.9145 - val_loss: 0.3072 - val_accuracy: 0.9100\n",
            "Epoch 17/100\n",
            "1688/1688 [==============================] - 7s 4ms/step - loss: 0.2953 - accuracy: 0.9155 - val_loss: 0.3057 - val_accuracy: 0.9110\n",
            "Epoch 18/100\n",
            "1688/1688 [==============================] - 7s 4ms/step - loss: 0.2918 - accuracy: 0.9161 - val_loss: 0.3023 - val_accuracy: 0.9125\n",
            "Epoch 19/100\n",
            "1688/1688 [==============================] - 7s 4ms/step - loss: 0.2888 - accuracy: 0.9171 - val_loss: 0.3009 - val_accuracy: 0.9132\n",
            "Epoch 20/100\n",
            "1688/1688 [==============================] - 7s 4ms/step - loss: 0.2858 - accuracy: 0.9181 - val_loss: 0.2962 - val_accuracy: 0.9148\n",
            "Epoch 21/100\n",
            "1688/1688 [==============================] - 7s 4ms/step - loss: 0.2828 - accuracy: 0.9193 - val_loss: 0.2932 - val_accuracy: 0.9153\n",
            "Epoch 22/100\n",
            "1688/1688 [==============================] - 7s 4ms/step - loss: 0.2800 - accuracy: 0.9198 - val_loss: 0.2906 - val_accuracy: 0.9165\n",
            "Epoch 23/100\n",
            "1688/1688 [==============================] - 7s 4ms/step - loss: 0.2775 - accuracy: 0.9205 - val_loss: 0.2877 - val_accuracy: 0.9163\n",
            "Epoch 24/100\n",
            "1688/1688 [==============================] - 7s 4ms/step - loss: 0.2750 - accuracy: 0.9211 - val_loss: 0.2861 - val_accuracy: 0.9183\n",
            "Epoch 25/100\n",
            "1688/1688 [==============================] - 7s 4ms/step - loss: 0.2725 - accuracy: 0.9219 - val_loss: 0.2833 - val_accuracy: 0.9180\n",
            "Epoch 26/100\n",
            "1688/1688 [==============================] - 7s 4ms/step - loss: 0.2700 - accuracy: 0.9223 - val_loss: 0.2817 - val_accuracy: 0.9183\n",
            "Epoch 27/100\n",
            "1688/1688 [==============================] - 7s 4ms/step - loss: 0.2674 - accuracy: 0.9231 - val_loss: 0.2785 - val_accuracy: 0.9202\n",
            "Epoch 28/100\n",
            "1688/1688 [==============================] - 7s 4ms/step - loss: 0.2650 - accuracy: 0.9239 - val_loss: 0.2778 - val_accuracy: 0.9212\n",
            "Epoch 29/100\n",
            "1688/1688 [==============================] - 7s 4ms/step - loss: 0.2627 - accuracy: 0.9242 - val_loss: 0.2758 - val_accuracy: 0.9208\n",
            "Epoch 30/100\n",
            "1688/1688 [==============================] - 7s 4ms/step - loss: 0.2604 - accuracy: 0.9251 - val_loss: 0.2729 - val_accuracy: 0.9208\n",
            "Epoch 31/100\n",
            "1688/1688 [==============================] - 7s 4ms/step - loss: 0.2580 - accuracy: 0.9258 - val_loss: 0.2726 - val_accuracy: 0.9223\n",
            "Epoch 32/100\n",
            "1688/1688 [==============================] - 7s 4ms/step - loss: 0.2557 - accuracy: 0.9266 - val_loss: 0.2686 - val_accuracy: 0.9243\n",
            "Epoch 33/100\n",
            "1688/1688 [==============================] - 7s 4ms/step - loss: 0.2534 - accuracy: 0.9275 - val_loss: 0.2681 - val_accuracy: 0.9233\n",
            "Epoch 34/100\n",
            "1688/1688 [==============================] - 7s 4ms/step - loss: 0.2512 - accuracy: 0.9281 - val_loss: 0.2645 - val_accuracy: 0.9240\n",
            "Epoch 35/100\n",
            "1688/1688 [==============================] - 7s 4ms/step - loss: 0.2490 - accuracy: 0.9286 - val_loss: 0.2623 - val_accuracy: 0.9250\n",
            "Epoch 36/100\n",
            "1688/1688 [==============================] - 7s 4ms/step - loss: 0.2468 - accuracy: 0.9291 - val_loss: 0.2601 - val_accuracy: 0.9258\n",
            "Epoch 37/100\n",
            "1688/1688 [==============================] - 7s 4ms/step - loss: 0.2445 - accuracy: 0.9293 - val_loss: 0.2583 - val_accuracy: 0.9252\n",
            "Epoch 38/100\n",
            "1688/1688 [==============================] - 8s 5ms/step - loss: 0.2423 - accuracy: 0.9303 - val_loss: 0.2569 - val_accuracy: 0.9262\n",
            "Epoch 39/100\n",
            "1688/1688 [==============================] - 7s 4ms/step - loss: 0.2399 - accuracy: 0.9314 - val_loss: 0.2558 - val_accuracy: 0.9260\n",
            "Epoch 40/100\n",
            "1688/1688 [==============================] - 7s 4ms/step - loss: 0.2376 - accuracy: 0.9320 - val_loss: 0.2517 - val_accuracy: 0.9258\n",
            "Epoch 41/100\n",
            "1688/1688 [==============================] - 7s 4ms/step - loss: 0.2354 - accuracy: 0.9324 - val_loss: 0.2512 - val_accuracy: 0.9278\n",
            "Epoch 42/100\n",
            "1688/1688 [==============================] - 7s 4ms/step - loss: 0.2333 - accuracy: 0.9335 - val_loss: 0.2478 - val_accuracy: 0.9280\n",
            "Epoch 43/100\n",
            "1688/1688 [==============================] - 7s 4ms/step - loss: 0.2310 - accuracy: 0.9341 - val_loss: 0.2471 - val_accuracy: 0.9290\n",
            "Epoch 44/100\n",
            "1688/1688 [==============================] - 7s 4ms/step - loss: 0.2289 - accuracy: 0.9345 - val_loss: 0.2448 - val_accuracy: 0.9295\n",
            "Epoch 45/100\n",
            "1688/1688 [==============================] - 7s 4ms/step - loss: 0.2267 - accuracy: 0.9352 - val_loss: 0.2420 - val_accuracy: 0.9303\n",
            "Epoch 46/100\n",
            "1688/1688 [==============================] - 7s 4ms/step - loss: 0.2244 - accuracy: 0.9359 - val_loss: 0.2398 - val_accuracy: 0.9310\n",
            "Epoch 47/100\n",
            "1688/1688 [==============================] - 7s 4ms/step - loss: 0.2223 - accuracy: 0.9362 - val_loss: 0.2396 - val_accuracy: 0.9310\n",
            "Epoch 48/100\n",
            "1688/1688 [==============================] - 7s 4ms/step - loss: 0.2202 - accuracy: 0.9370 - val_loss: 0.2384 - val_accuracy: 0.9323\n",
            "Epoch 49/100\n",
            "1688/1688 [==============================] - 7s 4ms/step - loss: 0.2180 - accuracy: 0.9374 - val_loss: 0.2337 - val_accuracy: 0.9312\n",
            "Epoch 50/100\n",
            "1688/1688 [==============================] - 7s 4ms/step - loss: 0.2159 - accuracy: 0.9385 - val_loss: 0.2324 - val_accuracy: 0.9327\n",
            "Epoch 51/100\n",
            "1688/1688 [==============================] - 7s 4ms/step - loss: 0.2139 - accuracy: 0.9389 - val_loss: 0.2300 - val_accuracy: 0.9333\n",
            "Epoch 52/100\n",
            "1688/1688 [==============================] - 7s 4ms/step - loss: 0.2117 - accuracy: 0.9396 - val_loss: 0.2283 - val_accuracy: 0.9338\n",
            "Epoch 53/100\n",
            "1688/1688 [==============================] - 7s 4ms/step - loss: 0.2095 - accuracy: 0.9398 - val_loss: 0.2273 - val_accuracy: 0.9343\n",
            "Epoch 54/100\n",
            "1688/1688 [==============================] - 7s 4ms/step - loss: 0.2075 - accuracy: 0.9406 - val_loss: 0.2260 - val_accuracy: 0.9353\n",
            "Epoch 55/100\n",
            "1688/1688 [==============================] - 7s 4ms/step - loss: 0.2056 - accuracy: 0.9407 - val_loss: 0.2227 - val_accuracy: 0.9352\n",
            "Epoch 56/100\n",
            "1688/1688 [==============================] - 7s 4ms/step - loss: 0.2035 - accuracy: 0.9416 - val_loss: 0.2227 - val_accuracy: 0.9358\n",
            "Epoch 57/100\n",
            "1688/1688 [==============================] - 7s 4ms/step - loss: 0.2015 - accuracy: 0.9426 - val_loss: 0.2188 - val_accuracy: 0.9370\n",
            "Epoch 58/100\n",
            "1688/1688 [==============================] - 7s 4ms/step - loss: 0.1996 - accuracy: 0.9433 - val_loss: 0.2179 - val_accuracy: 0.9387\n",
            "Epoch 59/100\n",
            "1688/1688 [==============================] - 7s 4ms/step - loss: 0.1976 - accuracy: 0.9434 - val_loss: 0.2152 - val_accuracy: 0.9385\n",
            "Epoch 60/100\n",
            "1688/1688 [==============================] - 7s 4ms/step - loss: 0.1957 - accuracy: 0.9440 - val_loss: 0.2147 - val_accuracy: 0.9390\n",
            "Epoch 61/100\n",
            "1688/1688 [==============================] - 8s 5ms/step - loss: 0.1939 - accuracy: 0.9445 - val_loss: 0.2114 - val_accuracy: 0.9393\n",
            "Epoch 62/100\n",
            "1688/1688 [==============================] - 7s 4ms/step - loss: 0.1919 - accuracy: 0.9455 - val_loss: 0.2107 - val_accuracy: 0.9398\n",
            "Epoch 63/100\n",
            "1688/1688 [==============================] - 7s 4ms/step - loss: 0.1903 - accuracy: 0.9458 - val_loss: 0.2092 - val_accuracy: 0.9388\n",
            "Epoch 64/100\n",
            "1688/1688 [==============================] - 7s 4ms/step - loss: 0.1884 - accuracy: 0.9465 - val_loss: 0.2073 - val_accuracy: 0.9400\n",
            "Epoch 65/100\n",
            "1688/1688 [==============================] - 7s 4ms/step - loss: 0.1867 - accuracy: 0.9473 - val_loss: 0.2049 - val_accuracy: 0.9410\n",
            "Epoch 66/100\n",
            "1688/1688 [==============================] - 7s 4ms/step - loss: 0.1848 - accuracy: 0.9471 - val_loss: 0.2041 - val_accuracy: 0.9412\n",
            "Epoch 67/100\n",
            "1688/1688 [==============================] - 7s 4ms/step - loss: 0.1832 - accuracy: 0.9476 - val_loss: 0.2021 - val_accuracy: 0.9418\n",
            "Epoch 68/100\n",
            "1688/1688 [==============================] - 7s 4ms/step - loss: 0.1815 - accuracy: 0.9481 - val_loss: 0.2004 - val_accuracy: 0.9432\n",
            "Epoch 69/100\n",
            "1688/1688 [==============================] - 7s 4ms/step - loss: 0.1797 - accuracy: 0.9489 - val_loss: 0.1991 - val_accuracy: 0.9432\n",
            "Epoch 70/100\n",
            "1688/1688 [==============================] - 8s 4ms/step - loss: 0.1781 - accuracy: 0.9496 - val_loss: 0.1975 - val_accuracy: 0.9448\n",
            "Epoch 71/100\n",
            "1688/1688 [==============================] - 7s 4ms/step - loss: 0.1764 - accuracy: 0.9499 - val_loss: 0.1961 - val_accuracy: 0.9435\n",
            "Epoch 72/100\n",
            "1688/1688 [==============================] - 7s 4ms/step - loss: 0.1747 - accuracy: 0.9503 - val_loss: 0.1954 - val_accuracy: 0.9427\n",
            "Epoch 73/100\n",
            "1688/1688 [==============================] - 7s 4ms/step - loss: 0.1733 - accuracy: 0.9509 - val_loss: 0.1927 - val_accuracy: 0.9453\n",
            "Epoch 74/100\n",
            "1688/1688 [==============================] - 7s 4ms/step - loss: 0.1716 - accuracy: 0.9512 - val_loss: 0.1928 - val_accuracy: 0.9450\n",
            "Epoch 75/100\n",
            "1688/1688 [==============================] - 7s 4ms/step - loss: 0.1700 - accuracy: 0.9519 - val_loss: 0.1901 - val_accuracy: 0.9458\n",
            "Epoch 76/100\n",
            "1688/1688 [==============================] - 7s 4ms/step - loss: 0.1685 - accuracy: 0.9520 - val_loss: 0.1894 - val_accuracy: 0.9458\n",
            "Epoch 77/100\n",
            "1688/1688 [==============================] - 7s 4ms/step - loss: 0.1670 - accuracy: 0.9527 - val_loss: 0.1880 - val_accuracy: 0.9460\n",
            "Epoch 78/100\n",
            "1688/1688 [==============================] - 7s 4ms/step - loss: 0.1656 - accuracy: 0.9531 - val_loss: 0.1852 - val_accuracy: 0.9478\n",
            "Epoch 79/100\n",
            "1688/1688 [==============================] - 7s 4ms/step - loss: 0.1641 - accuracy: 0.9533 - val_loss: 0.1837 - val_accuracy: 0.9483\n",
            "Epoch 80/100\n",
            "1688/1688 [==============================] - 7s 4ms/step - loss: 0.1627 - accuracy: 0.9542 - val_loss: 0.1830 - val_accuracy: 0.9473\n",
            "Epoch 81/100\n",
            "1688/1688 [==============================] - 7s 4ms/step - loss: 0.1613 - accuracy: 0.9546 - val_loss: 0.1827 - val_accuracy: 0.9478\n",
            "Epoch 82/100\n",
            "1688/1688 [==============================] - 7s 4ms/step - loss: 0.1598 - accuracy: 0.9548 - val_loss: 0.1810 - val_accuracy: 0.9482\n",
            "Epoch 83/100\n",
            "1688/1688 [==============================] - 8s 5ms/step - loss: 0.1585 - accuracy: 0.9552 - val_loss: 0.1797 - val_accuracy: 0.9483\n",
            "Epoch 84/100\n",
            "1688/1688 [==============================] - 7s 4ms/step - loss: 0.1571 - accuracy: 0.9555 - val_loss: 0.1776 - val_accuracy: 0.9488\n",
            "Epoch 85/100\n",
            "1688/1688 [==============================] - 7s 4ms/step - loss: 0.1558 - accuracy: 0.9562 - val_loss: 0.1760 - val_accuracy: 0.9508\n",
            "Epoch 86/100\n",
            "1688/1688 [==============================] - 7s 4ms/step - loss: 0.1545 - accuracy: 0.9566 - val_loss: 0.1758 - val_accuracy: 0.9493\n",
            "Epoch 87/100\n",
            "1688/1688 [==============================] - 7s 4ms/step - loss: 0.1533 - accuracy: 0.9569 - val_loss: 0.1747 - val_accuracy: 0.9503\n",
            "Epoch 88/100\n",
            "1688/1688 [==============================] - 7s 4ms/step - loss: 0.1520 - accuracy: 0.9568 - val_loss: 0.1740 - val_accuracy: 0.9505\n",
            "Epoch 89/100\n",
            "1688/1688 [==============================] - 7s 4ms/step - loss: 0.1506 - accuracy: 0.9574 - val_loss: 0.1720 - val_accuracy: 0.9515\n",
            "Epoch 90/100\n",
            "1688/1688 [==============================] - 7s 4ms/step - loss: 0.1495 - accuracy: 0.9576 - val_loss: 0.1710 - val_accuracy: 0.9515\n",
            "Epoch 91/100\n",
            "1688/1688 [==============================] - 7s 4ms/step - loss: 0.1483 - accuracy: 0.9581 - val_loss: 0.1711 - val_accuracy: 0.9505\n",
            "Epoch 92/100\n",
            "1688/1688 [==============================] - 7s 4ms/step - loss: 0.1471 - accuracy: 0.9585 - val_loss: 0.1694 - val_accuracy: 0.9512\n",
            "Epoch 93/100\n",
            "1688/1688 [==============================] - 7s 4ms/step - loss: 0.1457 - accuracy: 0.9586 - val_loss: 0.1704 - val_accuracy: 0.9492\n",
            "Epoch 94/100\n",
            "1688/1688 [==============================] - 7s 4ms/step - loss: 0.1447 - accuracy: 0.9589 - val_loss: 0.1668 - val_accuracy: 0.9517\n",
            "Epoch 95/100\n",
            "1688/1688 [==============================] - 7s 4ms/step - loss: 0.1435 - accuracy: 0.9591 - val_loss: 0.1660 - val_accuracy: 0.9515\n",
            "Epoch 96/100\n",
            "1688/1688 [==============================] - 7s 4ms/step - loss: 0.1423 - accuracy: 0.9597 - val_loss: 0.1651 - val_accuracy: 0.9527\n",
            "Epoch 97/100\n",
            "1688/1688 [==============================] - 7s 4ms/step - loss: 0.1412 - accuracy: 0.9600 - val_loss: 0.1640 - val_accuracy: 0.9530\n",
            "Epoch 98/100\n",
            "1688/1688 [==============================] - 7s 4ms/step - loss: 0.1402 - accuracy: 0.9600 - val_loss: 0.1630 - val_accuracy: 0.9525\n",
            "Epoch 99/100\n",
            "1688/1688 [==============================] - 7s 4ms/step - loss: 0.1389 - accuracy: 0.9605 - val_loss: 0.1619 - val_accuracy: 0.9523\n",
            "Epoch 100/100\n",
            "1688/1688 [==============================] - 7s 4ms/step - loss: 0.1380 - accuracy: 0.9607 - val_loss: 0.1616 - val_accuracy: 0.9530\n"
          ]
        }
      ]
    },
    {
      "cell_type": "code",
      "source": [
        "# вывод графика ошибки по эпохам\n",
        "plt.plot(H.history['loss'])\n",
        "plt.plot(H.history['val_loss'])\n",
        "plt.grid()\n",
        "plt.xlabel('Epochs')\n",
        "plt.ylabel('loss')\n",
        "plt.legend(['train_loss', 'val_loss'])\n",
        "plt.title('Loss by epochs')\n",
        "plt.show()"
      ],
      "metadata": {
        "colab": {
          "base_uri": "https://localhost:8080/",
          "height": 295
        },
        "id": "AMrX1si1gfkY",
        "outputId": "d89c04db-5d74-41da-be38-bcaf54740ddb"
      },
      "execution_count": null,
      "outputs": [
        {
          "output_type": "display_data",
          "data": {
            "text/plain": [
              "<Figure size 432x288 with 1 Axes>"
            ],
            "image/png": "[encoded data removed]"
          },
          "metadata": {
            "needs_background": "light"
          }
        }
      ]
    },
    {
      "cell_type": "code",
      "source": [
        "# Оценка качества работы модели на тестовых данных\n",
        "scores = model_1h300.evaluate(X_test, y_test)\n",
        "print('Loss on test data:', scores[0])\n",
        "print('Accuracy on test data:', scores[1])"
      ],
      "metadata": {
        "colab": {
          "base_uri": "https://localhost:8080/"
        },
        "id": "AXir_5uRgk2X",
        "outputId": "1be7372b-2260-493a-d362-c88abb6b18f8"
      },
      "execution_count": null,
      "outputs": [
        {
          "output_type": "stream",
          "name": "stdout",
          "text": [
            "313/313 [==============================] - 1s 2ms/step - loss: 0.1615 - accuracy: 0.9547\n",
            "Loss on test data: 0.1615411788225174\n",
            "Accuracy on test data: 0.9546999931335449\n"
          ]
        }
      ]
    },
    {
      "cell_type": "code",
      "source": [
        "# Модель нейронной сети (кол-во скрытых слоев = 1, кол-во нейронов в скрытом слое = 500)\n",
        "# 1. создаем модель - объявляем ее объектом класса Sequential\n",
        "model_1h500 = Sequential()\n",
        "\n",
        "# 2. добавляем первый скрытый слой\n",
        "model_1h500.add(Dense(units=500, input_dim=num_pixels, activation='sigmoid'))\n",
        "\n",
        "# 3. добавляем выходной слой\n",
        "model_1h500.add(Dense(units=num_classes, activation='softmax'))\n",
        "\n",
        "# компилируем модель\n",
        "model_1h500.compile(loss='categorical_crossentropy', optimizer='sgd', metrics=['accuracy'])\n",
        "\n",
        "# вывод информации об архитектуре модели\n",
        "print(model_1h500.summary())"
      ],
      "metadata": {
        "colab": {
          "base_uri": "https://localhost:8080/"
        },
        "id": "7Ak7dUsPhlnJ",
        "outputId": "8c9e5d8b-a329-4039-81e8-6b0c40443637"
      },
      "execution_count": null,
      "outputs": [
        {
          "output_type": "stream",
          "name": "stdout",
          "text": [
            "Model: \"sequential_4\"\n",
            "_________________________________________________________________\n",
            " Layer (type)                Output Shape              Param #   \n",
            "=================================================================\n",
            " dense_6 (Dense)             (None, 500)               392500    \n",
            "                                                                 \n",
            " dense_7 (Dense)             (None, 10)                5010      \n",
            "                                                                 \n",
            "=================================================================\n",
            "Total params: 397,510\n",
            "Trainable params: 397,510\n",
            "Non-trainable params: 0\n",
            "_________________________________________________________________\n",
            "None\n"
          ]
        }
      ]
    },
    {
      "cell_type": "code",
      "source": [
        "# сохранение модели на диск в папку model_1h300\n",
        "model_1h300.save('model_1h300')"
      ],
      "metadata": {
        "id": "oyl0a30siPa3"
      },
      "execution_count": null,
      "outputs": []
    },
    {
      "cell_type": "code",
      "source": [
        "# Обучаем модель\n",
        "H = model_1h500.fit(X_train, y_train, validation_split=0.1, epochs=100)"
      ],
      "metadata": {
        "colab": {
          "base_uri": "https://localhost:8080/"
        },
        "id": "su79UbBNiXbx",
        "outputId": "97661adf-75c2-4d39-b625-a3d8295ae96f"
      },
      "execution_count": null,
      "outputs": [
        {
          "output_type": "stream",
          "name": "stdout",
          "text": [
            "Epoch 1/100\n",
            "1688/1688 [==============================] - 8s 4ms/step - loss: 1.3572 - accuracy: 0.7123 - val_loss: 0.8351 - val_accuracy: 0.8235\n",
            "Epoch 2/100\n",
            "1688/1688 [==============================] - 7s 4ms/step - loss: 0.6535 - accuracy: 0.8511 - val_loss: 0.5653 - val_accuracy: 0.8657\n",
            "Epoch 3/100\n",
            "1688/1688 [==============================] - 7s 4ms/step - loss: 0.4989 - accuracy: 0.8737 - val_loss: 0.4723 - val_accuracy: 0.8783\n",
            "Epoch 4/100\n",
            "1688/1688 [==============================] - 7s 4ms/step - loss: 0.4343 - accuracy: 0.8837 - val_loss: 0.4306 - val_accuracy: 0.8842\n",
            "Epoch 5/100\n",
            "1688/1688 [==============================] - 7s 4ms/step - loss: 0.3987 - accuracy: 0.8906 - val_loss: 0.3969 - val_accuracy: 0.8895\n",
            "Epoch 6/100\n",
            "1688/1688 [==============================] - 7s 4ms/step - loss: 0.3760 - accuracy: 0.8948 - val_loss: 0.3759 - val_accuracy: 0.8972\n",
            "Epoch 7/100\n",
            "1688/1688 [==============================] - 7s 4ms/step - loss: 0.3599 - accuracy: 0.8986 - val_loss: 0.3617 - val_accuracy: 0.8970\n",
            "Epoch 8/100\n",
            "1688/1688 [==============================] - 7s 4ms/step - loss: 0.3476 - accuracy: 0.9011 - val_loss: 0.3557 - val_accuracy: 0.8997\n",
            "Epoch 9/100\n",
            "1688/1688 [==============================] - 8s 4ms/step - loss: 0.3383 - accuracy: 0.9031 - val_loss: 0.3433 - val_accuracy: 0.9017\n",
            "Epoch 10/100\n",
            "1688/1688 [==============================] - 8s 5ms/step - loss: 0.3303 - accuracy: 0.9064 - val_loss: 0.3407 - val_accuracy: 0.8988\n",
            "Epoch 11/100\n",
            "1688/1688 [==============================] - 9s 5ms/step - loss: 0.3242 - accuracy: 0.9076 - val_loss: 0.3317 - val_accuracy: 0.9028\n",
            "Epoch 12/100\n",
            "1688/1688 [==============================] - 10s 6ms/step - loss: 0.3185 - accuracy: 0.9081 - val_loss: 0.3251 - val_accuracy: 0.9065\n",
            "Epoch 13/100\n",
            "1688/1688 [==============================] - 9s 5ms/step - loss: 0.3139 - accuracy: 0.9098 - val_loss: 0.3223 - val_accuracy: 0.9057\n",
            "Epoch 14/100\n",
            "1688/1688 [==============================] - 9s 5ms/step - loss: 0.3097 - accuracy: 0.9114 - val_loss: 0.3186 - val_accuracy: 0.9085\n",
            "Epoch 15/100\n",
            "1688/1688 [==============================] - 11s 6ms/step - loss: 0.3059 - accuracy: 0.9126 - val_loss: 0.3130 - val_accuracy: 0.9080\n",
            "Epoch 16/100\n",
            "1688/1688 [==============================] - 9s 5ms/step - loss: 0.3022 - accuracy: 0.9134 - val_loss: 0.3107 - val_accuracy: 0.9100\n",
            "Epoch 17/100\n",
            "1688/1688 [==============================] - 9s 5ms/step - loss: 0.2992 - accuracy: 0.9138 - val_loss: 0.3090 - val_accuracy: 0.9102\n",
            "Epoch 18/100\n",
            "1688/1688 [==============================] - 8s 5ms/step - loss: 0.2963 - accuracy: 0.9146 - val_loss: 0.3056 - val_accuracy: 0.9112\n",
            "Epoch 19/100\n",
            "1688/1688 [==============================] - 9s 6ms/step - loss: 0.2936 - accuracy: 0.9160 - val_loss: 0.3022 - val_accuracy: 0.9120\n",
            "Epoch 20/100\n",
            "1688/1688 [==============================] - 9s 5ms/step - loss: 0.2912 - accuracy: 0.9167 - val_loss: 0.3005 - val_accuracy: 0.9128\n",
            "Epoch 21/100\n",
            "1688/1688 [==============================] - 9s 5ms/step - loss: 0.2885 - accuracy: 0.9177 - val_loss: 0.2981 - val_accuracy: 0.9132\n",
            "Epoch 22/100\n",
            "1688/1688 [==============================] - 9s 5ms/step - loss: 0.2861 - accuracy: 0.9181 - val_loss: 0.2979 - val_accuracy: 0.9120\n",
            "Epoch 23/100\n",
            "1688/1688 [==============================] - 9s 5ms/step - loss: 0.2843 - accuracy: 0.9186 - val_loss: 0.2935 - val_accuracy: 0.9157\n",
            "Epoch 24/100\n",
            "1688/1688 [==============================] - 10s 6ms/step - loss: 0.2823 - accuracy: 0.9188 - val_loss: 0.2921 - val_accuracy: 0.9137\n",
            "Epoch 25/100\n",
            "1688/1688 [==============================] - 10s 6ms/step - loss: 0.2802 - accuracy: 0.9196 - val_loss: 0.2901 - val_accuracy: 0.9130\n",
            "Epoch 26/100\n",
            "1688/1688 [==============================] - 9s 6ms/step - loss: 0.2782 - accuracy: 0.9202 - val_loss: 0.2897 - val_accuracy: 0.9175\n",
            "Epoch 27/100\n",
            "1688/1688 [==============================] - 9s 5ms/step - loss: 0.2763 - accuracy: 0.9209 - val_loss: 0.2873 - val_accuracy: 0.9170\n",
            "Epoch 28/100\n",
            "1688/1688 [==============================] - 9s 5ms/step - loss: 0.2745 - accuracy: 0.9211 - val_loss: 0.2854 - val_accuracy: 0.9173\n",
            "Epoch 29/100\n",
            "1688/1688 [==============================] - 9s 5ms/step - loss: 0.2726 - accuracy: 0.9219 - val_loss: 0.2842 - val_accuracy: 0.9172\n",
            "Epoch 30/100\n",
            "1688/1688 [==============================] - 8s 5ms/step - loss: 0.2709 - accuracy: 0.9227 - val_loss: 0.2831 - val_accuracy: 0.9187\n",
            "Epoch 31/100\n",
            "1688/1688 [==============================] - 10s 6ms/step - loss: 0.2688 - accuracy: 0.9227 - val_loss: 0.2807 - val_accuracy: 0.9182\n",
            "Epoch 32/100\n",
            "1688/1688 [==============================] - 10s 6ms/step - loss: 0.2671 - accuracy: 0.9236 - val_loss: 0.2792 - val_accuracy: 0.9190\n",
            "Epoch 33/100\n",
            "1688/1688 [==============================] - 10s 6ms/step - loss: 0.2654 - accuracy: 0.9236 - val_loss: 0.2771 - val_accuracy: 0.9185\n",
            "Epoch 34/100\n",
            "1688/1688 [==============================] - 9s 6ms/step - loss: 0.2636 - accuracy: 0.9240 - val_loss: 0.2754 - val_accuracy: 0.9210\n",
            "Epoch 35/100\n",
            "1688/1688 [==============================] - 9s 5ms/step - loss: 0.2619 - accuracy: 0.9250 - val_loss: 0.2754 - val_accuracy: 0.9202\n",
            "Epoch 36/100\n",
            "1688/1688 [==============================] - 9s 6ms/step - loss: 0.2601 - accuracy: 0.9255 - val_loss: 0.2726 - val_accuracy: 0.9202\n",
            "Epoch 37/100\n",
            "1688/1688 [==============================] - 9s 5ms/step - loss: 0.2584 - accuracy: 0.9255 - val_loss: 0.2735 - val_accuracy: 0.9213\n",
            "Epoch 38/100\n",
            "1688/1688 [==============================] - 9s 5ms/step - loss: 0.2568 - accuracy: 0.9262 - val_loss: 0.2697 - val_accuracy: 0.9212\n",
            "Epoch 39/100\n",
            "1688/1688 [==============================] - 9s 6ms/step - loss: 0.2551 - accuracy: 0.9265 - val_loss: 0.2692 - val_accuracy: 0.9223\n",
            "Epoch 40/100\n",
            "1688/1688 [==============================] - 9s 5ms/step - loss: 0.2531 - accuracy: 0.9272 - val_loss: 0.2666 - val_accuracy: 0.9240\n",
            "Epoch 41/100\n",
            "1688/1688 [==============================] - 9s 5ms/step - loss: 0.2515 - accuracy: 0.9280 - val_loss: 0.2669 - val_accuracy: 0.9240\n",
            "Epoch 42/100\n",
            "1688/1688 [==============================] - 9s 5ms/step - loss: 0.2495 - accuracy: 0.9290 - val_loss: 0.2651 - val_accuracy: 0.9255\n",
            "Epoch 43/100\n",
            "1688/1688 [==============================] - 9s 5ms/step - loss: 0.2481 - accuracy: 0.9288 - val_loss: 0.2623 - val_accuracy: 0.9242\n",
            "Epoch 44/100\n",
            "1688/1688 [==============================] - 9s 5ms/step - loss: 0.2462 - accuracy: 0.9296 - val_loss: 0.2618 - val_accuracy: 0.9238\n",
            "Epoch 45/100\n",
            "1688/1688 [==============================] - 9s 5ms/step - loss: 0.2442 - accuracy: 0.9304 - val_loss: 0.2586 - val_accuracy: 0.9248\n",
            "Epoch 46/100\n",
            "1688/1688 [==============================] - 9s 5ms/step - loss: 0.2425 - accuracy: 0.9302 - val_loss: 0.2577 - val_accuracy: 0.9263\n",
            "Epoch 47/100\n",
            "1688/1688 [==============================] - 9s 6ms/step - loss: 0.2406 - accuracy: 0.9313 - val_loss: 0.2554 - val_accuracy: 0.9268\n",
            "Epoch 48/100\n",
            "1688/1688 [==============================] - 10s 6ms/step - loss: 0.2389 - accuracy: 0.9316 - val_loss: 0.2536 - val_accuracy: 0.9272\n",
            "Epoch 49/100\n",
            "1688/1688 [==============================] - 10s 6ms/step - loss: 0.2371 - accuracy: 0.9317 - val_loss: 0.2530 - val_accuracy: 0.9255\n",
            "Epoch 50/100\n",
            "1688/1688 [==============================] - 9s 5ms/step - loss: 0.2355 - accuracy: 0.9326 - val_loss: 0.2500 - val_accuracy: 0.9295\n",
            "Epoch 51/100\n",
            "1688/1688 [==============================] - 9s 5ms/step - loss: 0.2335 - accuracy: 0.9332 - val_loss: 0.2491 - val_accuracy: 0.9292\n",
            "Epoch 52/100\n",
            "1688/1688 [==============================] - 8s 5ms/step - loss: 0.2316 - accuracy: 0.9336 - val_loss: 0.2473 - val_accuracy: 0.9288\n",
            "Epoch 53/100\n",
            "1688/1688 [==============================] - 9s 5ms/step - loss: 0.2298 - accuracy: 0.9349 - val_loss: 0.2470 - val_accuracy: 0.9297\n",
            "Epoch 54/100\n",
            "1688/1688 [==============================] - 9s 5ms/step - loss: 0.2279 - accuracy: 0.9343 - val_loss: 0.2441 - val_accuracy: 0.9320\n",
            "Epoch 55/100\n",
            "1688/1688 [==============================] - 9s 5ms/step - loss: 0.2262 - accuracy: 0.9352 - val_loss: 0.2434 - val_accuracy: 0.9302\n",
            "Epoch 56/100\n",
            "1688/1688 [==============================] - 9s 5ms/step - loss: 0.2244 - accuracy: 0.9359 - val_loss: 0.2398 - val_accuracy: 0.9310\n",
            "Epoch 57/100\n",
            "1688/1688 [==============================] - 9s 6ms/step - loss: 0.2224 - accuracy: 0.9366 - val_loss: 0.2380 - val_accuracy: 0.9322\n",
            "Epoch 58/100\n",
            "1688/1688 [==============================] - 9s 5ms/step - loss: 0.2206 - accuracy: 0.9372 - val_loss: 0.2374 - val_accuracy: 0.9307\n",
            "Epoch 59/100\n",
            "1688/1688 [==============================] - 9s 5ms/step - loss: 0.2188 - accuracy: 0.9373 - val_loss: 0.2366 - val_accuracy: 0.9322\n",
            "Epoch 60/100\n",
            "1688/1688 [==============================] - 9s 5ms/step - loss: 0.2170 - accuracy: 0.9385 - val_loss: 0.2336 - val_accuracy: 0.9342\n",
            "Epoch 61/100\n",
            "1688/1688 [==============================] - 9s 5ms/step - loss: 0.2152 - accuracy: 0.9384 - val_loss: 0.2320 - val_accuracy: 0.9333\n",
            "Epoch 62/100\n",
            "1688/1688 [==============================] - 9s 5ms/step - loss: 0.2133 - accuracy: 0.9391 - val_loss: 0.2320 - val_accuracy: 0.9342\n",
            "Epoch 63/100\n",
            "1688/1688 [==============================] - 9s 5ms/step - loss: 0.2115 - accuracy: 0.9402 - val_loss: 0.2298 - val_accuracy: 0.9348\n",
            "Epoch 64/100\n",
            "1688/1688 [==============================] - 9s 5ms/step - loss: 0.2098 - accuracy: 0.9403 - val_loss: 0.2271 - val_accuracy: 0.9353\n",
            "Epoch 65/100\n",
            "1688/1688 [==============================] - 9s 5ms/step - loss: 0.2080 - accuracy: 0.9404 - val_loss: 0.2265 - val_accuracy: 0.9342\n",
            "Epoch 66/100\n",
            "1688/1688 [==============================] - 11s 6ms/step - loss: 0.2063 - accuracy: 0.9412 - val_loss: 0.2240 - val_accuracy: 0.9355\n",
            "Epoch 67/100\n",
            "1688/1688 [==============================] - 9s 5ms/step - loss: 0.2044 - accuracy: 0.9417 - val_loss: 0.2228 - val_accuracy: 0.9368\n",
            "Epoch 68/100\n",
            "1688/1688 [==============================] - 9s 6ms/step - loss: 0.2029 - accuracy: 0.9421 - val_loss: 0.2206 - val_accuracy: 0.9375\n",
            "Epoch 69/100\n",
            "1688/1688 [==============================] - 9s 5ms/step - loss: 0.2011 - accuracy: 0.9426 - val_loss: 0.2212 - val_accuracy: 0.9370\n",
            "Epoch 70/100\n",
            "1688/1688 [==============================] - 9s 5ms/step - loss: 0.1994 - accuracy: 0.9434 - val_loss: 0.2175 - val_accuracy: 0.9378\n",
            "Epoch 71/100\n",
            "1688/1688 [==============================] - 9s 6ms/step - loss: 0.1976 - accuracy: 0.9438 - val_loss: 0.2165 - val_accuracy: 0.9387\n",
            "Epoch 72/100\n",
            "1688/1688 [==============================] - 10s 6ms/step - loss: 0.1962 - accuracy: 0.9443 - val_loss: 0.2146 - val_accuracy: 0.9383\n",
            "Epoch 73/100\n",
            "1688/1688 [==============================] - 9s 5ms/step - loss: 0.1941 - accuracy: 0.9452 - val_loss: 0.2129 - val_accuracy: 0.9395\n",
            "Epoch 74/100\n",
            "1688/1688 [==============================] - 10s 6ms/step - loss: 0.1928 - accuracy: 0.9452 - val_loss: 0.2114 - val_accuracy: 0.9392\n",
            "Epoch 75/100\n",
            "1688/1688 [==============================] - 10s 6ms/step - loss: 0.1911 - accuracy: 0.9456 - val_loss: 0.2109 - val_accuracy: 0.9400\n",
            "Epoch 76/100\n",
            "1688/1688 [==============================] - 10s 6ms/step - loss: 0.1895 - accuracy: 0.9459 - val_loss: 0.2080 - val_accuracy: 0.9417\n",
            "Epoch 77/100\n",
            "1688/1688 [==============================] - 9s 6ms/step - loss: 0.1880 - accuracy: 0.9467 - val_loss: 0.2072 - val_accuracy: 0.9380\n",
            "Epoch 78/100\n",
            "1688/1688 [==============================] - 10s 6ms/step - loss: 0.1864 - accuracy: 0.9476 - val_loss: 0.2055 - val_accuracy: 0.9405\n",
            "Epoch 79/100\n",
            "1688/1688 [==============================] - 10s 6ms/step - loss: 0.1848 - accuracy: 0.9474 - val_loss: 0.2054 - val_accuracy: 0.9392\n",
            "Epoch 80/100\n",
            "1688/1688 [==============================] - 8s 5ms/step - loss: 0.1833 - accuracy: 0.9483 - val_loss: 0.2035 - val_accuracy: 0.9423\n",
            "Epoch 81/100\n",
            "1688/1688 [==============================] - 10s 6ms/step - loss: 0.1818 - accuracy: 0.9481 - val_loss: 0.2021 - val_accuracy: 0.9420\n",
            "Epoch 82/100\n",
            "1688/1688 [==============================] - 11s 6ms/step - loss: 0.1803 - accuracy: 0.9488 - val_loss: 0.2015 - val_accuracy: 0.9437\n",
            "Epoch 83/100\n",
            "1688/1688 [==============================] - 10s 6ms/step - loss: 0.1788 - accuracy: 0.9493 - val_loss: 0.2008 - val_accuracy: 0.9428\n",
            "Epoch 84/100\n",
            "1688/1688 [==============================] - 10s 6ms/step - loss: 0.1775 - accuracy: 0.9499 - val_loss: 0.1974 - val_accuracy: 0.9437\n",
            "Epoch 85/100\n",
            "1688/1688 [==============================] - 10s 6ms/step - loss: 0.1759 - accuracy: 0.9499 - val_loss: 0.1975 - val_accuracy: 0.9430\n",
            "Epoch 86/100\n",
            "1688/1688 [==============================] - 10s 6ms/step - loss: 0.1746 - accuracy: 0.9505 - val_loss: 0.1951 - val_accuracy: 0.9450\n",
            "Epoch 87/100\n",
            "1688/1688 [==============================] - 9s 5ms/step - loss: 0.1730 - accuracy: 0.9511 - val_loss: 0.1945 - val_accuracy: 0.9435\n",
            "Epoch 88/100\n",
            "1688/1688 [==============================] - 9s 5ms/step - loss: 0.1719 - accuracy: 0.9513 - val_loss: 0.1922 - val_accuracy: 0.9448\n",
            "Epoch 89/100\n",
            "1688/1688 [==============================] - 8s 5ms/step - loss: 0.1703 - accuracy: 0.9518 - val_loss: 0.1920 - val_accuracy: 0.9453\n",
            "Epoch 90/100\n",
            "1688/1688 [==============================] - 7s 4ms/step - loss: 0.1690 - accuracy: 0.9520 - val_loss: 0.1897 - val_accuracy: 0.9462\n",
            "Epoch 91/100\n",
            "1688/1688 [==============================] - 8s 5ms/step - loss: 0.1678 - accuracy: 0.9522 - val_loss: 0.1883 - val_accuracy: 0.9453\n",
            "Epoch 92/100\n",
            "1688/1688 [==============================] - 8s 5ms/step - loss: 0.1662 - accuracy: 0.9531 - val_loss: 0.1883 - val_accuracy: 0.9458\n",
            "Epoch 93/100\n",
            "1688/1688 [==============================] - 8s 5ms/step - loss: 0.1651 - accuracy: 0.9535 - val_loss: 0.1865 - val_accuracy: 0.9473\n",
            "Epoch 94/100\n",
            "1688/1688 [==============================] - 8s 5ms/step - loss: 0.1638 - accuracy: 0.9535 - val_loss: 0.1851 - val_accuracy: 0.9480\n",
            "Epoch 95/100\n",
            "1688/1688 [==============================] - 8s 5ms/step - loss: 0.1624 - accuracy: 0.9537 - val_loss: 0.1847 - val_accuracy: 0.9472\n",
            "Epoch 96/100\n",
            "1688/1688 [==============================] - 7s 4ms/step - loss: 0.1611 - accuracy: 0.9539 - val_loss: 0.1839 - val_accuracy: 0.9468\n",
            "Epoch 97/100\n",
            "1688/1688 [==============================] - 7s 4ms/step - loss: 0.1599 - accuracy: 0.9546 - val_loss: 0.1826 - val_accuracy: 0.9473\n",
            "Epoch 98/100\n",
            "1688/1688 [==============================] - 7s 4ms/step - loss: 0.1587 - accuracy: 0.9550 - val_loss: 0.1801 - val_accuracy: 0.9493\n",
            "Epoch 99/100\n",
            "1688/1688 [==============================] - 7s 4ms/step - loss: 0.1575 - accuracy: 0.9550 - val_loss: 0.1793 - val_accuracy: 0.9493\n",
            "Epoch 100/100\n",
            "1688/1688 [==============================] - 7s 4ms/step - loss: 0.1564 - accuracy: 0.9560 - val_loss: 0.1783 - val_accuracy: 0.9488\n"
          ]
        }
      ]
    },
    {
      "cell_type": "code",
      "source": [
        "# вывод графика ошибки по эпохам\n",
        "plt.plot(H.history['loss'])\n",
        "plt.plot(H.history['val_loss'])\n",
        "plt.grid()\n",
        "plt.xlabel('Epochs')\n",
        "plt.ylabel('loss')\n",
        "plt.legend(['train_loss', 'val_loss'])\n",
        "plt.title('Loss by epochs')\n",
        "plt.show()"
      ],
      "metadata": {
        "colab": {
          "base_uri": "https://localhost:8080/",
          "height": 295
        },
        "id": "u9xksfhEl6v3",
        "outputId": "1a0daa3a-728b-4fbb-9fdd-cc1f1dafa1b4"
      },
      "execution_count": null,
      "outputs": [
        {
          "output_type": "display_data",
          "data": {
            "text/plain": [
              "<Figure size 432x288 with 1 Axes>"
            ],
            "image/png": "[encoded data removed]"
          },
          "metadata": {
            "needs_background": "light"
          }
        }
      ]
    },
    {
      "cell_type": "code",
      "source": [
        "# Оценка качества работы модели на тестовых данных\n",
        "scores = model_1h500.evaluate(X_test, y_test)\n",
        "print('Loss on test data:', scores[0])\n",
        "print('Accuracy on test data:', scores[1])"
      ],
      "metadata": {
        "colab": {
          "base_uri": "https://localhost:8080/"
        },
        "id": "7x8QBylvmYpq",
        "outputId": "8e2c78a9-96ad-4405-c3ba-e78a794906cf"
      },
      "execution_count": null,
      "outputs": [
        {
          "output_type": "stream",
          "name": "stdout",
          "text": [
            "313/313 [==============================] - 1s 3ms/step - loss: 0.1802 - accuracy: 0.9495\n",
            "Loss on test data: 0.1801706850528717\n",
            "Accuracy on test data: 0.9495000243186951\n"
          ]
        }
      ]
    },
    {
      "cell_type": "code",
      "source": [
        "# сохранение модели на диск в папку model_1h500\n",
        "model_1h500.save('model_1h500')"
      ],
      "metadata": {
        "id": "zbqMBgrVmsPy"
      },
      "execution_count": null,
      "outputs": []
    },
    {
      "cell_type": "code",
      "source": [
        "# Модель нейронной сети (кол-во скрытых слоев = 1, кол-во нейронов в скрытом слое = 1000)\n",
        "# 1. создаем модель - объявляем ее объектом класса Sequential\n",
        "model_1h1000 = Sequential()\n",
        "\n",
        "# 2. добавляем первый скрытый слой\n",
        "model_1h1000.add(Dense(units=1000, input_dim=num_pixels, activation='sigmoid'))\n",
        "\n",
        "# 3. добавляем выходной слой\n",
        "model_1h1000.add(Dense(units=num_classes, activation='softmax'))\n",
        "\n",
        "# компилируем модель\n",
        "model_1h1000.compile(loss='categorical_crossentropy', optimizer='sgd', metrics=['accuracy'])\n",
        "\n",
        "# вывод информации об архитектуре модели\n",
        "print(model_1h1000.summary())"
      ],
      "metadata": {
        "colab": {
          "base_uri": "https://localhost:8080/"
        },
        "id": "BDSnFD2mmzmQ",
        "outputId": "4cb725b5-f6ba-4c9d-9a4d-31d9e3061b3d"
      },
      "execution_count": null,
      "outputs": [
        {
          "output_type": "stream",
          "name": "stdout",
          "text": [
            "Model: \"sequential_5\"\n",
            "_________________________________________________________________\n",
            " Layer (type)                Output Shape              Param #   \n",
            "=================================================================\n",
            " dense_8 (Dense)             (None, 1000)              785000    \n",
            "                                                                 \n",
            " dense_9 (Dense)             (None, 10)                10010     \n",
            "                                                                 \n",
            "=================================================================\n",
            "Total params: 795,010\n",
            "Trainable params: 795,010\n",
            "Non-trainable params: 0\n",
            "_________________________________________________________________\n",
            "None\n"
          ]
        }
      ]
    },
    {
      "cell_type": "code",
      "source": [
        "# Обучаем модель\n",
        "H = model_1h1000.fit(X_train, y_train, validation_split=0.1, epochs=100)"
      ],
      "metadata": {
        "colab": {
          "base_uri": "https://localhost:8080/"
        },
        "id": "vZ9Yf_1EnlNE",
        "outputId": "3d42458d-d8d8-42e2-b892-aad22745fdc9"
      },
      "execution_count": null,
      "outputs": [
        {
          "output_type": "stream",
          "name": "stdout",
          "text": [
            "Epoch 1/100\n",
            "1688/1688 [==============================] - 11s 6ms/step - loss: 1.3018 - accuracy: 0.7051 - val_loss: 0.7822 - val_accuracy: 0.8362\n",
            "Epoch 2/100\n",
            "1688/1688 [==============================] - 10s 6ms/step - loss: 0.6252 - accuracy: 0.8534 - val_loss: 0.5395 - val_accuracy: 0.8718\n",
            "Epoch 3/100\n",
            "1688/1688 [==============================] - 10s 6ms/step - loss: 0.4850 - accuracy: 0.8747 - val_loss: 0.4581 - val_accuracy: 0.8793\n",
            "Epoch 4/100\n",
            "1688/1688 [==============================] - 10s 6ms/step - loss: 0.4264 - accuracy: 0.8845 - val_loss: 0.4210 - val_accuracy: 0.8845\n",
            "Epoch 5/100\n",
            "1688/1688 [==============================] - 10s 6ms/step - loss: 0.3939 - accuracy: 0.8906 - val_loss: 0.3967 - val_accuracy: 0.8878\n",
            "Epoch 6/100\n",
            "1688/1688 [==============================] - 11s 6ms/step - loss: 0.3728 - accuracy: 0.8945 - val_loss: 0.3736 - val_accuracy: 0.8975\n",
            "Epoch 7/100\n",
            "1688/1688 [==============================] - 11s 6ms/step - loss: 0.3581 - accuracy: 0.8981 - val_loss: 0.3600 - val_accuracy: 0.8965\n",
            "Epoch 8/100\n",
            "1688/1688 [==============================] - 12s 7ms/step - loss: 0.3468 - accuracy: 0.9011 - val_loss: 0.3495 - val_accuracy: 0.8995\n",
            "Epoch 9/100\n",
            "1688/1688 [==============================] - 11s 6ms/step - loss: 0.3379 - accuracy: 0.9026 - val_loss: 0.3421 - val_accuracy: 0.8998\n",
            "Epoch 10/100\n",
            "1688/1688 [==============================] - 11s 6ms/step - loss: 0.3306 - accuracy: 0.9049 - val_loss: 0.3360 - val_accuracy: 0.9030\n",
            "Epoch 11/100\n",
            "1688/1688 [==============================] - 11s 6ms/step - loss: 0.3250 - accuracy: 0.9067 - val_loss: 0.3331 - val_accuracy: 0.9032\n",
            "Epoch 12/100\n",
            "1688/1688 [==============================] - 12s 7ms/step - loss: 0.3197 - accuracy: 0.9083 - val_loss: 0.3270 - val_accuracy: 0.9040\n",
            "Epoch 13/100\n",
            "1688/1688 [==============================] - 10s 6ms/step - loss: 0.3151 - accuracy: 0.9094 - val_loss: 0.3263 - val_accuracy: 0.9075\n",
            "Epoch 14/100\n",
            "1688/1688 [==============================] - 11s 6ms/step - loss: 0.3109 - accuracy: 0.9106 - val_loss: 0.3179 - val_accuracy: 0.9083\n",
            "Epoch 15/100\n",
            "1688/1688 [==============================] - 11s 6ms/step - loss: 0.3081 - accuracy: 0.9118 - val_loss: 0.3175 - val_accuracy: 0.9072\n",
            "Epoch 16/100\n",
            "1688/1688 [==============================] - 11s 7ms/step - loss: 0.3048 - accuracy: 0.9127 - val_loss: 0.3208 - val_accuracy: 0.9047\n",
            "Epoch 17/100\n",
            "1688/1688 [==============================] - 11s 7ms/step - loss: 0.3022 - accuracy: 0.9128 - val_loss: 0.3109 - val_accuracy: 0.9095\n",
            "Epoch 18/100\n",
            "1688/1688 [==============================] - 11s 7ms/step - loss: 0.2994 - accuracy: 0.9146 - val_loss: 0.3098 - val_accuracy: 0.9083\n",
            "Epoch 19/100\n",
            "1688/1688 [==============================] - 12s 7ms/step - loss: 0.2973 - accuracy: 0.9148 - val_loss: 0.3076 - val_accuracy: 0.9107\n",
            "Epoch 20/100\n",
            "1688/1688 [==============================] - 11s 7ms/step - loss: 0.2948 - accuracy: 0.9159 - val_loss: 0.3070 - val_accuracy: 0.9100\n",
            "Epoch 21/100\n",
            "1688/1688 [==============================] - 11s 7ms/step - loss: 0.2929 - accuracy: 0.9158 - val_loss: 0.3029 - val_accuracy: 0.9117\n",
            "Epoch 22/100\n",
            "1688/1688 [==============================] - 11s 7ms/step - loss: 0.2911 - accuracy: 0.9158 - val_loss: 0.3020 - val_accuracy: 0.9108\n",
            "Epoch 23/100\n",
            "1688/1688 [==============================] - 11s 7ms/step - loss: 0.2892 - accuracy: 0.9177 - val_loss: 0.2986 - val_accuracy: 0.9138\n",
            "Epoch 24/100\n",
            "1688/1688 [==============================] - 11s 7ms/step - loss: 0.2877 - accuracy: 0.9176 - val_loss: 0.2980 - val_accuracy: 0.9137\n",
            "Epoch 25/100\n",
            "1688/1688 [==============================] - 12s 7ms/step - loss: 0.2860 - accuracy: 0.9179 - val_loss: 0.2978 - val_accuracy: 0.9140\n",
            "Epoch 26/100\n",
            "1688/1688 [==============================] - 13s 8ms/step - loss: 0.2845 - accuracy: 0.9182 - val_loss: 0.2963 - val_accuracy: 0.9135\n",
            "Epoch 27/100\n",
            "1688/1688 [==============================] - 12s 7ms/step - loss: 0.2831 - accuracy: 0.9191 - val_loss: 0.2940 - val_accuracy: 0.9153\n",
            "Epoch 28/100\n",
            "1688/1688 [==============================] - 13s 8ms/step - loss: 0.2813 - accuracy: 0.9198 - val_loss: 0.2932 - val_accuracy: 0.9138\n",
            "Epoch 29/100\n",
            "1688/1688 [==============================] - 12s 7ms/step - loss: 0.2799 - accuracy: 0.9201 - val_loss: 0.2904 - val_accuracy: 0.9152\n",
            "Epoch 30/100\n",
            "1688/1688 [==============================] - 12s 7ms/step - loss: 0.2788 - accuracy: 0.9199 - val_loss: 0.2936 - val_accuracy: 0.9133\n",
            "Epoch 31/100\n",
            "1688/1688 [==============================] - 13s 7ms/step - loss: 0.2774 - accuracy: 0.9206 - val_loss: 0.2931 - val_accuracy: 0.9143\n",
            "Epoch 32/100\n",
            "1688/1688 [==============================] - 12s 7ms/step - loss: 0.2763 - accuracy: 0.9209 - val_loss: 0.2910 - val_accuracy: 0.9140\n",
            "Epoch 33/100\n",
            "1688/1688 [==============================] - 13s 7ms/step - loss: 0.2749 - accuracy: 0.9218 - val_loss: 0.2873 - val_accuracy: 0.9168\n",
            "Epoch 34/100\n",
            "1688/1688 [==============================] - 12s 7ms/step - loss: 0.2735 - accuracy: 0.9224 - val_loss: 0.2870 - val_accuracy: 0.9163\n",
            "Epoch 35/100\n",
            "1688/1688 [==============================] - 12s 7ms/step - loss: 0.2725 - accuracy: 0.9220 - val_loss: 0.2888 - val_accuracy: 0.9162\n",
            "Epoch 36/100\n",
            "1688/1688 [==============================] - 13s 8ms/step - loss: 0.2712 - accuracy: 0.9227 - val_loss: 0.2849 - val_accuracy: 0.9170\n",
            "Epoch 37/100\n",
            "1688/1688 [==============================] - 13s 8ms/step - loss: 0.2700 - accuracy: 0.9230 - val_loss: 0.2869 - val_accuracy: 0.9153\n",
            "Epoch 38/100\n",
            "1688/1688 [==============================] - 14s 8ms/step - loss: 0.2691 - accuracy: 0.9237 - val_loss: 0.2844 - val_accuracy: 0.9190\n",
            "Epoch 39/100\n",
            "1688/1688 [==============================] - 12s 7ms/step - loss: 0.2676 - accuracy: 0.9239 - val_loss: 0.2835 - val_accuracy: 0.9188\n",
            "Epoch 40/100\n",
            "1688/1688 [==============================] - 13s 8ms/step - loss: 0.2665 - accuracy: 0.9236 - val_loss: 0.2822 - val_accuracy: 0.9188\n",
            "Epoch 41/100\n",
            "1688/1688 [==============================] - 12s 7ms/step - loss: 0.2654 - accuracy: 0.9246 - val_loss: 0.2834 - val_accuracy: 0.9173\n",
            "Epoch 42/100\n",
            "1688/1688 [==============================] - 12s 7ms/step - loss: 0.2641 - accuracy: 0.9246 - val_loss: 0.2800 - val_accuracy: 0.9182\n",
            "Epoch 43/100\n",
            "1688/1688 [==============================] - 12s 7ms/step - loss: 0.2631 - accuracy: 0.9248 - val_loss: 0.2803 - val_accuracy: 0.9188\n",
            "Epoch 44/100\n",
            "1688/1688 [==============================] - 12s 7ms/step - loss: 0.2618 - accuracy: 0.9247 - val_loss: 0.2771 - val_accuracy: 0.9217\n",
            "Epoch 45/100\n",
            "1688/1688 [==============================] - 12s 7ms/step - loss: 0.2607 - accuracy: 0.9250 - val_loss: 0.2765 - val_accuracy: 0.9197\n",
            "Epoch 46/100\n",
            "1688/1688 [==============================] - 12s 7ms/step - loss: 0.2594 - accuracy: 0.9259 - val_loss: 0.2784 - val_accuracy: 0.9217\n",
            "Epoch 47/100\n",
            "1688/1688 [==============================] - 12s 7ms/step - loss: 0.2579 - accuracy: 0.9267 - val_loss: 0.2791 - val_accuracy: 0.9193\n",
            "Epoch 48/100\n",
            "1688/1688 [==============================] - 12s 7ms/step - loss: 0.2569 - accuracy: 0.9260 - val_loss: 0.2743 - val_accuracy: 0.9222\n",
            "Epoch 49/100\n",
            "1688/1688 [==============================] - 13s 8ms/step - loss: 0.2559 - accuracy: 0.9270 - val_loss: 0.2713 - val_accuracy: 0.9215\n",
            "Epoch 50/100\n",
            "1688/1688 [==============================] - 14s 8ms/step - loss: 0.2544 - accuracy: 0.9277 - val_loss: 0.2731 - val_accuracy: 0.9215\n",
            "Epoch 51/100\n",
            "1688/1688 [==============================] - 12s 7ms/step - loss: 0.2533 - accuracy: 0.9278 - val_loss: 0.2710 - val_accuracy: 0.9208\n",
            "Epoch 52/100\n",
            "1688/1688 [==============================] - 13s 7ms/step - loss: 0.2520 - accuracy: 0.9275 - val_loss: 0.2699 - val_accuracy: 0.9217\n",
            "Epoch 53/100\n",
            "1688/1688 [==============================] - 12s 7ms/step - loss: 0.2505 - accuracy: 0.9288 - val_loss: 0.2698 - val_accuracy: 0.9208\n",
            "Epoch 54/100\n",
            "1688/1688 [==============================] - 12s 7ms/step - loss: 0.2495 - accuracy: 0.9293 - val_loss: 0.2686 - val_accuracy: 0.9248\n",
            "Epoch 55/100\n",
            "1688/1688 [==============================] - 11s 7ms/step - loss: 0.2480 - accuracy: 0.9299 - val_loss: 0.2663 - val_accuracy: 0.9248\n",
            "Epoch 56/100\n",
            "1688/1688 [==============================] - 12s 7ms/step - loss: 0.2467 - accuracy: 0.9299 - val_loss: 0.2661 - val_accuracy: 0.9217\n",
            "Epoch 57/100\n",
            "1688/1688 [==============================] - 11s 7ms/step - loss: 0.2453 - accuracy: 0.9303 - val_loss: 0.2651 - val_accuracy: 0.9247\n",
            "Epoch 58/100\n",
            "1688/1688 [==============================] - 12s 7ms/step - loss: 0.2440 - accuracy: 0.9306 - val_loss: 0.2640 - val_accuracy: 0.9240\n",
            "Epoch 59/100\n",
            "1688/1688 [==============================] - 11s 7ms/step - loss: 0.2427 - accuracy: 0.9312 - val_loss: 0.2607 - val_accuracy: 0.9243\n",
            "Epoch 60/100\n",
            "1688/1688 [==============================] - 11s 7ms/step - loss: 0.2411 - accuracy: 0.9311 - val_loss: 0.2647 - val_accuracy: 0.9222\n",
            "Epoch 61/100\n",
            "1688/1688 [==============================] - 11s 7ms/step - loss: 0.2399 - accuracy: 0.9319 - val_loss: 0.2587 - val_accuracy: 0.9262\n",
            "Epoch 62/100\n",
            "1688/1688 [==============================] - 13s 8ms/step - loss: 0.2384 - accuracy: 0.9317 - val_loss: 0.2563 - val_accuracy: 0.9272\n",
            "Epoch 63/100\n",
            "1688/1688 [==============================] - 12s 7ms/step - loss: 0.2372 - accuracy: 0.9327 - val_loss: 0.2575 - val_accuracy: 0.9268\n",
            "Epoch 64/100\n",
            "1688/1688 [==============================] - 12s 7ms/step - loss: 0.2356 - accuracy: 0.9329 - val_loss: 0.2544 - val_accuracy: 0.9255\n",
            "Epoch 65/100\n",
            "1688/1688 [==============================] - 12s 7ms/step - loss: 0.2340 - accuracy: 0.9333 - val_loss: 0.2529 - val_accuracy: 0.9290\n",
            "Epoch 66/100\n",
            "1688/1688 [==============================] - 12s 7ms/step - loss: 0.2327 - accuracy: 0.9336 - val_loss: 0.2535 - val_accuracy: 0.9283\n",
            "Epoch 67/100\n",
            "1688/1688 [==============================] - 12s 7ms/step - loss: 0.2310 - accuracy: 0.9341 - val_loss: 0.2500 - val_accuracy: 0.9278\n",
            "Epoch 68/100\n",
            "1688/1688 [==============================] - 12s 7ms/step - loss: 0.2297 - accuracy: 0.9344 - val_loss: 0.2518 - val_accuracy: 0.9272\n",
            "Epoch 69/100\n",
            "1688/1688 [==============================] - 12s 7ms/step - loss: 0.2283 - accuracy: 0.9353 - val_loss: 0.2509 - val_accuracy: 0.9275\n",
            "Epoch 70/100\n",
            "1688/1688 [==============================] - 12s 7ms/step - loss: 0.2266 - accuracy: 0.9357 - val_loss: 0.2464 - val_accuracy: 0.9302\n",
            "Epoch 71/100\n",
            "1688/1688 [==============================] - 12s 7ms/step - loss: 0.2252 - accuracy: 0.9356 - val_loss: 0.2486 - val_accuracy: 0.9295\n",
            "Epoch 72/100\n",
            "1688/1688 [==============================] - 12s 7ms/step - loss: 0.2234 - accuracy: 0.9370 - val_loss: 0.2435 - val_accuracy: 0.9308\n",
            "Epoch 73/100\n",
            "1688/1688 [==============================] - 12s 7ms/step - loss: 0.2221 - accuracy: 0.9369 - val_loss: 0.2421 - val_accuracy: 0.9317\n",
            "Epoch 74/100\n",
            "1688/1688 [==============================] - 11s 7ms/step - loss: 0.2206 - accuracy: 0.9376 - val_loss: 0.2428 - val_accuracy: 0.9310\n",
            "Epoch 75/100\n",
            "1688/1688 [==============================] - 13s 8ms/step - loss: 0.2192 - accuracy: 0.9380 - val_loss: 0.2380 - val_accuracy: 0.9313\n",
            "Epoch 76/100\n",
            "1688/1688 [==============================] - 12s 7ms/step - loss: 0.2176 - accuracy: 0.9380 - val_loss: 0.2405 - val_accuracy: 0.9308\n",
            "Epoch 77/100\n",
            "1688/1688 [==============================] - 12s 7ms/step - loss: 0.2159 - accuracy: 0.9385 - val_loss: 0.2431 - val_accuracy: 0.9300\n",
            "Epoch 78/100\n",
            "1688/1688 [==============================] - 13s 7ms/step - loss: 0.2147 - accuracy: 0.9389 - val_loss: 0.2356 - val_accuracy: 0.9335\n",
            "Epoch 79/100\n",
            "1688/1688 [==============================] - 12s 7ms/step - loss: 0.2128 - accuracy: 0.9397 - val_loss: 0.2335 - val_accuracy: 0.9337\n",
            "Epoch 80/100\n",
            "1688/1688 [==============================] - 13s 7ms/step - loss: 0.2117 - accuracy: 0.9398 - val_loss: 0.2313 - val_accuracy: 0.9338\n",
            "Epoch 81/100\n",
            "1688/1688 [==============================] - 12s 7ms/step - loss: 0.2102 - accuracy: 0.9404 - val_loss: 0.2338 - val_accuracy: 0.9343\n",
            "Epoch 82/100\n",
            "1688/1688 [==============================] - 12s 7ms/step - loss: 0.2086 - accuracy: 0.9410 - val_loss: 0.2298 - val_accuracy: 0.9352\n",
            "Epoch 83/100\n",
            "1688/1688 [==============================] - 13s 8ms/step - loss: 0.2071 - accuracy: 0.9411 - val_loss: 0.2294 - val_accuracy: 0.9350\n",
            "Epoch 84/100\n",
            "1688/1688 [==============================] - 13s 7ms/step - loss: 0.2058 - accuracy: 0.9414 - val_loss: 0.2291 - val_accuracy: 0.9352\n",
            "Epoch 85/100\n",
            "1688/1688 [==============================] - 12s 7ms/step - loss: 0.2041 - accuracy: 0.9427 - val_loss: 0.2267 - val_accuracy: 0.9367\n",
            "Epoch 86/100\n",
            "1688/1688 [==============================] - 13s 8ms/step - loss: 0.2026 - accuracy: 0.9429 - val_loss: 0.2254 - val_accuracy: 0.9345\n",
            "Epoch 87/100\n",
            "1688/1688 [==============================] - 12s 7ms/step - loss: 0.2011 - accuracy: 0.9435 - val_loss: 0.2231 - val_accuracy: 0.9370\n",
            "Epoch 88/100\n",
            "1688/1688 [==============================] - 12s 7ms/step - loss: 0.1997 - accuracy: 0.9436 - val_loss: 0.2243 - val_accuracy: 0.9365\n",
            "Epoch 89/100\n",
            "1688/1688 [==============================] - 13s 8ms/step - loss: 0.1986 - accuracy: 0.9435 - val_loss: 0.2201 - val_accuracy: 0.9377\n",
            "Epoch 90/100\n",
            "1688/1688 [==============================] - 12s 7ms/step - loss: 0.1969 - accuracy: 0.9444 - val_loss: 0.2174 - val_accuracy: 0.9375\n",
            "Epoch 91/100\n",
            "1688/1688 [==============================] - 12s 7ms/step - loss: 0.1957 - accuracy: 0.9443 - val_loss: 0.2210 - val_accuracy: 0.9358\n",
            "Epoch 92/100\n",
            "1688/1688 [==============================] - 12s 7ms/step - loss: 0.1944 - accuracy: 0.9451 - val_loss: 0.2179 - val_accuracy: 0.9387\n",
            "Epoch 93/100\n",
            "1688/1688 [==============================] - 13s 8ms/step - loss: 0.1929 - accuracy: 0.9456 - val_loss: 0.2166 - val_accuracy: 0.9363\n",
            "Epoch 94/100\n",
            "1688/1688 [==============================] - 13s 7ms/step - loss: 0.1915 - accuracy: 0.9457 - val_loss: 0.2145 - val_accuracy: 0.9382\n",
            "Epoch 95/100\n",
            "1688/1688 [==============================] - 13s 8ms/step - loss: 0.1900 - accuracy: 0.9469 - val_loss: 0.2136 - val_accuracy: 0.9395\n",
            "Epoch 96/100\n",
            "1688/1688 [==============================] - 12s 7ms/step - loss: 0.1888 - accuracy: 0.9469 - val_loss: 0.2117 - val_accuracy: 0.9408\n",
            "Epoch 97/100\n",
            "1688/1688 [==============================] - 12s 7ms/step - loss: 0.1876 - accuracy: 0.9471 - val_loss: 0.2110 - val_accuracy: 0.9390\n",
            "Epoch 98/100\n",
            "1688/1688 [==============================] - 12s 7ms/step - loss: 0.1860 - accuracy: 0.9476 - val_loss: 0.2116 - val_accuracy: 0.9390\n",
            "Epoch 99/100\n",
            "1688/1688 [==============================] - 12s 7ms/step - loss: 0.1849 - accuracy: 0.9479 - val_loss: 0.2085 - val_accuracy: 0.9418\n",
            "Epoch 100/100\n",
            "1688/1688 [==============================] - 12s 7ms/step - loss: 0.1834 - accuracy: 0.9484 - val_loss: 0.2069 - val_accuracy: 0.9395\n"
          ]
        }
      ]
    },
    {
      "cell_type": "code",
      "source": [
        "# вывод графика ошибки по эпохам\n",
        "plt.plot(H.history['loss'])\n",
        "plt.plot(H.history['val_loss'])\n",
        "plt.grid()\n",
        "plt.xlabel('Epochs')\n",
        "plt.ylabel('loss')\n",
        "plt.legend(['train_loss', 'val_loss'])\n",
        "plt.title('Loss by epochs')\n",
        "plt.show()\n"
      ],
      "metadata": {
        "colab": {
          "base_uri": "https://localhost:8080/",
          "height": 295
        },
        "id": "XclvVf6lum2z",
        "outputId": "0272aaa8-1a96-44aa-e447-c2fc808f98d8"
      },
      "execution_count": null,
      "outputs": [
        {
          "output_type": "display_data",
          "data": {
            "text/plain": [
              "<Figure size 432x288 with 1 Axes>"
            ],
            "image/png": "[encoded data removed]"
          },
          "metadata": {
            "needs_background": "light"
          }
        }
      ]
    },
    {
      "cell_type": "code",
      "source": [
        "# Оценка качества работы модели на тестовых данных\n",
        "scores = model_1h1000.evaluate(X_test, y_test)\n",
        "print('Loss on test data:', scores[0])\n",
        "print('Accuracy on test data:', scores[1])"
      ],
      "metadata": {
        "colab": {
          "base_uri": "https://localhost:8080/"
        },
        "id": "GkV8SKN7u9lk",
        "outputId": "5a23ab66-c1e7-415c-9fc3-95b9d96a741a"
      },
      "execution_count": null,
      "outputs": [
        {
          "output_type": "stream",
          "name": "stdout",
          "text": [
            "313/313 [==============================] - 1s 4ms/step - loss: 0.2085 - accuracy: 0.9424\n",
            "Loss on test data: 0.20846791565418243\n",
            "Accuracy on test data: 0.9423999786376953\n"
          ]
        }
      ]
    },
    {
      "cell_type": "code",
      "source": [
        "# сохранение модели на диск в папку model_1h1000\n",
        "model_1h1000.save('model_1h1000')"
      ],
      "metadata": {
        "id": "awBhp5TBvGk9"
      },
      "execution_count": null,
      "outputs": []
    },
    {
      "cell_type": "code",
      "source": [
        "# Модель нейронной сети (кол-во скрытых слоев = 2, кол-во нейронов в первом скрытом слое = 100, во втором = 50)\n",
        "# 1. создаем модель - объявляем ее объектом класса Sequential\n",
        "model_1h100_2h50 = Sequential()\n",
        "\n",
        "# 2. добавляем первый скрытый слой\n",
        "model_1h100_2h50.add(Dense(units=100, input_dim=num_pixels, activation='sigmoid'))\n",
        "\n",
        "# 3. добавляем второй скрытый слой\n",
        "model_1h100_2h50.add(Dense(units=50, activation='sigmoid'))\n",
        "\n",
        "# 4. добавляем выходной слой\n",
        "model_1h100_2h50.add(Dense(units=num_classes, activation='softmax'))\n",
        "\n",
        "# 5. компилируем модель\n",
        "model_1h100_2h50.compile(loss='categorical_crossentropy', optimizer='sgd', metrics=['accuracy'])\n",
        "\n",
        "# вывод информации об архитектуре модели\n",
        "print(model_1h100_2h50.summary())"
      ],
      "metadata": {
        "colab": {
          "base_uri": "https://localhost:8080/"
        },
        "id": "zye8tj6-xikF",
        "outputId": "3d4f8739-4dfb-4978-eeff-47ff06329573"
      },
      "execution_count": null,
      "outputs": [
        {
          "output_type": "stream",
          "name": "stdout",
          "text": [
            "Model: \"sequential_6\"\n",
            "_________________________________________________________________\n",
            " Layer (type)                Output Shape              Param #   \n",
            "=================================================================\n",
            " dense_10 (Dense)            (None, 100)               78500     \n",
            "                                                                 \n",
            " dense_11 (Dense)            (None, 50)                5050      \n",
            "                                                                 \n",
            " dense_12 (Dense)            (None, 10)                510       \n",
            "                                                                 \n",
            "=================================================================\n",
            "Total params: 84,060\n",
            "Trainable params: 84,060\n",
            "Non-trainable params: 0\n",
            "_________________________________________________________________\n",
            "None\n"
          ]
        }
      ]
    },
    {
      "cell_type": "code",
      "source": [
        "# Обучаем модель\n",
        "H = model_1h100_2h50.fit(X_train, y_train, validation_split=0.1, epochs=100)"
      ],
      "metadata": {
        "colab": {
          "base_uri": "https://localhost:8080/"
        },
        "id": "GFhZwXG-yBv6",
        "outputId": "f578a566-ef0a-4333-aeea-8deb3b583e46"
      },
      "execution_count": null,
      "outputs": [
        {
          "output_type": "stream",
          "name": "stdout",
          "text": [
            "Epoch 1/100\n",
            "1688/1688 [==============================] - 6s 3ms/step - loss: 2.2153 - accuracy: 0.3262 - val_loss: 2.0841 - val_accuracy: 0.5558\n",
            "Epoch 2/100\n",
            "1688/1688 [==============================] - 5s 3ms/step - loss: 1.8182 - accuracy: 0.5833 - val_loss: 1.5192 - val_accuracy: 0.6837\n",
            "Epoch 3/100\n",
            "1688/1688 [==============================] - 4s 2ms/step - loss: 1.2526 - accuracy: 0.7119 - val_loss: 1.0542 - val_accuracy: 0.7468\n",
            "Epoch 4/100\n",
            "1688/1688 [==============================] - 4s 3ms/step - loss: 0.9141 - accuracy: 0.7745 - val_loss: 0.8126 - val_accuracy: 0.7928\n",
            "Epoch 5/100\n",
            "1688/1688 [==============================] - 4s 3ms/step - loss: 0.7314 - accuracy: 0.8127 - val_loss: 0.6708 - val_accuracy: 0.8308\n",
            "Epoch 6/100\n",
            "1688/1688 [==============================] - 4s 3ms/step - loss: 0.6167 - accuracy: 0.8387 - val_loss: 0.5787 - val_accuracy: 0.8518\n",
            "Epoch 7/100\n",
            "1688/1688 [==============================] - 4s 2ms/step - loss: 0.5399 - accuracy: 0.8564 - val_loss: 0.5155 - val_accuracy: 0.8678\n",
            "Epoch 8/100\n",
            "1688/1688 [==============================] - 4s 3ms/step - loss: 0.4859 - accuracy: 0.8704 - val_loss: 0.4722 - val_accuracy: 0.8780\n",
            "Epoch 9/100\n",
            "1688/1688 [==============================] - 4s 3ms/step - loss: 0.4465 - accuracy: 0.8790 - val_loss: 0.4373 - val_accuracy: 0.8852\n",
            "Epoch 10/100\n",
            "1688/1688 [==============================] - 4s 3ms/step - loss: 0.4167 - accuracy: 0.8857 - val_loss: 0.4121 - val_accuracy: 0.8908\n",
            "Epoch 11/100\n",
            "1688/1688 [==============================] - 4s 2ms/step - loss: 0.3935 - accuracy: 0.8914 - val_loss: 0.3921 - val_accuracy: 0.8938\n",
            "Epoch 12/100\n",
            "1688/1688 [==============================] - 4s 3ms/step - loss: 0.3753 - accuracy: 0.8956 - val_loss: 0.3765 - val_accuracy: 0.8958\n",
            "Epoch 13/100\n",
            "1688/1688 [==============================] - 4s 3ms/step - loss: 0.3604 - accuracy: 0.8995 - val_loss: 0.3641 - val_accuracy: 0.8980\n",
            "Epoch 14/100\n",
            "1688/1688 [==============================] - 4s 3ms/step - loss: 0.3478 - accuracy: 0.9024 - val_loss: 0.3532 - val_accuracy: 0.9003\n",
            "Epoch 15/100\n",
            "1688/1688 [==============================] - 4s 3ms/step - loss: 0.3371 - accuracy: 0.9048 - val_loss: 0.3424 - val_accuracy: 0.9022\n",
            "Epoch 16/100\n",
            "1688/1688 [==============================] - 4s 3ms/step - loss: 0.3279 - accuracy: 0.9069 - val_loss: 0.3342 - val_accuracy: 0.9037\n",
            "Epoch 17/100\n",
            "1688/1688 [==============================] - 4s 2ms/step - loss: 0.3196 - accuracy: 0.9093 - val_loss: 0.3265 - val_accuracy: 0.9057\n",
            "Epoch 18/100\n",
            "1688/1688 [==============================] - 4s 2ms/step - loss: 0.3123 - accuracy: 0.9103 - val_loss: 0.3201 - val_accuracy: 0.9067\n",
            "Epoch 19/100\n",
            "1688/1688 [==============================] - 4s 2ms/step - loss: 0.3056 - accuracy: 0.9122 - val_loss: 0.3129 - val_accuracy: 0.9108\n",
            "Epoch 20/100\n",
            "1688/1688 [==============================] - 4s 3ms/step - loss: 0.2994 - accuracy: 0.9142 - val_loss: 0.3082 - val_accuracy: 0.9105\n",
            "Epoch 21/100\n",
            "1688/1688 [==============================] - 5s 3ms/step - loss: 0.2936 - accuracy: 0.9158 - val_loss: 0.3023 - val_accuracy: 0.9142\n",
            "Epoch 22/100\n",
            "1688/1688 [==============================] - 4s 3ms/step - loss: 0.2883 - accuracy: 0.9174 - val_loss: 0.2970 - val_accuracy: 0.9135\n",
            "Epoch 23/100\n",
            "1688/1688 [==============================] - 4s 3ms/step - loss: 0.2833 - accuracy: 0.9188 - val_loss: 0.2924 - val_accuracy: 0.9152\n",
            "Epoch 24/100\n",
            "1688/1688 [==============================] - 4s 2ms/step - loss: 0.2785 - accuracy: 0.9196 - val_loss: 0.2871 - val_accuracy: 0.9172\n",
            "Epoch 25/100\n",
            "1688/1688 [==============================] - 4s 2ms/step - loss: 0.2739 - accuracy: 0.9209 - val_loss: 0.2834 - val_accuracy: 0.9172\n",
            "Epoch 26/100\n",
            "1688/1688 [==============================] - 4s 3ms/step - loss: 0.2696 - accuracy: 0.9220 - val_loss: 0.2794 - val_accuracy: 0.9188\n",
            "Epoch 27/100\n",
            "1688/1688 [==============================] - 4s 3ms/step - loss: 0.2653 - accuracy: 0.9229 - val_loss: 0.2750 - val_accuracy: 0.9208\n",
            "Epoch 28/100\n",
            "1688/1688 [==============================] - 4s 3ms/step - loss: 0.2611 - accuracy: 0.9243 - val_loss: 0.2712 - val_accuracy: 0.9225\n",
            "Epoch 29/100\n",
            "1688/1688 [==============================] - 4s 3ms/step - loss: 0.2572 - accuracy: 0.9256 - val_loss: 0.2678 - val_accuracy: 0.9233\n",
            "Epoch 30/100\n",
            "1688/1688 [==============================] - 4s 2ms/step - loss: 0.2531 - accuracy: 0.9266 - val_loss: 0.2644 - val_accuracy: 0.9233\n",
            "Epoch 31/100\n",
            "1688/1688 [==============================] - 4s 2ms/step - loss: 0.2496 - accuracy: 0.9273 - val_loss: 0.2610 - val_accuracy: 0.9255\n",
            "Epoch 32/100\n",
            "1688/1688 [==============================] - 4s 3ms/step - loss: 0.2460 - accuracy: 0.9282 - val_loss: 0.2580 - val_accuracy: 0.9270\n",
            "Epoch 33/100\n",
            "1688/1688 [==============================] - 5s 3ms/step - loss: 0.2424 - accuracy: 0.9293 - val_loss: 0.2539 - val_accuracy: 0.9268\n",
            "Epoch 34/100\n",
            "1688/1688 [==============================] - 5s 3ms/step - loss: 0.2389 - accuracy: 0.9304 - val_loss: 0.2507 - val_accuracy: 0.9280\n",
            "Epoch 35/100\n",
            "1688/1688 [==============================] - 4s 2ms/step - loss: 0.2354 - accuracy: 0.9311 - val_loss: 0.2478 - val_accuracy: 0.9275\n",
            "Epoch 36/100\n",
            "1688/1688 [==============================] - 4s 3ms/step - loss: 0.2321 - accuracy: 0.9319 - val_loss: 0.2442 - val_accuracy: 0.9282\n",
            "Epoch 37/100\n",
            "1688/1688 [==============================] - 4s 3ms/step - loss: 0.2287 - accuracy: 0.9330 - val_loss: 0.2411 - val_accuracy: 0.9295\n",
            "Epoch 38/100\n",
            "1688/1688 [==============================] - 4s 3ms/step - loss: 0.2255 - accuracy: 0.9339 - val_loss: 0.2383 - val_accuracy: 0.9308\n",
            "Epoch 39/100\n",
            "1688/1688 [==============================] - 4s 3ms/step - loss: 0.2223 - accuracy: 0.9343 - val_loss: 0.2361 - val_accuracy: 0.9313\n",
            "Epoch 40/100\n",
            "1688/1688 [==============================] - 4s 3ms/step - loss: 0.2193 - accuracy: 0.9359 - val_loss: 0.2337 - val_accuracy: 0.9303\n",
            "Epoch 41/100\n",
            "1688/1688 [==============================] - 4s 3ms/step - loss: 0.2164 - accuracy: 0.9363 - val_loss: 0.2299 - val_accuracy: 0.9320\n",
            "Epoch 42/100\n",
            "1688/1688 [==============================] - 4s 3ms/step - loss: 0.2132 - accuracy: 0.9370 - val_loss: 0.2275 - val_accuracy: 0.9337\n",
            "Epoch 43/100\n",
            "1688/1688 [==============================] - 4s 2ms/step - loss: 0.2105 - accuracy: 0.9379 - val_loss: 0.2246 - val_accuracy: 0.9343\n",
            "Epoch 44/100\n",
            "1688/1688 [==============================] - 4s 2ms/step - loss: 0.2076 - accuracy: 0.9385 - val_loss: 0.2218 - val_accuracy: 0.9348\n",
            "Epoch 45/100\n",
            "1688/1688 [==============================] - 4s 2ms/step - loss: 0.2049 - accuracy: 0.9394 - val_loss: 0.2196 - val_accuracy: 0.9353\n",
            "Epoch 46/100\n",
            "1688/1688 [==============================] - 4s 2ms/step - loss: 0.2021 - accuracy: 0.9402 - val_loss: 0.2172 - val_accuracy: 0.9368\n",
            "Epoch 47/100\n",
            "1688/1688 [==============================] - 4s 2ms/step - loss: 0.1994 - accuracy: 0.9410 - val_loss: 0.2144 - val_accuracy: 0.9377\n",
            "Epoch 48/100\n",
            "1688/1688 [==============================] - 4s 2ms/step - loss: 0.1969 - accuracy: 0.9417 - val_loss: 0.2120 - val_accuracy: 0.9390\n",
            "Epoch 49/100\n",
            "1688/1688 [==============================] - 4s 2ms/step - loss: 0.1943 - accuracy: 0.9427 - val_loss: 0.2097 - val_accuracy: 0.9392\n",
            "Epoch 50/100\n",
            "1688/1688 [==============================] - 4s 2ms/step - loss: 0.1917 - accuracy: 0.9439 - val_loss: 0.2077 - val_accuracy: 0.9383\n",
            "Epoch 51/100\n",
            "1688/1688 [==============================] - 4s 2ms/step - loss: 0.1893 - accuracy: 0.9446 - val_loss: 0.2061 - val_accuracy: 0.9408\n",
            "Epoch 52/100\n",
            "1688/1688 [==============================] - 4s 2ms/step - loss: 0.1869 - accuracy: 0.9453 - val_loss: 0.2031 - val_accuracy: 0.9402\n",
            "Epoch 53/100\n",
            "1688/1688 [==============================] - 4s 2ms/step - loss: 0.1845 - accuracy: 0.9459 - val_loss: 0.2006 - val_accuracy: 0.9412\n",
            "Epoch 54/100\n",
            "1688/1688 [==============================] - 4s 2ms/step - loss: 0.1822 - accuracy: 0.9469 - val_loss: 0.1992 - val_accuracy: 0.9413\n",
            "Epoch 55/100\n",
            "1688/1688 [==============================] - 4s 2ms/step - loss: 0.1799 - accuracy: 0.9474 - val_loss: 0.1969 - val_accuracy: 0.9423\n",
            "Epoch 56/100\n",
            "1688/1688 [==============================] - 4s 2ms/step - loss: 0.1778 - accuracy: 0.9481 - val_loss: 0.1947 - val_accuracy: 0.9427\n",
            "Epoch 57/100\n",
            "1688/1688 [==============================] - 4s 2ms/step - loss: 0.1756 - accuracy: 0.9489 - val_loss: 0.1928 - val_accuracy: 0.9427\n",
            "Epoch 58/100\n",
            "1688/1688 [==============================] - 4s 2ms/step - loss: 0.1736 - accuracy: 0.9490 - val_loss: 0.1910 - val_accuracy: 0.9442\n",
            "Epoch 59/100\n",
            "1688/1688 [==============================] - 4s 2ms/step - loss: 0.1714 - accuracy: 0.9500 - val_loss: 0.1890 - val_accuracy: 0.9458\n",
            "Epoch 60/100\n",
            "1688/1688 [==============================] - 4s 2ms/step - loss: 0.1693 - accuracy: 0.9507 - val_loss: 0.1878 - val_accuracy: 0.9447\n",
            "Epoch 61/100\n",
            "1688/1688 [==============================] - 4s 3ms/step - loss: 0.1673 - accuracy: 0.9509 - val_loss: 0.1856 - val_accuracy: 0.9463\n",
            "Epoch 62/100\n",
            "1688/1688 [==============================] - 4s 3ms/step - loss: 0.1653 - accuracy: 0.9517 - val_loss: 0.1836 - val_accuracy: 0.9482\n",
            "Epoch 63/100\n",
            "1688/1688 [==============================] - 4s 2ms/step - loss: 0.1634 - accuracy: 0.9528 - val_loss: 0.1817 - val_accuracy: 0.9478\n",
            "Epoch 64/100\n",
            "1688/1688 [==============================] - 4s 2ms/step - loss: 0.1614 - accuracy: 0.9531 - val_loss: 0.1806 - val_accuracy: 0.9492\n",
            "Epoch 65/100\n",
            "1688/1688 [==============================] - 4s 2ms/step - loss: 0.1597 - accuracy: 0.9536 - val_loss: 0.1789 - val_accuracy: 0.9488\n",
            "Epoch 66/100\n",
            "1688/1688 [==============================] - 5s 3ms/step - loss: 0.1578 - accuracy: 0.9541 - val_loss: 0.1774 - val_accuracy: 0.9482\n",
            "Epoch 67/100\n",
            "1688/1688 [==============================] - 5s 3ms/step - loss: 0.1559 - accuracy: 0.9548 - val_loss: 0.1748 - val_accuracy: 0.9500\n",
            "Epoch 68/100\n",
            "1688/1688 [==============================] - 4s 2ms/step - loss: 0.1542 - accuracy: 0.9553 - val_loss: 0.1740 - val_accuracy: 0.9497\n",
            "Epoch 69/100\n",
            "1688/1688 [==============================] - 4s 3ms/step - loss: 0.1525 - accuracy: 0.9558 - val_loss: 0.1718 - val_accuracy: 0.9503\n",
            "Epoch 70/100\n",
            "1688/1688 [==============================] - 4s 2ms/step - loss: 0.1507 - accuracy: 0.9562 - val_loss: 0.1713 - val_accuracy: 0.9500\n",
            "Epoch 71/100\n",
            "1688/1688 [==============================] - 4s 3ms/step - loss: 0.1490 - accuracy: 0.9567 - val_loss: 0.1697 - val_accuracy: 0.9513\n",
            "Epoch 72/100\n",
            "1688/1688 [==============================] - 4s 3ms/step - loss: 0.1474 - accuracy: 0.9573 - val_loss: 0.1679 - val_accuracy: 0.9522\n",
            "Epoch 73/100\n",
            "1688/1688 [==============================] - 4s 3ms/step - loss: 0.1458 - accuracy: 0.9581 - val_loss: 0.1665 - val_accuracy: 0.9522\n",
            "Epoch 74/100\n",
            "1688/1688 [==============================] - 4s 3ms/step - loss: 0.1442 - accuracy: 0.9584 - val_loss: 0.1646 - val_accuracy: 0.9528\n",
            "Epoch 75/100\n",
            "1688/1688 [==============================] - 4s 3ms/step - loss: 0.1426 - accuracy: 0.9590 - val_loss: 0.1640 - val_accuracy: 0.9520\n",
            "Epoch 76/100\n",
            "1688/1688 [==============================] - 4s 2ms/step - loss: 0.1411 - accuracy: 0.9594 - val_loss: 0.1627 - val_accuracy: 0.9522\n",
            "Epoch 77/100\n",
            "1688/1688 [==============================] - 4s 3ms/step - loss: 0.1396 - accuracy: 0.9596 - val_loss: 0.1612 - val_accuracy: 0.9528\n",
            "Epoch 78/100\n",
            "1688/1688 [==============================] - 6s 3ms/step - loss: 0.1381 - accuracy: 0.9606 - val_loss: 0.1600 - val_accuracy: 0.9527\n",
            "Epoch 79/100\n",
            "1688/1688 [==============================] - 5s 3ms/step - loss: 0.1367 - accuracy: 0.9607 - val_loss: 0.1579 - val_accuracy: 0.9535\n",
            "Epoch 80/100\n",
            "1688/1688 [==============================] - 4s 3ms/step - loss: 0.1352 - accuracy: 0.9614 - val_loss: 0.1569 - val_accuracy: 0.9537\n",
            "Epoch 81/100\n",
            "1688/1688 [==============================] - 4s 3ms/step - loss: 0.1337 - accuracy: 0.9616 - val_loss: 0.1559 - val_accuracy: 0.9533\n",
            "Epoch 82/100\n",
            "1688/1688 [==============================] - 4s 2ms/step - loss: 0.1324 - accuracy: 0.9622 - val_loss: 0.1557 - val_accuracy: 0.9533\n",
            "Epoch 83/100\n",
            "1688/1688 [==============================] - 4s 3ms/step - loss: 0.1309 - accuracy: 0.9624 - val_loss: 0.1538 - val_accuracy: 0.9555\n",
            "Epoch 84/100\n",
            "1688/1688 [==============================] - 4s 3ms/step - loss: 0.1296 - accuracy: 0.9633 - val_loss: 0.1521 - val_accuracy: 0.9553\n",
            "Epoch 85/100\n",
            "1688/1688 [==============================] - 4s 3ms/step - loss: 0.1283 - accuracy: 0.9632 - val_loss: 0.1509 - val_accuracy: 0.9562\n",
            "Epoch 86/100\n",
            "1688/1688 [==============================] - 4s 3ms/step - loss: 0.1271 - accuracy: 0.9639 - val_loss: 0.1497 - val_accuracy: 0.9557\n",
            "Epoch 87/100\n",
            "1688/1688 [==============================] - 4s 3ms/step - loss: 0.1258 - accuracy: 0.9643 - val_loss: 0.1491 - val_accuracy: 0.9560\n",
            "Epoch 88/100\n",
            "1688/1688 [==============================] - 4s 3ms/step - loss: 0.1245 - accuracy: 0.9644 - val_loss: 0.1475 - val_accuracy: 0.9570\n",
            "Epoch 89/100\n",
            "1688/1688 [==============================] - 4s 2ms/step - loss: 0.1232 - accuracy: 0.9651 - val_loss: 0.1474 - val_accuracy: 0.9555\n",
            "Epoch 90/100\n",
            "1688/1688 [==============================] - 4s 3ms/step - loss: 0.1219 - accuracy: 0.9654 - val_loss: 0.1459 - val_accuracy: 0.9573\n",
            "Epoch 91/100\n",
            "1688/1688 [==============================] - 4s 2ms/step - loss: 0.1207 - accuracy: 0.9661 - val_loss: 0.1446 - val_accuracy: 0.9570\n",
            "Epoch 92/100\n",
            "1688/1688 [==============================] - 4s 2ms/step - loss: 0.1195 - accuracy: 0.9666 - val_loss: 0.1444 - val_accuracy: 0.9575\n",
            "Epoch 93/100\n",
            "1688/1688 [==============================] - 4s 3ms/step - loss: 0.1184 - accuracy: 0.9664 - val_loss: 0.1436 - val_accuracy: 0.9573\n",
            "Epoch 94/100\n",
            "1688/1688 [==============================] - 4s 3ms/step - loss: 0.1172 - accuracy: 0.9669 - val_loss: 0.1422 - val_accuracy: 0.9582\n",
            "Epoch 95/100\n",
            "1688/1688 [==============================] - 4s 3ms/step - loss: 0.1162 - accuracy: 0.9671 - val_loss: 0.1408 - val_accuracy: 0.9587\n",
            "Epoch 96/100\n",
            "1688/1688 [==============================] - 5s 3ms/step - loss: 0.1149 - accuracy: 0.9675 - val_loss: 0.1396 - val_accuracy: 0.9582\n",
            "Epoch 97/100\n",
            "1688/1688 [==============================] - 5s 3ms/step - loss: 0.1139 - accuracy: 0.9678 - val_loss: 0.1387 - val_accuracy: 0.9597\n",
            "Epoch 98/100\n",
            "1688/1688 [==============================] - 6s 4ms/step - loss: 0.1128 - accuracy: 0.9681 - val_loss: 0.1376 - val_accuracy: 0.9600\n",
            "Epoch 99/100\n",
            "1688/1688 [==============================] - 5s 3ms/step - loss: 0.1118 - accuracy: 0.9684 - val_loss: 0.1365 - val_accuracy: 0.9607\n",
            "Epoch 100/100\n",
            "1688/1688 [==============================] - 4s 3ms/step - loss: 0.1107 - accuracy: 0.9688 - val_loss: 0.1358 - val_accuracy: 0.9603\n"
          ]
        }
      ]
    },
    {
      "cell_type": "code",
      "source": [
        "# вывод графика ошибки по эпохам\n",
        "plt.plot(H.history['loss'])\n",
        "plt.plot(H.history['val_loss'])\n",
        "plt.grid()\n",
        "plt.xlabel('Epochs')\n",
        "plt.ylabel('loss')\n",
        "plt.legend(['train_loss', 'val_loss'])\n",
        "plt.title('Loss by epochs')\n",
        "plt.show()"
      ],
      "metadata": {
        "colab": {
          "base_uri": "https://localhost:8080/",
          "height": 295
        },
        "id": "BpNBwwx7z8ti",
        "outputId": "7107950a-40a1-4c58-8b08-63cfe80ac60b"
      },
      "execution_count": null,
      "outputs": [
        {
          "output_type": "display_data",
          "data": {
            "text/plain": [
              "<Figure size 432x288 with 1 Axes>"
            ],
            "image/png": "[encoded data removed]"
          },
          "metadata": {
            "needs_background": "light"
          }
        }
      ]
    },
    {
      "cell_type": "code",
      "source": [
        "# Оценка качества работы модели на тестовых данных\n",
        "scores = model_1h100_2h50.evaluate(X_test, y_test)\n",
        "print('Loss on test data:', scores[0])\n",
        "print('Accuracy on test data:', scores[1])"
      ],
      "metadata": {
        "colab": {
          "base_uri": "https://localhost:8080/"
        },
        "id": "bExJCrU50Lis",
        "outputId": "8dc35209-93ed-4165-eaa7-7ceeb910c34d"
      },
      "execution_count": null,
      "outputs": [
        {
          "output_type": "stream",
          "name": "stdout",
          "text": [
            "313/313 [==============================] - 1s 2ms/step - loss: 0.1398 - accuracy: 0.9598\n",
            "Loss on test data: 0.1398417204618454\n",
            "Accuracy on test data: 0.9598000049591064\n"
          ]
        }
      ]
    },
    {
      "cell_type": "code",
      "source": [
        "# Модель нейронной сети (кол-во скрытых слоев = 2, кол-во нейронов в первом скрытом слое = 100, во втором = 100)\n",
        "# 1. создаем модель - объявляем ее объектом класса Sequential\n",
        "model_1h100_2h100 = Sequential()\n",
        "\n",
        "# 2. добавляем первый скрытый слой\n",
        "model_1h100_2h100.add(Dense(units=100, input_dim=num_pixels, activation='sigmoid'))\n",
        "\n",
        "# 3. добавляем второй скрытый слой\n",
        "model_1h100_2h100.add(Dense(units=100, activation='sigmoid'))\n",
        "\n",
        "# 4. добавляем выходной слой\n",
        "model_1h100_2h100.add(Dense(units=num_classes, activation='softmax'))\n",
        "\n",
        "# 5. компилируем модель\n",
        "model_1h100_2h100.compile(loss='categorical_crossentropy', optimizer='sgd', metrics=['accuracy'])\n",
        "\n",
        "# вывод информации об архитектуре модели\n",
        "print(model_1h100_2h100.summary())"
      ],
      "metadata": {
        "colab": {
          "base_uri": "https://localhost:8080/"
        },
        "id": "mMtWP6ms1JxQ",
        "outputId": "56b22c19-15b9-4436-aa8f-34fb8f497858"
      },
      "execution_count": null,
      "outputs": [
        {
          "output_type": "stream",
          "name": "stdout",
          "text": [
            "Model: \"sequential_7\"\n",
            "_________________________________________________________________\n",
            " Layer (type)                Output Shape              Param #   \n",
            "=================================================================\n",
            " dense_13 (Dense)            (None, 100)               78500     \n",
            "                                                                 \n",
            " dense_14 (Dense)            (None, 100)               10100     \n",
            "                                                                 \n",
            " dense_15 (Dense)            (None, 10)                1010      \n",
            "                                                                 \n",
            "=================================================================\n",
            "Total params: 89,610\n",
            "Trainable params: 89,610\n",
            "Non-trainable params: 0\n",
            "_________________________________________________________________\n",
            "None\n"
          ]
        }
      ]
    },
    {
      "cell_type": "code",
      "source": [
        "# Обучаем модель\n",
        "H = model_1h100_2h100.fit(X_train, y_train, validation_split=0.1, epochs=100)"
      ],
      "metadata": {
        "colab": {
          "base_uri": "https://localhost:8080/"
        },
        "id": "zUn4ucwj1x_W",
        "outputId": "159b0232-98b5-413b-e360-90d09a8d27d2"
      },
      "execution_count": null,
      "outputs": [
        {
          "output_type": "stream",
          "name": "stdout",
          "text": [
            "Epoch 1/100\n",
            "1688/1688 [==============================] - 5s 3ms/step - loss: 2.2276 - accuracy: 0.2994 - val_loss: 2.1069 - val_accuracy: 0.5285\n",
            "Epoch 2/100\n",
            "1688/1688 [==============================] - 4s 2ms/step - loss: 1.8371 - accuracy: 0.5935 - val_loss: 1.5244 - val_accuracy: 0.6758\n",
            "Epoch 3/100\n",
            "1688/1688 [==============================] - 4s 2ms/step - loss: 1.2330 - accuracy: 0.7222 - val_loss: 1.0174 - val_accuracy: 0.7640\n",
            "Epoch 4/100\n",
            "1688/1688 [==============================] - 4s 2ms/step - loss: 0.8654 - accuracy: 0.7918 - val_loss: 0.7614 - val_accuracy: 0.8135\n",
            "Epoch 5/100\n",
            "1688/1688 [==============================] - 4s 2ms/step - loss: 0.6779 - accuracy: 0.8305 - val_loss: 0.6236 - val_accuracy: 0.8425\n",
            "Epoch 6/100\n",
            "1688/1688 [==============================] - 4s 3ms/step - loss: 0.5710 - accuracy: 0.8523 - val_loss: 0.5411 - val_accuracy: 0.8580\n",
            "Epoch 7/100\n",
            "1688/1688 [==============================] - 5s 3ms/step - loss: 0.5035 - accuracy: 0.8659 - val_loss: 0.4865 - val_accuracy: 0.8693\n",
            "Epoch 8/100\n",
            "1688/1688 [==============================] - 5s 3ms/step - loss: 0.4575 - accuracy: 0.8782 - val_loss: 0.4496 - val_accuracy: 0.8807\n",
            "Epoch 9/100\n",
            "1688/1688 [==============================] - 4s 2ms/step - loss: 0.4243 - accuracy: 0.8852 - val_loss: 0.4229 - val_accuracy: 0.8877\n",
            "Epoch 10/100\n",
            "1688/1688 [==============================] - 4s 3ms/step - loss: 0.3993 - accuracy: 0.8906 - val_loss: 0.3995 - val_accuracy: 0.8907\n",
            "Epoch 11/100\n",
            "1688/1688 [==============================] - 4s 3ms/step - loss: 0.3799 - accuracy: 0.8951 - val_loss: 0.3825 - val_accuracy: 0.8945\n",
            "Epoch 12/100\n",
            "1688/1688 [==============================] - 4s 3ms/step - loss: 0.3643 - accuracy: 0.8983 - val_loss: 0.3675 - val_accuracy: 0.8985\n",
            "Epoch 13/100\n",
            "1688/1688 [==============================] - 4s 2ms/step - loss: 0.3513 - accuracy: 0.9014 - val_loss: 0.3550 - val_accuracy: 0.9000\n",
            "Epoch 14/100\n",
            "1688/1688 [==============================] - 4s 2ms/step - loss: 0.3403 - accuracy: 0.9040 - val_loss: 0.3445 - val_accuracy: 0.9022\n",
            "Epoch 15/100\n",
            "1688/1688 [==============================] - 4s 2ms/step - loss: 0.3305 - accuracy: 0.9063 - val_loss: 0.3366 - val_accuracy: 0.9052\n",
            "Epoch 16/100\n",
            "1688/1688 [==============================] - 4s 2ms/step - loss: 0.3221 - accuracy: 0.9082 - val_loss: 0.3280 - val_accuracy: 0.9090\n",
            "Epoch 17/100\n",
            "1688/1688 [==============================] - 4s 2ms/step - loss: 0.3143 - accuracy: 0.9107 - val_loss: 0.3204 - val_accuracy: 0.9098\n",
            "Epoch 18/100\n",
            "1688/1688 [==============================] - 4s 2ms/step - loss: 0.3073 - accuracy: 0.9130 - val_loss: 0.3148 - val_accuracy: 0.9112\n",
            "Epoch 19/100\n",
            "1688/1688 [==============================] - 4s 2ms/step - loss: 0.3007 - accuracy: 0.9140 - val_loss: 0.3092 - val_accuracy: 0.9135\n",
            "Epoch 20/100\n",
            "1688/1688 [==============================] - 4s 2ms/step - loss: 0.2947 - accuracy: 0.9158 - val_loss: 0.3027 - val_accuracy: 0.9145\n",
            "Epoch 21/100\n",
            "1688/1688 [==============================] - 4s 2ms/step - loss: 0.2889 - accuracy: 0.9173 - val_loss: 0.2972 - val_accuracy: 0.9150\n",
            "Epoch 22/100\n",
            "1688/1688 [==============================] - 4s 3ms/step - loss: 0.2835 - accuracy: 0.9186 - val_loss: 0.2911 - val_accuracy: 0.9157\n",
            "Epoch 23/100\n",
            "1688/1688 [==============================] - 4s 3ms/step - loss: 0.2784 - accuracy: 0.9199 - val_loss: 0.2865 - val_accuracy: 0.9163\n",
            "Epoch 24/100\n",
            "1688/1688 [==============================] - 4s 3ms/step - loss: 0.2733 - accuracy: 0.9215 - val_loss: 0.2820 - val_accuracy: 0.9183\n",
            "Epoch 25/100\n",
            "1688/1688 [==============================] - 4s 2ms/step - loss: 0.2687 - accuracy: 0.9226 - val_loss: 0.2768 - val_accuracy: 0.9192\n",
            "Epoch 26/100\n",
            "1688/1688 [==============================] - 4s 2ms/step - loss: 0.2641 - accuracy: 0.9235 - val_loss: 0.2725 - val_accuracy: 0.9222\n",
            "Epoch 27/100\n",
            "1688/1688 [==============================] - 4s 2ms/step - loss: 0.2596 - accuracy: 0.9249 - val_loss: 0.2681 - val_accuracy: 0.9212\n",
            "Epoch 28/100\n",
            "1688/1688 [==============================] - 4s 3ms/step - loss: 0.2554 - accuracy: 0.9259 - val_loss: 0.2656 - val_accuracy: 0.9210\n",
            "Epoch 29/100\n",
            "1688/1688 [==============================] - 4s 3ms/step - loss: 0.2512 - accuracy: 0.9268 - val_loss: 0.2601 - val_accuracy: 0.9233\n",
            "Epoch 30/100\n",
            "1688/1688 [==============================] - 4s 2ms/step - loss: 0.2471 - accuracy: 0.9284 - val_loss: 0.2562 - val_accuracy: 0.9242\n",
            "Epoch 31/100\n",
            "1688/1688 [==============================] - 4s 3ms/step - loss: 0.2432 - accuracy: 0.9290 - val_loss: 0.2531 - val_accuracy: 0.9248\n",
            "Epoch 32/100\n",
            "1688/1688 [==============================] - 4s 3ms/step - loss: 0.2394 - accuracy: 0.9304 - val_loss: 0.2493 - val_accuracy: 0.9260\n",
            "Epoch 33/100\n",
            "1688/1688 [==============================] - 4s 3ms/step - loss: 0.2355 - accuracy: 0.9316 - val_loss: 0.2466 - val_accuracy: 0.9257\n",
            "Epoch 34/100\n",
            "1688/1688 [==============================] - 4s 3ms/step - loss: 0.2319 - accuracy: 0.9323 - val_loss: 0.2422 - val_accuracy: 0.9285\n",
            "Epoch 35/100\n",
            "1688/1688 [==============================] - 4s 3ms/step - loss: 0.2284 - accuracy: 0.9333 - val_loss: 0.2388 - val_accuracy: 0.9305\n",
            "Epoch 36/100\n",
            "1688/1688 [==============================] - 4s 3ms/step - loss: 0.2249 - accuracy: 0.9344 - val_loss: 0.2355 - val_accuracy: 0.9308\n",
            "Epoch 37/100\n",
            "1688/1688 [==============================] - 4s 2ms/step - loss: 0.2214 - accuracy: 0.9350 - val_loss: 0.2321 - val_accuracy: 0.9310\n",
            "Epoch 38/100\n",
            "1688/1688 [==============================] - 4s 2ms/step - loss: 0.2180 - accuracy: 0.9358 - val_loss: 0.2291 - val_accuracy: 0.9330\n",
            "Epoch 39/100\n",
            "1688/1688 [==============================] - 6s 3ms/step - loss: 0.2147 - accuracy: 0.9371 - val_loss: 0.2259 - val_accuracy: 0.9340\n",
            "Epoch 40/100\n",
            "1688/1688 [==============================] - 4s 2ms/step - loss: 0.2114 - accuracy: 0.9382 - val_loss: 0.2244 - val_accuracy: 0.9358\n",
            "Epoch 41/100\n",
            "1688/1688 [==============================] - 4s 3ms/step - loss: 0.2084 - accuracy: 0.9390 - val_loss: 0.2215 - val_accuracy: 0.9352\n",
            "Epoch 42/100\n",
            "1688/1688 [==============================] - 4s 3ms/step - loss: 0.2053 - accuracy: 0.9396 - val_loss: 0.2192 - val_accuracy: 0.9350\n",
            "Epoch 43/100\n",
            "1688/1688 [==============================] - 4s 3ms/step - loss: 0.2025 - accuracy: 0.9406 - val_loss: 0.2156 - val_accuracy: 0.9355\n",
            "Epoch 44/100\n",
            "1688/1688 [==============================] - 4s 2ms/step - loss: 0.1995 - accuracy: 0.9418 - val_loss: 0.2129 - val_accuracy: 0.9367\n",
            "Epoch 45/100\n",
            "1688/1688 [==============================] - 4s 3ms/step - loss: 0.1967 - accuracy: 0.9427 - val_loss: 0.2099 - val_accuracy: 0.9368\n",
            "Epoch 46/100\n",
            "1688/1688 [==============================] - 4s 3ms/step - loss: 0.1938 - accuracy: 0.9432 - val_loss: 0.2066 - val_accuracy: 0.9385\n",
            "Epoch 47/100\n",
            "1688/1688 [==============================] - 4s 2ms/step - loss: 0.1912 - accuracy: 0.9440 - val_loss: 0.2046 - val_accuracy: 0.9398\n",
            "Epoch 48/100\n",
            "1688/1688 [==============================] - 4s 3ms/step - loss: 0.1886 - accuracy: 0.9446 - val_loss: 0.2022 - val_accuracy: 0.9392\n",
            "Epoch 49/100\n",
            "1688/1688 [==============================] - 4s 3ms/step - loss: 0.1860 - accuracy: 0.9451 - val_loss: 0.2006 - val_accuracy: 0.9410\n",
            "Epoch 50/100\n",
            "1688/1688 [==============================] - 4s 3ms/step - loss: 0.1835 - accuracy: 0.9464 - val_loss: 0.1969 - val_accuracy: 0.9407\n",
            "Epoch 51/100\n",
            "1688/1688 [==============================] - 4s 3ms/step - loss: 0.1810 - accuracy: 0.9465 - val_loss: 0.1950 - val_accuracy: 0.9423\n",
            "Epoch 52/100\n",
            "1688/1688 [==============================] - 4s 3ms/step - loss: 0.1786 - accuracy: 0.9477 - val_loss: 0.1937 - val_accuracy: 0.9432\n",
            "Epoch 53/100\n",
            "1688/1688 [==============================] - 4s 3ms/step - loss: 0.1762 - accuracy: 0.9484 - val_loss: 0.1911 - val_accuracy: 0.9425\n",
            "Epoch 54/100\n",
            "1688/1688 [==============================] - 4s 2ms/step - loss: 0.1740 - accuracy: 0.9489 - val_loss: 0.1893 - val_accuracy: 0.9438\n",
            "Epoch 55/100\n",
            "1688/1688 [==============================] - 4s 3ms/step - loss: 0.1716 - accuracy: 0.9496 - val_loss: 0.1866 - val_accuracy: 0.9445\n",
            "Epoch 56/100\n",
            "1688/1688 [==============================] - 4s 2ms/step - loss: 0.1694 - accuracy: 0.9502 - val_loss: 0.1847 - val_accuracy: 0.9453\n",
            "Epoch 57/100\n",
            "1688/1688 [==============================] - 4s 3ms/step - loss: 0.1673 - accuracy: 0.9509 - val_loss: 0.1836 - val_accuracy: 0.9457\n",
            "Epoch 58/100\n",
            "1688/1688 [==============================] - 4s 3ms/step - loss: 0.1652 - accuracy: 0.9519 - val_loss: 0.1811 - val_accuracy: 0.9458\n",
            "Epoch 59/100\n",
            "1688/1688 [==============================] - 4s 3ms/step - loss: 0.1633 - accuracy: 0.9521 - val_loss: 0.1797 - val_accuracy: 0.9475\n",
            "Epoch 60/100\n",
            "1688/1688 [==============================] - 4s 2ms/step - loss: 0.1612 - accuracy: 0.9529 - val_loss: 0.1789 - val_accuracy: 0.9460\n",
            "Epoch 61/100\n",
            "1688/1688 [==============================] - 4s 2ms/step - loss: 0.1592 - accuracy: 0.9536 - val_loss: 0.1758 - val_accuracy: 0.9480\n",
            "Epoch 62/100\n",
            "1688/1688 [==============================] - 4s 2ms/step - loss: 0.1572 - accuracy: 0.9541 - val_loss: 0.1740 - val_accuracy: 0.9485\n",
            "Epoch 63/100\n",
            "1688/1688 [==============================] - 4s 2ms/step - loss: 0.1553 - accuracy: 0.9544 - val_loss: 0.1729 - val_accuracy: 0.9485\n",
            "Epoch 64/100\n",
            "1688/1688 [==============================] - 4s 2ms/step - loss: 0.1534 - accuracy: 0.9549 - val_loss: 0.1707 - val_accuracy: 0.9495\n",
            "Epoch 65/100\n",
            "1688/1688 [==============================] - 4s 2ms/step - loss: 0.1517 - accuracy: 0.9556 - val_loss: 0.1696 - val_accuracy: 0.9482\n",
            "Epoch 66/100\n",
            "1688/1688 [==============================] - 4s 2ms/step - loss: 0.1500 - accuracy: 0.9560 - val_loss: 0.1676 - val_accuracy: 0.9493\n",
            "Epoch 67/100\n",
            "1688/1688 [==============================] - 4s 2ms/step - loss: 0.1482 - accuracy: 0.9568 - val_loss: 0.1660 - val_accuracy: 0.9498\n",
            "Epoch 68/100\n",
            "1688/1688 [==============================] - 4s 2ms/step - loss: 0.1466 - accuracy: 0.9568 - val_loss: 0.1647 - val_accuracy: 0.9502\n",
            "Epoch 69/100\n",
            "1688/1688 [==============================] - 4s 3ms/step - loss: 0.1448 - accuracy: 0.9575 - val_loss: 0.1631 - val_accuracy: 0.9503\n",
            "Epoch 70/100\n",
            "1688/1688 [==============================] - 5s 3ms/step - loss: 0.1432 - accuracy: 0.9581 - val_loss: 0.1617 - val_accuracy: 0.9507\n",
            "Epoch 71/100\n",
            "1688/1688 [==============================] - 5s 3ms/step - loss: 0.1416 - accuracy: 0.9586 - val_loss: 0.1612 - val_accuracy: 0.9502\n",
            "Epoch 72/100\n",
            "1688/1688 [==============================] - 4s 3ms/step - loss: 0.1401 - accuracy: 0.9591 - val_loss: 0.1592 - val_accuracy: 0.9515\n",
            "Epoch 73/100\n",
            "1688/1688 [==============================] - 4s 2ms/step - loss: 0.1386 - accuracy: 0.9595 - val_loss: 0.1593 - val_accuracy: 0.9512\n",
            "Epoch 74/100\n",
            "1688/1688 [==============================] - 4s 2ms/step - loss: 0.1370 - accuracy: 0.9605 - val_loss: 0.1568 - val_accuracy: 0.9522\n",
            "Epoch 75/100\n",
            "1688/1688 [==============================] - 4s 2ms/step - loss: 0.1355 - accuracy: 0.9607 - val_loss: 0.1557 - val_accuracy: 0.9517\n",
            "Epoch 76/100\n",
            "1688/1688 [==============================] - 4s 3ms/step - loss: 0.1341 - accuracy: 0.9610 - val_loss: 0.1545 - val_accuracy: 0.9530\n",
            "Epoch 77/100\n",
            "1688/1688 [==============================] - 4s 3ms/step - loss: 0.1326 - accuracy: 0.9614 - val_loss: 0.1530 - val_accuracy: 0.9537\n",
            "Epoch 78/100\n",
            "1688/1688 [==============================] - 4s 3ms/step - loss: 0.1313 - accuracy: 0.9619 - val_loss: 0.1525 - val_accuracy: 0.9530\n",
            "Epoch 79/100\n",
            "1688/1688 [==============================] - 4s 2ms/step - loss: 0.1298 - accuracy: 0.9630 - val_loss: 0.1505 - val_accuracy: 0.9543\n",
            "Epoch 80/100\n",
            "1688/1688 [==============================] - 4s 2ms/step - loss: 0.1284 - accuracy: 0.9631 - val_loss: 0.1494 - val_accuracy: 0.9540\n",
            "Epoch 81/100\n",
            "1688/1688 [==============================] - 4s 2ms/step - loss: 0.1271 - accuracy: 0.9634 - val_loss: 0.1478 - val_accuracy: 0.9552\n",
            "Epoch 82/100\n",
            "1688/1688 [==============================] - 4s 3ms/step - loss: 0.1258 - accuracy: 0.9639 - val_loss: 0.1468 - val_accuracy: 0.9555\n",
            "Epoch 83/100\n",
            "1688/1688 [==============================] - 4s 2ms/step - loss: 0.1246 - accuracy: 0.9644 - val_loss: 0.1460 - val_accuracy: 0.9568\n",
            "Epoch 84/100\n",
            "1688/1688 [==============================] - 4s 2ms/step - loss: 0.1234 - accuracy: 0.9646 - val_loss: 0.1451 - val_accuracy: 0.9545\n",
            "Epoch 85/100\n",
            "1688/1688 [==============================] - 4s 2ms/step - loss: 0.1221 - accuracy: 0.9651 - val_loss: 0.1447 - val_accuracy: 0.9563\n",
            "Epoch 86/100\n",
            "1688/1688 [==============================] - 4s 2ms/step - loss: 0.1209 - accuracy: 0.9655 - val_loss: 0.1429 - val_accuracy: 0.9572\n",
            "Epoch 87/100\n",
            "1688/1688 [==============================] - 4s 2ms/step - loss: 0.1196 - accuracy: 0.9657 - val_loss: 0.1423 - val_accuracy: 0.9575\n",
            "Epoch 88/100\n",
            "1688/1688 [==============================] - 4s 2ms/step - loss: 0.1185 - accuracy: 0.9660 - val_loss: 0.1407 - val_accuracy: 0.9573\n",
            "Epoch 89/100\n",
            "1688/1688 [==============================] - 4s 2ms/step - loss: 0.1173 - accuracy: 0.9664 - val_loss: 0.1400 - val_accuracy: 0.9583\n",
            "Epoch 90/100\n",
            "1688/1688 [==============================] - 4s 2ms/step - loss: 0.1161 - accuracy: 0.9667 - val_loss: 0.1390 - val_accuracy: 0.9575\n",
            "Epoch 91/100\n",
            "1688/1688 [==============================] - 4s 2ms/step - loss: 0.1152 - accuracy: 0.9672 - val_loss: 0.1386 - val_accuracy: 0.9588\n",
            "Epoch 92/100\n",
            "1688/1688 [==============================] - 4s 2ms/step - loss: 0.1141 - accuracy: 0.9679 - val_loss: 0.1370 - val_accuracy: 0.9588\n",
            "Epoch 93/100\n",
            "1688/1688 [==============================] - 4s 2ms/step - loss: 0.1130 - accuracy: 0.9676 - val_loss: 0.1373 - val_accuracy: 0.9590\n",
            "Epoch 94/100\n",
            "1688/1688 [==============================] - 4s 3ms/step - loss: 0.1119 - accuracy: 0.9682 - val_loss: 0.1359 - val_accuracy: 0.9592\n",
            "Epoch 95/100\n",
            "1688/1688 [==============================] - 4s 2ms/step - loss: 0.1109 - accuracy: 0.9686 - val_loss: 0.1347 - val_accuracy: 0.9597\n",
            "Epoch 96/100\n",
            "1688/1688 [==============================] - 4s 2ms/step - loss: 0.1098 - accuracy: 0.9686 - val_loss: 0.1334 - val_accuracy: 0.9598\n",
            "Epoch 97/100\n",
            "1688/1688 [==============================] - 4s 3ms/step - loss: 0.1088 - accuracy: 0.9691 - val_loss: 0.1333 - val_accuracy: 0.9598\n",
            "Epoch 98/100\n",
            "1688/1688 [==============================] - 4s 3ms/step - loss: 0.1078 - accuracy: 0.9696 - val_loss: 0.1325 - val_accuracy: 0.9605\n",
            "Epoch 99/100\n",
            "1688/1688 [==============================] - 4s 3ms/step - loss: 0.1067 - accuracy: 0.9696 - val_loss: 0.1321 - val_accuracy: 0.9610\n",
            "Epoch 100/100\n",
            "1688/1688 [==============================] - 4s 3ms/step - loss: 0.1058 - accuracy: 0.9701 - val_loss: 0.1312 - val_accuracy: 0.9602\n"
          ]
        }
      ]
    },
    {
      "cell_type": "code",
      "source": [
        "# вывод графика ошибки по эпохам\n",
        "plt.plot(H.history['loss'])\n",
        "plt.plot(H.history['val_loss'])\n",
        "plt.grid()\n",
        "plt.xlabel('Epochs')\n",
        "plt.ylabel('loss')\n",
        "plt.legend(['train_loss', 'val_loss'])\n",
        "plt.title('Loss by epochs')\n",
        "plt.show()"
      ],
      "metadata": {
        "colab": {
          "base_uri": "https://localhost:8080/",
          "height": 295
        },
        "id": "Vq9F9Eoj4LxS",
        "outputId": "25829606-a4ef-4afb-ca3f-f5c58aedd271"
      },
      "execution_count": null,
      "outputs": [
        {
          "output_type": "display_data",
          "data": {
            "text/plain": [
              "<Figure size 432x288 with 1 Axes>"
            ],
            "image/png": "[encoded data removed]"
          },
          "metadata": {
            "needs_background": "light"
          }
        }
      ]
    },
    {
      "cell_type": "code",
      "source": [
        "# Оценка качества работы модели на тестовых данных\n",
        "scores = model_1h100_2h100.evaluate(X_test, y_test)\n",
        "print('Loss on test data:', scores[0])\n",
        "print('Accuracy on test data:', scores[1])"
      ],
      "metadata": {
        "colab": {
          "base_uri": "https://localhost:8080/"
        },
        "id": "fNxtBPR-4TrQ",
        "outputId": "1a8487f9-9065-468b-895e-ef3c1d8de17d"
      },
      "execution_count": null,
      "outputs": [
        {
          "output_type": "stream",
          "name": "stdout",
          "text": [
            "313/313 [==============================] - 1s 2ms/step - loss: 0.1364 - accuracy: 0.9610\n",
            "Loss on test data: 0.13643108308315277\n",
            "Accuracy on test data: 0.9610000252723694\n"
          ]
        }
      ]
    },
    {
      "cell_type": "code",
      "source": [
        "# Модель нейронной сети (кол-во скрытых слоев = 2, кол-во нейронов в первом скрытом слое = 100, во втором = 300)\n",
        "# 1. создаем модель - объявляем ее объектом класса Sequential\n",
        "model_1h100_2h300 = Sequential()\n",
        "\n",
        "# 2. добавляем первый скрытый слой\n",
        "model_1h100_2h300.add(Dense(units=100, input_dim=num_pixels, activation='sigmoid'))\n",
        "\n",
        "# 3. добавляем второй скрытый слой\n",
        "model_1h100_2h300.add(Dense(units=300, activation='sigmoid'))\n",
        "\n",
        "# 4. добавляем выходной слой\n",
        "model_1h100_2h300.add(Dense(units=num_classes, activation='softmax'))\n",
        "\n",
        "# 5. компилируем модель\n",
        "model_1h100_2h300.compile(loss='categorical_crossentropy', optimizer='sgd', metrics=['accuracy'])\n",
        "\n",
        "# вывод информации об архитектуре модели\n",
        "print(model_1h100_2h300.summary())"
      ],
      "metadata": {
        "colab": {
          "base_uri": "https://localhost:8080/"
        },
        "id": "-ubP9T9c46Xs",
        "outputId": "e673040f-b61f-4729-977c-e16dcd56801e"
      },
      "execution_count": null,
      "outputs": [
        {
          "output_type": "stream",
          "name": "stdout",
          "text": [
            "Model: \"sequential_8\"\n",
            "_________________________________________________________________\n",
            " Layer (type)                Output Shape              Param #   \n",
            "=================================================================\n",
            " dense_16 (Dense)            (None, 100)               78500     \n",
            "                                                                 \n",
            " dense_17 (Dense)            (None, 300)               30300     \n",
            "                                                                 \n",
            " dense_18 (Dense)            (None, 10)                3010      \n",
            "                                                                 \n",
            "=================================================================\n",
            "Total params: 111,810\n",
            "Trainable params: 111,810\n",
            "Non-trainable params: 0\n",
            "_________________________________________________________________\n",
            "None\n"
          ]
        }
      ]
    },
    {
      "cell_type": "code",
      "source": [
        "# Обучаем модель\n",
        "H = model_1h100_2h300.fit(X_train, y_train, validation_split=0.1, epochs=100)"
      ],
      "metadata": {
        "colab": {
          "base_uri": "https://localhost:8080/"
        },
        "id": "pBdB3-PE5YUS",
        "outputId": "2bfac4e1-dd3e-4e7e-f635-51c6884bd4c1"
      },
      "execution_count": null,
      "outputs": [
        {
          "output_type": "stream",
          "name": "stdout",
          "text": [
            "Epoch 1/100\n",
            "1688/1688 [==============================] - 5s 3ms/step - loss: 2.2378 - accuracy: 0.2430 - val_loss: 2.1353 - val_accuracy: 0.4312\n",
            "Epoch 2/100\n",
            "1688/1688 [==============================] - 4s 3ms/step - loss: 1.8785 - accuracy: 0.5314 - val_loss: 1.5695 - val_accuracy: 0.5752\n",
            "Epoch 3/100\n",
            "1688/1688 [==============================] - 4s 3ms/step - loss: 1.2396 - accuracy: 0.7056 - val_loss: 1.0109 - val_accuracy: 0.7467\n",
            "Epoch 4/100\n",
            "1688/1688 [==============================] - 4s 3ms/step - loss: 0.8501 - accuracy: 0.7855 - val_loss: 0.7456 - val_accuracy: 0.8138\n",
            "Epoch 5/100\n",
            "1688/1688 [==============================] - 5s 3ms/step - loss: 0.6621 - accuracy: 0.8255 - val_loss: 0.6116 - val_accuracy: 0.8375\n",
            "Epoch 6/100\n",
            "1688/1688 [==============================] - 4s 3ms/step - loss: 0.5583 - accuracy: 0.8504 - val_loss: 0.5332 - val_accuracy: 0.8553\n",
            "Epoch 7/100\n",
            "1688/1688 [==============================] - 5s 3ms/step - loss: 0.4937 - accuracy: 0.8651 - val_loss: 0.4772 - val_accuracy: 0.8757\n",
            "Epoch 8/100\n",
            "1688/1688 [==============================] - 5s 3ms/step - loss: 0.4498 - accuracy: 0.8764 - val_loss: 0.4418 - val_accuracy: 0.8848\n",
            "Epoch 9/100\n",
            "1688/1688 [==============================] - 5s 3ms/step - loss: 0.4179 - accuracy: 0.8852 - val_loss: 0.4157 - val_accuracy: 0.8905\n",
            "Epoch 10/100\n",
            "1688/1688 [==============================] - 6s 4ms/step - loss: 0.3939 - accuracy: 0.8911 - val_loss: 0.3938 - val_accuracy: 0.8937\n",
            "Epoch 11/100\n",
            "1688/1688 [==============================] - 5s 3ms/step - loss: 0.3752 - accuracy: 0.8947 - val_loss: 0.3776 - val_accuracy: 0.8990\n",
            "Epoch 12/100\n",
            "1688/1688 [==============================] - 4s 3ms/step - loss: 0.3603 - accuracy: 0.8986 - val_loss: 0.3648 - val_accuracy: 0.9022\n",
            "Epoch 13/100\n",
            "1688/1688 [==============================] - 5s 3ms/step - loss: 0.3479 - accuracy: 0.9019 - val_loss: 0.3543 - val_accuracy: 0.9028\n",
            "Epoch 14/100\n",
            "1688/1688 [==============================] - 5s 3ms/step - loss: 0.3376 - accuracy: 0.9039 - val_loss: 0.3434 - val_accuracy: 0.9043\n",
            "Epoch 15/100\n",
            "1688/1688 [==============================] - 5s 3ms/step - loss: 0.3282 - accuracy: 0.9063 - val_loss: 0.3358 - val_accuracy: 0.9053\n",
            "Epoch 16/100\n",
            "1688/1688 [==============================] - 5s 3ms/step - loss: 0.3200 - accuracy: 0.9081 - val_loss: 0.3293 - val_accuracy: 0.9075\n",
            "Epoch 17/100\n",
            "1688/1688 [==============================] - 5s 3ms/step - loss: 0.3126 - accuracy: 0.9105 - val_loss: 0.3217 - val_accuracy: 0.9087\n",
            "Epoch 18/100\n",
            "1688/1688 [==============================] - 5s 3ms/step - loss: 0.3060 - accuracy: 0.9126 - val_loss: 0.3159 - val_accuracy: 0.9110\n",
            "Epoch 19/100\n",
            "1688/1688 [==============================] - 6s 4ms/step - loss: 0.2996 - accuracy: 0.9138 - val_loss: 0.3082 - val_accuracy: 0.9120\n",
            "Epoch 20/100\n",
            "1688/1688 [==============================] - 5s 3ms/step - loss: 0.2938 - accuracy: 0.9157 - val_loss: 0.3023 - val_accuracy: 0.9143\n",
            "Epoch 21/100\n",
            "1688/1688 [==============================] - 5s 3ms/step - loss: 0.2880 - accuracy: 0.9174 - val_loss: 0.2975 - val_accuracy: 0.9167\n",
            "Epoch 22/100\n",
            "1688/1688 [==============================] - 4s 3ms/step - loss: 0.2829 - accuracy: 0.9189 - val_loss: 0.2916 - val_accuracy: 0.9182\n",
            "Epoch 23/100\n",
            "1688/1688 [==============================] - 5s 3ms/step - loss: 0.2777 - accuracy: 0.9201 - val_loss: 0.2875 - val_accuracy: 0.9170\n",
            "Epoch 24/100\n",
            "1688/1688 [==============================] - 4s 3ms/step - loss: 0.2728 - accuracy: 0.9210 - val_loss: 0.2835 - val_accuracy: 0.9192\n",
            "Epoch 25/100\n",
            "1688/1688 [==============================] - 5s 3ms/step - loss: 0.2682 - accuracy: 0.9231 - val_loss: 0.2785 - val_accuracy: 0.9187\n",
            "Epoch 26/100\n",
            "1688/1688 [==============================] - 5s 3ms/step - loss: 0.2635 - accuracy: 0.9235 - val_loss: 0.2732 - val_accuracy: 0.9205\n",
            "Epoch 27/100\n",
            "1688/1688 [==============================] - 5s 3ms/step - loss: 0.2592 - accuracy: 0.9250 - val_loss: 0.2706 - val_accuracy: 0.9213\n",
            "Epoch 28/100\n",
            "1688/1688 [==============================] - 5s 3ms/step - loss: 0.2549 - accuracy: 0.9261 - val_loss: 0.2660 - val_accuracy: 0.9233\n",
            "Epoch 29/100\n",
            "1688/1688 [==============================] - 5s 3ms/step - loss: 0.2508 - accuracy: 0.9273 - val_loss: 0.2609 - val_accuracy: 0.9243\n",
            "Epoch 30/100\n",
            "1688/1688 [==============================] - 5s 3ms/step - loss: 0.2468 - accuracy: 0.9291 - val_loss: 0.2583 - val_accuracy: 0.9265\n",
            "Epoch 31/100\n",
            "1688/1688 [==============================] - 5s 3ms/step - loss: 0.2427 - accuracy: 0.9300 - val_loss: 0.2553 - val_accuracy: 0.9268\n",
            "Epoch 32/100\n",
            "1688/1688 [==============================] - 5s 3ms/step - loss: 0.2390 - accuracy: 0.9313 - val_loss: 0.2517 - val_accuracy: 0.9268\n",
            "Epoch 33/100\n",
            "1688/1688 [==============================] - 5s 3ms/step - loss: 0.2351 - accuracy: 0.9320 - val_loss: 0.2462 - val_accuracy: 0.9282\n",
            "Epoch 34/100\n",
            "1688/1688 [==============================] - 5s 3ms/step - loss: 0.2315 - accuracy: 0.9327 - val_loss: 0.2421 - val_accuracy: 0.9297\n",
            "Epoch 35/100\n",
            "1688/1688 [==============================] - 5s 3ms/step - loss: 0.2279 - accuracy: 0.9343 - val_loss: 0.2396 - val_accuracy: 0.9305\n",
            "Epoch 36/100\n",
            "1688/1688 [==============================] - 5s 3ms/step - loss: 0.2244 - accuracy: 0.9348 - val_loss: 0.2358 - val_accuracy: 0.9317\n",
            "Epoch 37/100\n",
            "1688/1688 [==============================] - 5s 3ms/step - loss: 0.2210 - accuracy: 0.9362 - val_loss: 0.2328 - val_accuracy: 0.9330\n",
            "Epoch 38/100\n",
            "1688/1688 [==============================] - 6s 3ms/step - loss: 0.2176 - accuracy: 0.9368 - val_loss: 0.2299 - val_accuracy: 0.9340\n",
            "Epoch 39/100\n",
            "1688/1688 [==============================] - 5s 3ms/step - loss: 0.2143 - accuracy: 0.9379 - val_loss: 0.2263 - val_accuracy: 0.9350\n",
            "Epoch 40/100\n",
            "1688/1688 [==============================] - 5s 3ms/step - loss: 0.2110 - accuracy: 0.9393 - val_loss: 0.2237 - val_accuracy: 0.9342\n",
            "Epoch 41/100\n",
            "1688/1688 [==============================] - 5s 3ms/step - loss: 0.2080 - accuracy: 0.9398 - val_loss: 0.2216 - val_accuracy: 0.9362\n",
            "Epoch 42/100\n",
            "1688/1688 [==============================] - 5s 3ms/step - loss: 0.2050 - accuracy: 0.9401 - val_loss: 0.2176 - val_accuracy: 0.9367\n",
            "Epoch 43/100\n",
            "1688/1688 [==============================] - 5s 3ms/step - loss: 0.2019 - accuracy: 0.9417 - val_loss: 0.2156 - val_accuracy: 0.9373\n",
            "Epoch 44/100\n",
            "1688/1688 [==============================] - 5s 3ms/step - loss: 0.1990 - accuracy: 0.9426 - val_loss: 0.2144 - val_accuracy: 0.9368\n",
            "Epoch 45/100\n",
            "1688/1688 [==============================] - 5s 3ms/step - loss: 0.1963 - accuracy: 0.9434 - val_loss: 0.2093 - val_accuracy: 0.9398\n",
            "Epoch 46/100\n",
            "1688/1688 [==============================] - 5s 3ms/step - loss: 0.1934 - accuracy: 0.9438 - val_loss: 0.2070 - val_accuracy: 0.9392\n",
            "Epoch 47/100\n",
            "1688/1688 [==============================] - 5s 3ms/step - loss: 0.1907 - accuracy: 0.9449 - val_loss: 0.2054 - val_accuracy: 0.9393\n",
            "Epoch 48/100\n",
            "1688/1688 [==============================] - 5s 3ms/step - loss: 0.1881 - accuracy: 0.9451 - val_loss: 0.2031 - val_accuracy: 0.9397\n",
            "Epoch 49/100\n",
            "1688/1688 [==============================] - 5s 3ms/step - loss: 0.1853 - accuracy: 0.9455 - val_loss: 0.2007 - val_accuracy: 0.9417\n",
            "Epoch 50/100\n",
            "1688/1688 [==============================] - 5s 3ms/step - loss: 0.1829 - accuracy: 0.9468 - val_loss: 0.1973 - val_accuracy: 0.9440\n",
            "Epoch 51/100\n",
            "1688/1688 [==============================] - 5s 3ms/step - loss: 0.1806 - accuracy: 0.9474 - val_loss: 0.1949 - val_accuracy: 0.9432\n",
            "Epoch 52/100\n",
            "1688/1688 [==============================] - 5s 3ms/step - loss: 0.1778 - accuracy: 0.9483 - val_loss: 0.1947 - val_accuracy: 0.9428\n",
            "Epoch 53/100\n",
            "1688/1688 [==============================] - 5s 3ms/step - loss: 0.1756 - accuracy: 0.9493 - val_loss: 0.1913 - val_accuracy: 0.9435\n",
            "Epoch 54/100\n",
            "1688/1688 [==============================] - 5s 3ms/step - loss: 0.1733 - accuracy: 0.9497 - val_loss: 0.1891 - val_accuracy: 0.9442\n",
            "Epoch 55/100\n",
            "1688/1688 [==============================] - 5s 3ms/step - loss: 0.1710 - accuracy: 0.9502 - val_loss: 0.1865 - val_accuracy: 0.9457\n",
            "Epoch 56/100\n",
            "1688/1688 [==============================] - 5s 3ms/step - loss: 0.1687 - accuracy: 0.9510 - val_loss: 0.1871 - val_accuracy: 0.9460\n",
            "Epoch 57/100\n",
            "1688/1688 [==============================] - 5s 3ms/step - loss: 0.1665 - accuracy: 0.9517 - val_loss: 0.1834 - val_accuracy: 0.9443\n",
            "Epoch 58/100\n",
            "1688/1688 [==============================] - 5s 3ms/step - loss: 0.1645 - accuracy: 0.9523 - val_loss: 0.1815 - val_accuracy: 0.9457\n",
            "Epoch 59/100\n",
            "1688/1688 [==============================] - 5s 3ms/step - loss: 0.1624 - accuracy: 0.9534 - val_loss: 0.1794 - val_accuracy: 0.9473\n",
            "Epoch 60/100\n",
            "1688/1688 [==============================] - 5s 3ms/step - loss: 0.1603 - accuracy: 0.9537 - val_loss: 0.1774 - val_accuracy: 0.9475\n",
            "Epoch 61/100\n",
            "1688/1688 [==============================] - 5s 3ms/step - loss: 0.1583 - accuracy: 0.9542 - val_loss: 0.1760 - val_accuracy: 0.9475\n",
            "Epoch 62/100\n",
            "1688/1688 [==============================] - 5s 3ms/step - loss: 0.1565 - accuracy: 0.9550 - val_loss: 0.1742 - val_accuracy: 0.9478\n",
            "Epoch 63/100\n",
            "1688/1688 [==============================] - 5s 3ms/step - loss: 0.1543 - accuracy: 0.9560 - val_loss: 0.1723 - val_accuracy: 0.9502\n",
            "Epoch 64/100\n",
            "1688/1688 [==============================] - 5s 3ms/step - loss: 0.1526 - accuracy: 0.9559 - val_loss: 0.1721 - val_accuracy: 0.9485\n",
            "Epoch 65/100\n",
            "1688/1688 [==============================] - 5s 3ms/step - loss: 0.1508 - accuracy: 0.9569 - val_loss: 0.1697 - val_accuracy: 0.9505\n",
            "Epoch 66/100\n",
            "1688/1688 [==============================] - 6s 3ms/step - loss: 0.1489 - accuracy: 0.9572 - val_loss: 0.1676 - val_accuracy: 0.9495\n",
            "Epoch 67/100\n",
            "1688/1688 [==============================] - 5s 3ms/step - loss: 0.1471 - accuracy: 0.9573 - val_loss: 0.1656 - val_accuracy: 0.9515\n",
            "Epoch 68/100\n",
            "1688/1688 [==============================] - 5s 3ms/step - loss: 0.1454 - accuracy: 0.9580 - val_loss: 0.1649 - val_accuracy: 0.9508\n",
            "Epoch 69/100\n",
            "1688/1688 [==============================] - 5s 3ms/step - loss: 0.1438 - accuracy: 0.9591 - val_loss: 0.1626 - val_accuracy: 0.9517\n",
            "Epoch 70/100\n",
            "1688/1688 [==============================] - 5s 3ms/step - loss: 0.1421 - accuracy: 0.9592 - val_loss: 0.1624 - val_accuracy: 0.9525\n",
            "Epoch 71/100\n",
            "1688/1688 [==============================] - 5s 3ms/step - loss: 0.1403 - accuracy: 0.9598 - val_loss: 0.1593 - val_accuracy: 0.9527\n",
            "Epoch 72/100\n",
            "1688/1688 [==============================] - 5s 3ms/step - loss: 0.1388 - accuracy: 0.9603 - val_loss: 0.1577 - val_accuracy: 0.9530\n",
            "Epoch 73/100\n",
            "1688/1688 [==============================] - 5s 3ms/step - loss: 0.1371 - accuracy: 0.9606 - val_loss: 0.1569 - val_accuracy: 0.9537\n",
            "Epoch 74/100\n",
            "1688/1688 [==============================] - 5s 3ms/step - loss: 0.1356 - accuracy: 0.9612 - val_loss: 0.1557 - val_accuracy: 0.9530\n",
            "Epoch 75/100\n",
            "1688/1688 [==============================] - 5s 3ms/step - loss: 0.1340 - accuracy: 0.9620 - val_loss: 0.1553 - val_accuracy: 0.9548\n",
            "Epoch 76/100\n",
            "1688/1688 [==============================] - 5s 3ms/step - loss: 0.1326 - accuracy: 0.9619 - val_loss: 0.1536 - val_accuracy: 0.9547\n",
            "Epoch 77/100\n",
            "1688/1688 [==============================] - 5s 3ms/step - loss: 0.1312 - accuracy: 0.9628 - val_loss: 0.1519 - val_accuracy: 0.9550\n",
            "Epoch 78/100\n",
            "1688/1688 [==============================] - 5s 3ms/step - loss: 0.1297 - accuracy: 0.9626 - val_loss: 0.1505 - val_accuracy: 0.9555\n",
            "Epoch 79/100\n",
            "1688/1688 [==============================] - 5s 3ms/step - loss: 0.1282 - accuracy: 0.9638 - val_loss: 0.1490 - val_accuracy: 0.9557\n",
            "Epoch 80/100\n",
            "1688/1688 [==============================] - 5s 3ms/step - loss: 0.1269 - accuracy: 0.9640 - val_loss: 0.1481 - val_accuracy: 0.9568\n",
            "Epoch 81/100\n",
            "1688/1688 [==============================] - 5s 3ms/step - loss: 0.1255 - accuracy: 0.9644 - val_loss: 0.1461 - val_accuracy: 0.9567\n",
            "Epoch 82/100\n",
            "1688/1688 [==============================] - 5s 3ms/step - loss: 0.1241 - accuracy: 0.9647 - val_loss: 0.1459 - val_accuracy: 0.9582\n",
            "Epoch 83/100\n",
            "1688/1688 [==============================] - 5s 3ms/step - loss: 0.1228 - accuracy: 0.9649 - val_loss: 0.1443 - val_accuracy: 0.9580\n",
            "Epoch 84/100\n",
            "1688/1688 [==============================] - 5s 3ms/step - loss: 0.1215 - accuracy: 0.9656 - val_loss: 0.1435 - val_accuracy: 0.9588\n",
            "Epoch 85/100\n",
            "1688/1688 [==============================] - 5s 3ms/step - loss: 0.1202 - accuracy: 0.9658 - val_loss: 0.1435 - val_accuracy: 0.9588\n",
            "Epoch 86/100\n",
            "1688/1688 [==============================] - 5s 3ms/step - loss: 0.1190 - accuracy: 0.9663 - val_loss: 0.1411 - val_accuracy: 0.9575\n",
            "Epoch 87/100\n",
            "1688/1688 [==============================] - 5s 3ms/step - loss: 0.1178 - accuracy: 0.9667 - val_loss: 0.1397 - val_accuracy: 0.9593\n",
            "Epoch 88/100\n",
            "1688/1688 [==============================] - 5s 3ms/step - loss: 0.1165 - accuracy: 0.9669 - val_loss: 0.1390 - val_accuracy: 0.9590\n",
            "Epoch 89/100\n",
            "1688/1688 [==============================] - 5s 3ms/step - loss: 0.1153 - accuracy: 0.9676 - val_loss: 0.1378 - val_accuracy: 0.9597\n",
            "Epoch 90/100\n",
            "1688/1688 [==============================] - 5s 3ms/step - loss: 0.1143 - accuracy: 0.9676 - val_loss: 0.1371 - val_accuracy: 0.9592\n",
            "Epoch 91/100\n",
            "1688/1688 [==============================] - 5s 3ms/step - loss: 0.1131 - accuracy: 0.9679 - val_loss: 0.1365 - val_accuracy: 0.9597\n",
            "Epoch 92/100\n",
            "1688/1688 [==============================] - 5s 3ms/step - loss: 0.1119 - accuracy: 0.9684 - val_loss: 0.1350 - val_accuracy: 0.9593\n",
            "Epoch 93/100\n",
            "1688/1688 [==============================] - 5s 3ms/step - loss: 0.1107 - accuracy: 0.9687 - val_loss: 0.1347 - val_accuracy: 0.9607\n",
            "Epoch 94/100\n",
            "1688/1688 [==============================] - 6s 4ms/step - loss: 0.1096 - accuracy: 0.9690 - val_loss: 0.1329 - val_accuracy: 0.9623\n",
            "Epoch 95/100\n",
            "1688/1688 [==============================] - 5s 3ms/step - loss: 0.1086 - accuracy: 0.9695 - val_loss: 0.1322 - val_accuracy: 0.9617\n",
            "Epoch 96/100\n",
            "1688/1688 [==============================] - 5s 3ms/step - loss: 0.1074 - accuracy: 0.9697 - val_loss: 0.1323 - val_accuracy: 0.9615\n",
            "Epoch 97/100\n",
            "1688/1688 [==============================] - 5s 3ms/step - loss: 0.1065 - accuracy: 0.9698 - val_loss: 0.1303 - val_accuracy: 0.9622\n",
            "Epoch 98/100\n",
            "1688/1688 [==============================] - 5s 3ms/step - loss: 0.1054 - accuracy: 0.9703 - val_loss: 0.1294 - val_accuracy: 0.9620\n",
            "Epoch 99/100\n",
            "1688/1688 [==============================] - 5s 3ms/step - loss: 0.1044 - accuracy: 0.9703 - val_loss: 0.1296 - val_accuracy: 0.9627\n",
            "Epoch 100/100\n",
            "1688/1688 [==============================] - 5s 3ms/step - loss: 0.1033 - accuracy: 0.9709 - val_loss: 0.1282 - val_accuracy: 0.9617\n"
          ]
        }
      ]
    },
    {
      "cell_type": "code",
      "source": [
        "# вывод графика ошибки по эпохам\n",
        "plt.plot(H.history['loss'])\n",
        "plt.plot(H.history['val_loss'])\n",
        "plt.grid()\n",
        "plt.xlabel('Epochs')\n",
        "plt.ylabel('loss')\n",
        "plt.legend(['train_loss', 'val_loss'])\n",
        "plt.title('Loss by epochs')\n",
        "plt.show()"
      ],
      "metadata": {
        "colab": {
          "base_uri": "https://localhost:8080/",
          "height": 295
        },
        "id": "-a4wexbX7XA1",
        "outputId": "cc22f604-daaf-40fc-d6ca-559b599b0c7e"
      },
      "execution_count": null,
      "outputs": [
        {
          "output_type": "display_data",
          "data": {
            "text/plain": [
              "<Figure size 432x288 with 1 Axes>"
            ],
            "image/png": "[encoded data removed]"
          },
          "metadata": {
            "needs_background": "light"
          }
        }
      ]
    },
    {
      "cell_type": "code",
      "source": [
        "# Оценка качества работы модели на тестовых данных\n",
        "scores = model_1h100_2h300.evaluate(X_test, y_test)\n",
        "print('Loss on test data:', scores[0])\n",
        "print('Accuracy on test data:', scores[1])"
      ],
      "metadata": {
        "colab": {
          "base_uri": "https://localhost:8080/"
        },
        "id": "PUJIOFtR7bRg",
        "outputId": "74afbfd9-523e-4c35-aa54-bb073261f8ef"
      },
      "execution_count": null,
      "outputs": [
        {
          "output_type": "stream",
          "name": "stdout",
          "text": [
            "313/313 [==============================] - 1s 2ms/step - loss: 0.1349 - accuracy: 0.9601\n",
            "Loss on test data: 0.13492631912231445\n",
            "Accuracy on test data: 0.960099995136261\n"
          ]
        }
      ]
    },
    {
      "cell_type": "code",
      "source": [
        "#сохраняем модель на диск\n",
        "model_1h100_2h100.save('model_LR1_best')"
      ],
      "metadata": {
        "id": "5j0zlOBn_ITJ"
      },
      "execution_count": null,
      "outputs": []
    },
    {
      "cell_type": "code",
      "source": [
        "# вывод тестового изображения и результата распознавания\n",
        "n = 3\n",
        "result = model_1h100_2h100.predict(X_test[n:n+1])\n",
        "print('NN output:', result)\n",
        "plt.imshow(X_test[n].reshape(28,28), cmap=plt.get_cmap('gray'))\n",
        "plt.axis('off')\n",
        "plt.show()\n",
        "print('Real mark: ', str(np.argmax(y_test[n])))\n",
        "print('NN answer: ', str(np.argmax(result)))\n",
        "print('')\n",
        "\n",
        "result = model_1h100_2h100.predict(X_test[n+1:n+2])\n",
        "print('NN output:', result)\n",
        "plt.imshow(X_test[n+1].reshape(28,28), cmap=plt.get_cmap('gray'))\n",
        "plt.axis('off')\n",
        "plt.show()\n",
        "print('Real mark: ', str(np.argmax(y_test[n+1])))\n",
        "print('NN answer: ', str(np.argmax(result)))"
      ],
      "metadata": {
        "colab": {
          "base_uri": "https://localhost:8080/",
          "height": 642
        },
        "id": "KTcPV4rdD3kK",
        "outputId": "34037e9c-5cd5-4fef-84ec-003fbf909af8"
      },
      "execution_count": null,
      "outputs": [
        {
          "output_type": "stream",
          "name": "stdout",
          "text": [
            "NN output: [[1.4312024e-04 2.3466006e-07 6.4750802e-04 1.3773041e-07 3.6195749e-03\n",
            "  1.0751895e-05 9.9549758e-01 1.6194417e-06 5.0009519e-05 2.9547178e-05]]\n"
          ]
        },
        {
          "output_type": "display_data",
          "data": {
            "text/plain": [
              "<Figure size 432x288 with 1 Axes>"
            ],
            "image/png": "[encoded data removed]"
          },
          "metadata": {
            "needs_background": "light"
          }
        },
        {
          "output_type": "stream",
          "name": "stdout",
          "text": [
            "Real mark:  6\n",
            "NN answer:  6\n",
            "\n",
            "NN output: [[2.9333177e-04 2.1247262e-05 9.9393553e-01 3.8140067e-03 5.1435786e-06\n",
            "  5.3885842e-06 1.8418952e-03 8.4266921e-06 7.4960735e-05 1.9337496e-07]]\n"
          ]
        },
        {
          "output_type": "display_data",
          "data": {
            "text/plain": [
              "<Figure size 432x288 with 1 Axes>"
            ],
            "image/png": "[encoded data removed]"
          },
          "metadata": {
            "needs_background": "light"
          }
        },
        {
          "output_type": "stream",
          "name": "stdout",
          "text": [
            "Real mark:  2\n",
            "NN answer:  2\n"
          ]
        }
      ]
    },
    {
      "cell_type": "code",
      "source": [
        "#загрузка собственного изображения\n",
        "from PIL import Image\n",
        "file_data = Image.open('test.png')\n",
        "file_data = file_data.convert('L') # перевод в градации серого\n",
        "test_img = np.array(file_data)"
      ],
      "metadata": {
        "id": "F1CPELAFFgD3"
      },
      "execution_count": null,
      "outputs": []
    },
    {
      "cell_type": "code",
      "source": [
        "# вывод собственного изображения\n",
        "plt.imshow(test_img, cmap=plt.get_cmap('gray'))\n",
        "plt.axis('off')\n",
        "plt.show()\n",
        "\n",
        "# предобработка\n",
        "test_img = test_img / 255\n",
        "test_img = test_img.reshape(1, num_pixels)\n",
        "\n",
        "# распознавание\n",
        "result = model_1h100_2h100.predict(test_img)\n",
        "print('I think it\\'s',np.argmax(result),'!')"
      ],
      "metadata": {
        "colab": {
          "base_uri": "https://localhost:8080/",
          "height": 266
        },
        "id": "lkwr0VuWGmbq",
        "outputId": "abf7c013-15e8-46e7-91e7-a8e9b89d5f75"
      },
      "execution_count": null,
      "outputs": [
        {
          "output_type": "display_data",
          "data": {
            "text/plain": [
              "<Figure size 432x288 with 1 Axes>"
            ],
            "image/png": "[encoded data removed]"
          },
          "metadata": {
            "needs_background": "light"
          }
        },
        {
          "output_type": "stream",
          "name": "stdout",
          "text": [
            "I think it's 3 !\n"
          ]
        }
      ]
    },
    {
      "cell_type": "code",
      "source": [
        "#загрузка собственного изображения\n",
        "from PIL import Image\n",
        "file_data = Image.open('test_1.png')\n",
        "file_data = file_data.convert('L') # перевод в градации серого\n",
        "test_img = np.array(file_data)\n",
        "\n",
        "# вывод собственного изображения\n",
        "plt.imshow(test_img, cmap=plt.get_cmap('gray'))\n",
        "plt.axis('off')\n",
        "plt.show()\n",
        "\n",
        "# предобработка\n",
        "test_img = test_img / 255\n",
        "test_img = test_img.reshape(1, num_pixels)\n",
        "\n",
        "# распознавание\n",
        "result = model_1h100_2h100.predict(test_img)\n",
        "print('I think it\\'s',np.argmax(result),'!')"
      ],
      "metadata": {
        "colab": {
          "base_uri": "https://localhost:8080/",
          "height": 266
        },
        "id": "sCcvOhk4JAt7",
        "outputId": "0712ec5c-d35f-4964-ffe6-84377e9d6c4b"
      },
      "execution_count": null,
      "outputs": [
        {
          "output_type": "display_data",
          "data": {
            "text/plain": [
              "<Figure size 432x288 with 1 Axes>"
            ],
            "image/png": "[encoded data removed]"
          },
          "metadata": {
            "needs_background": "light"
          }
        },
        {
          "output_type": "stream",
          "name": "stdout",
          "text": [
            "I think it's 2 !\n"
          ]
        }
      ]
    }
  ]
}