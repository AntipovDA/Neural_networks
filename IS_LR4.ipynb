{
  "nbformat": 4,
  "nbformat_minor": 0,
  "metadata": {
    "colab": {
      "provenance": []
    },
    "kernelspec": {
      "name": "python3",
      "display_name": "Python 3"
    },
    "language_info": {
      "name": "python"
    },
    "gpuClass": "standard",
    "accelerator": "GPU"
  },
  "cells": [
    {
      "cell_type": "markdown",
      "source": [
        "# \"Распознавание последовательностей\"\n",
        "\n"
      ],
      "metadata": {
        "id": "RkMqszyOcF20"
      }
    },
    {
      "cell_type": "markdown",
      "source": [
        "## **Цель работы:**"
      ],
      "metadata": {
        "id": "HvR_nVpjjdU2"
      }
    },
    {
      "cell_type": "markdown",
      "source": [
        "Получить практические навыки обработки текстовой информации с помощью рекуррентных искусственных нейронных сетей при решении задачи определения тональности текста"
      ],
      "metadata": {
        "id": "b7qdizoMjtbJ"
      }
    },
    {
      "cell_type": "markdown",
      "source": [
        "## **Выполнение**"
      ],
      "metadata": {
        "id": "cJY0stXDkv_P"
      }
    },
    {
      "cell_type": "markdown",
      "source": [
        "1. В среде Google Collab создать новый блокнот. Настроить блокнот для работы с аппаратным ускорителем GPU."
      ],
      "metadata": {
        "id": "FjY4lLqBlCLP"
      }
    },
    {
      "cell_type": "code",
      "source": [
        "import tensorflow as tf\n",
        "device_name = tf.test.gpu_device_name()\n",
        "if device_name != '/device:GPU:0':\n",
        " raise SystemError('GPU device not found')\n",
        "print('Found GPU at: {}'.format(device_name))"
      ],
      "metadata": {
        "colab": {
          "base_uri": "https://localhost:8080/"
        },
        "id": "f5wlfzITld94",
        "outputId": "5d8f329a-b3e1-4fb8-d739-ad636a38223b"
      },
      "execution_count": null,
      "outputs": [
        {
          "output_type": "stream",
          "name": "stdout",
          "text": [
            "Found GPU at: /device:GPU:0\n"
          ]
        }
      ]
    },
    {
      "cell_type": "markdown",
      "source": [
        "2. Загрузить набор данных IMDb, содежавший оцифрованные отзывы на фильмы, размеченные на два класса: позитивные и негативные. При загрузке налора данных параметр seed выбрать равным равным (4k-1 = 3), где k - порядковый номер студента по журналу. Вывести размеры полученных обучоющих и тестовых массивом данных."
      ],
      "metadata": {
        "id": "zwG15HpRn5VY"
      }
    },
    {
      "cell_type": "code",
      "source": [
        "# загрузка датасета\n",
        "from keras.datasets import imdb\n",
        "vocabulary_size = 5000\n",
        "index_from = 3\n",
        "(X_train, y_train), (X_test, y_test) = imdb.load_data(path=\"imdb.npz\", num_words = vocabulary_size, skip_top = 0, maxlen = None, seed = 3, start_char = 1, oov_char = 2, index_from = index_from)\n",
        "print('Shape of X train:', X_train.shape)\n",
        "print('Shape of y train:', y_train.shape)\n",
        "print('Shape of X test:', X_test.shape)\n",
        "print('Shape of y test:', y_test.shape)"
      ],
      "metadata": {
        "colab": {
          "base_uri": "https://localhost:8080/"
        },
        "id": "XFdlWYGPo60v",
        "outputId": "61f46e61-90ec-4618-bbde-78e3d05f2117"
      },
      "execution_count": null,
      "outputs": [
        {
          "output_type": "stream",
          "name": "stdout",
          "text": [
            "Shape of X train: (25000,)\n",
            "Shape of y train: (25000,)\n",
            "Shape of X test: (25000,)\n",
            "Shape of y test: (25000,)\n"
          ]
        }
      ]
    },
    {
      "cell_type": "markdown",
      "source": [
        "3. Вывести один отзыв из обучающего множества в виде списка индексов слов. Преобразовать список индексов в текст и вывести отзыв в виде текста. Вывести длину отзыва. Вывести метку класса данного отзыва и название класса (1 - Posistive, 0 - Negative)"
      ],
      "metadata": {
        "id": "yriPoaqrqi_O"
      }
    },
    {
      "cell_type": "code",
      "source": [
        "# создание словаря для перевода индексов в слова\n",
        "# заргузка словаря \"слово:индекс\"\n",
        "word_to_id = imdb.get_word_index()\n",
        "# уточнение словаря\n",
        "word_to_id = {key:(value + index_from) for key,value in word_to_id.items()}\n",
        "word_to_id[\"<PAD>\"] = 0\n",
        "word_to_id[\"<START>\"] = 1\n",
        "word_to_id[\"<UNK>\"] = 2\n",
        "word_to_id[\"<UNUSED>\"] = 3\n",
        "# создание обратного словаря \"индекс:слово\"\n",
        "id_to_word = {value:key for key,value in word_to_id.items()}\n",
        "review_as_text = ' '.join(id_to_word[id] for id in X_train[3])\n",
        "\n",
        "print('Отзыв в виде списка индексов: ', X_train[3])\n",
        "print('Отзыв в виде текста: ',review_as_text)\n",
        "print('Длина отзыва: ',len(X_train[3]))\n",
        "\n",
        "if y_train[3] == 1:\n",
        "  class_label = 'Positive'\n",
        "else:\n",
        "  class_label = 'Negative'\n",
        "print('Значение метки класса отзыва: {} ({}) '.format(y_train[3], class_label))"
      ],
      "metadata": {
        "colab": {
          "base_uri": "https://localhost:8080/"
        },
        "id": "1LSsCa0frHza",
        "outputId": "799cd476-3176-4192-d0fb-9882b0edc522"
      },
      "execution_count": null,
      "outputs": [
        {
          "output_type": "stream",
          "name": "stdout",
          "text": [
            "Отзыв в виде списка индексов:  [1, 12, 16, 6, 2, 221, 585, 18, 49, 282, 4, 833, 3749, 330, 7, 4, 3646, 1117, 69, 115, 77, 4, 1375, 822, 11, 6, 20, 4, 4512, 13, 70, 104, 7, 17, 108, 19, 2, 11, 98, 26, 2, 18, 2, 121, 40, 6, 2, 1233, 2, 2714, 4, 87, 132, 9, 557, 2, 6, 213, 23, 6, 1878, 2, 123, 38, 15, 2, 2, 9, 2085, 8, 28, 348, 4, 2296, 1527, 103, 32, 5, 11, 2, 121, 4, 87, 2060, 9, 31, 7, 6, 2520, 971, 2, 5, 3368, 37, 26, 2, 19, 2, 34, 4, 1019, 3780, 23, 3247, 49, 3869, 7, 2, 12, 9, 2878, 15, 11, 148, 107, 2936, 5, 11, 2, 75, 26, 1951, 19, 1290, 38, 230, 1337, 47, 805, 8, 81, 6, 622, 22, 44, 4, 113, 7, 2, 40, 308, 2, 589, 8, 81, 31, 23, 2, 19, 2, 4242, 13, 482, 12, 9, 43, 99, 254, 8, 79, 4, 182, 7, 2, 2, 42, 4, 3908, 7, 2, 2, 1845, 2604, 83, 1127, 807, 21, 95, 64, 289, 153, 596, 2609, 2, 5, 1368, 2, 122, 6, 307, 330, 279, 1337, 66, 47, 805, 10, 10, 2, 103, 487, 14, 13, 2032, 4, 1112, 212, 185, 2, 19, 2, 622, 44, 747, 153, 596, 21, 15, 9, 35, 1401, 5, 12, 16, 6, 2838, 10, 10, 4, 85, 866, 16, 4, 284, 395, 4, 87, 2060, 12, 16, 2345, 3297, 133, 656, 58, 245, 39, 4, 201, 7, 108, 29, 122, 19, 718, 4336, 11, 15, 236, 2068, 7, 68, 4076, 3297, 16, 6, 545, 2250, 5, 4940, 109, 284, 11, 199, 212, 5, 453, 21, 1760, 27, 700, 2, 71, 2, 7, 27, 2, 2, 2, 39, 4, 3200, 2, 36, 71, 2, 5, 2, 303, 36, 62, 2, 68, 1676, 2, 88, 75, 69, 2071, 8, 40, 98, 21, 36, 2, 2, 2110, 21, 27, 2060, 2, 571, 8, 30, 2070, 1047, 53, 40, 27, 2, 74, 40, 2, 2, 10, 10, 29, 299, 2060, 17, 52, 154, 1697, 2060, 12, 186, 15, 2, 2, 9, 581, 11, 2, 19, 27, 2, 3342, 2, 2, 2381, 5, 59, 9, 319, 6, 2, 2489, 773, 592, 2, 1660, 2, 21, 2, 519, 738, 2, 5, 36, 193, 12, 8, 4, 2, 2022, 121, 1659, 2, 1756, 2, 495, 2, 734, 18, 2381, 37, 9, 3624, 8, 90, 21, 659, 15, 29, 1503, 4, 1752, 4920, 15, 59, 2, 52, 154, 1697, 2060, 2, 34, 27, 289, 369, 3763, 2, 2315, 2, 5, 1924, 2, 1197, 8, 202, 68, 2, 8, 2, 5, 97, 90, 35, 684, 2, 2, 1262, 14, 80, 911, 4, 3594, 7, 883, 200, 90, 5, 2381, 2426, 2381, 9, 1555, 5, 2, 127, 24, 2372, 183, 17, 29, 1915, 8, 81, 10, 10, 4, 841, 9, 1047, 17, 54, 3297, 5, 27, 2, 2, 56, 6, 1165, 2, 2, 15, 36, 339, 2, 2, 23, 34, 2, 4, 2, 7, 68, 2350, 4, 114, 853, 832, 8, 4, 2, 2866, 15, 4, 530, 2, 47, 4481, 35, 2, 2, 4350, 1693, 63, 961, 11, 4, 4993, 7, 4, 2952, 11, 4, 822, 7, 2217, 2, 2, 3378, 10, 10, 12, 16, 6, 1220, 212, 5, 35, 221, 3218, 18, 3297, 11, 15, 29, 16, 24, 17, 2, 17, 1280, 21, 230, 53, 2]\n",
            "Отзыв в виде текста:  <START> it was a <UNK> interesting experience for some reason the greatest scientific mind of the 20th century had never been the central figure in a movie the closest i can think of as films with <UNK> in them are <UNK> for <UNK> where like a <UNK> ex <UNK> china the great man is heard <UNK> a point on a radio <UNK> show so that <UNK> <UNK> is proved to have given the correct answer after all and in <UNK> where the great albert is one of a dozen leading <UNK> and scientists who are <UNK> with <UNK> by the villain intent on stealing some machines of <UNK> it is notable that in those two cases and in <UNK> we are dealing with comedies so far nobody has tried to do a serious film about the life of <UNK> like john <UNK> attempt to do one on <UNK> with <UNK> cliff i guess it is just too hard to get the world of <UNK> <UNK> or the secrets of <UNK> <UNK> field theory into exciting dialog but then only three years ago russell <UNK> and christopher <UNK> did a beautiful mind maybe nobody really has tried br br <UNK> after writing this i remembered the successful comedy young <UNK> with <UNK> serious about ten years ago but that is an exception and it was a spoof br br the other surprise was the actor playing the great albert it was walter matthau here taking time away from the series of films he did with jack lemmon in that last decade of their careers matthau was a highly capable and gifted character actor in both comedy and drama but normally his comic <UNK> were <UNK> of his <UNK> <UNK> <UNK> from the fortune <UNK> they were <UNK> and <UNK> later they would <UNK> their criminal <UNK> because we had grown to like them but they <UNK> <UNK> types but his albert <UNK> happens to be genuinely sweet more like his <UNK> than like <UNK> <UNK> br br he plays albert as good old uncle albert it seems that <UNK> <UNK> is living in <UNK> with his <UNK> catherine <UNK> <UNK> ryan and she is seeing a <UNK> professor named james <UNK> stephen <UNK> but <UNK> car needs <UNK> and they take it to the <UNK> shop where ed <UNK> tim <UNK> works <UNK> falls for ryan who is attracted to him but finds that he lacks the mental equipment that she <UNK> good old uncle albert <UNK> by his three friends lou <UNK> joseph <UNK> and gene <UNK> decide to give their <UNK> to <UNK> and make him an apparently <UNK> <UNK> genius this will open the doors of romance between him and ryan provided ryan is impressed and <UNK> does not spoil things as he hopes to do br br the atmosphere is sweet as when matthau and his <UNK> <UNK> up a super <UNK> <UNK> that they help <UNK> <UNK> on by <UNK> the <UNK> of their bodies the plot eventually leads to the <UNK> lie that the brilliant <UNK> has constructed an <UNK> <UNK> rocket ship which brings in the interests of the nation in the figure of president <UNK> <UNK> curtis br br it was a charming comedy and an interesting stretch for matthau in that he was not as <UNK> as normal but far more <UNK>\n",
            "Длина отзыва:  560\n",
            "Значение метки класса отзыва: 1 (Positive) \n"
          ]
        }
      ]
    },
    {
      "cell_type": "markdown",
      "source": [
        "4. Вывести максимальную и минимальную длину отзыва в обучающем множестве."
      ],
      "metadata": {
        "id": "Jwjylm9EwNXl"
      }
    },
    {
      "cell_type": "code",
      "source": [
        "print('Максимальная длина отзыва: ', len(max(X_train , key=len)))\n",
        "print('Минимальная длина отзыва: ', len(min(X_train , key=len)))"
      ],
      "metadata": {
        "colab": {
          "base_uri": "https://localhost:8080/"
        },
        "id": "strpxiXXxjXT",
        "outputId": "6b3d9923-90bd-45a2-cf3c-2965a4f0b0f5"
      },
      "execution_count": null,
      "outputs": [
        {
          "output_type": "stream",
          "name": "stdout",
          "text": [
            "Максимальная длина отзыва:  2494\n",
            "Минимальная длина отзыва:  11\n"
          ]
        }
      ]
    },
    {
      "cell_type": "markdown",
      "source": [
        "5. Провести предобработку данных. Выбрать единую длину, к которой будут приведены все отзывы. Короткие отзывы дополнить спецсимволами, а длинные обрезать до выбранной длины."
      ],
      "metadata": {
        "id": "u7alPqSa1etZ"
      }
    },
    {
      "cell_type": "code",
      "source": [
        "# предобработка данных\n",
        "from tensorflow.keras.utils import pad_sequences\n",
        "max_words = 500\n",
        "X_train = pad_sequences(X_train, maxlen=max_words, value=0, padding='pre', truncating='post')\n",
        "X_test = pad_sequences(X_test, maxlen=max_words, value=0, padding='pre', truncating='post')"
      ],
      "metadata": {
        "id": "FGeAPfop57y2"
      },
      "execution_count": null,
      "outputs": []
    },
    {
      "cell_type": "markdown",
      "source": [
        "6. Повторить пункт 4."
      ],
      "metadata": {
        "id": "1q2uW5A3-n62"
      }
    },
    {
      "cell_type": "code",
      "source": [
        "print('Максимальная длина отзыва: ', len(max(X_train , key=len)))\n",
        "print('Минимальная длина отзыва: ', len(min(X_train , key=len)))"
      ],
      "metadata": {
        "colab": {
          "base_uri": "https://localhost:8080/"
        },
        "id": "1_taq81v-uao",
        "outputId": "afcf19d3-ba30-47e6-cef0-68b2d2039691"
      },
      "execution_count": null,
      "outputs": [
        {
          "output_type": "stream",
          "name": "stdout",
          "text": [
            "Максимальная длина отзыва:  500\n",
            "Минимальная длина отзыва:  500\n"
          ]
        }
      ]
    },
    {
      "cell_type": "markdown",
      "source": [
        "7. Повторить пункт 3. Сделать вывод о том, как преобразовался отзыв после предобработки."
      ],
      "metadata": {
        "id": "30883mwb-0dP"
      }
    },
    {
      "cell_type": "code",
      "source": [
        "# создание словаря для перевода индексов в слова\n",
        "# заргузка словаря \"слово:индекс\"\n",
        "word_to_id = imdb.get_word_index()\n",
        "# уточнение словаря\n",
        "word_to_id = {key:(value + index_from) for key,value in word_to_id.items()}\n",
        "word_to_id[\"<PAD>\"] = 0\n",
        "word_to_id[\"<START>\"] = 1\n",
        "word_to_id[\"<UNK>\"] = 2\n",
        "word_to_id[\"<UNUSED>\"] = 3\n",
        "# создание обратного словаря \"индекс:слово\"\n",
        "id_to_word = {value:key for key,value in word_to_id.items()}\n",
        "review_as_text = ' '.join(id_to_word[id] for id in X_train[3])\n",
        "\n",
        "print('Отзыв в виде списка индексов: ', X_train[3])\n",
        "print('Отзыв в виде текста: ',review_as_text)\n",
        "print('Длина отзыва: ',len(X_train[3]))\n",
        "\n",
        "if y_train[3] == 1:\n",
        "  class_label = 'Positive'\n",
        "else:\n",
        "  class_label = 'Negative'\n",
        "print('Значение метки класса отзыва: {} ({}) '.format(y_train[3], class_label))"
      ],
      "metadata": {
        "colab": {
          "base_uri": "https://localhost:8080/"
        },
        "id": "7b4xaVyHAPG8",
        "outputId": "2bd668aa-1b01-4931-a8f5-46b0eb9691be"
      },
      "execution_count": null,
      "outputs": [
        {
          "output_type": "stream",
          "name": "stdout",
          "text": [
            "Отзыв в виде списка индексов:  [   1   12   16    6    2  221  585   18   49  282    4  833 3749  330\n",
            "    7    4 3646 1117   69  115   77    4 1375  822   11    6   20    4\n",
            " 4512   13   70  104    7   17  108   19    2   11   98   26    2   18\n",
            "    2  121   40    6    2 1233    2 2714    4   87  132    9  557    2\n",
            "    6  213   23    6 1878    2  123   38   15    2    2    9 2085    8\n",
            "   28  348    4 2296 1527  103   32    5   11    2  121    4   87 2060\n",
            "    9   31    7    6 2520  971    2    5 3368   37   26    2   19    2\n",
            "   34    4 1019 3780   23 3247   49 3869    7    2   12    9 2878   15\n",
            "   11  148  107 2936    5   11    2   75   26 1951   19 1290   38  230\n",
            " 1337   47  805    8   81    6  622   22   44    4  113    7    2   40\n",
            "  308    2  589    8   81   31   23    2   19    2 4242   13  482   12\n",
            "    9   43   99  254    8   79    4  182    7    2    2   42    4 3908\n",
            "    7    2    2 1845 2604   83 1127  807   21   95   64  289  153  596\n",
            " 2609    2    5 1368    2  122    6  307  330  279 1337   66   47  805\n",
            "   10   10    2  103  487   14   13 2032    4 1112  212  185    2   19\n",
            "    2  622   44  747  153  596   21   15    9   35 1401    5   12   16\n",
            "    6 2838   10   10    4   85  866   16    4  284  395    4   87 2060\n",
            "   12   16 2345 3297  133  656   58  245   39    4  201    7  108   29\n",
            "  122   19  718 4336   11   15  236 2068    7   68 4076 3297   16    6\n",
            "  545 2250    5 4940  109  284   11  199  212    5  453   21 1760   27\n",
            "  700    2   71    2    7   27    2    2    2   39    4 3200    2   36\n",
            "   71    2    5    2  303   36   62    2   68 1676    2   88   75   69\n",
            " 2071    8   40   98   21   36    2    2 2110   21   27 2060    2  571\n",
            "    8   30 2070 1047   53   40   27    2   74   40    2    2   10   10\n",
            "   29  299 2060   17   52  154 1697 2060   12  186   15    2    2    9\n",
            "  581   11    2   19   27    2 3342    2    2 2381    5   59    9  319\n",
            "    6    2 2489  773  592    2 1660    2   21    2  519  738    2    5\n",
            "   36  193   12    8    4    2 2022  121 1659    2 1756    2  495    2\n",
            "  734   18 2381   37    9 3624    8   90   21  659   15   29 1503    4\n",
            " 1752 4920   15   59    2   52  154 1697 2060    2   34   27  289  369\n",
            " 3763    2 2315    2    5 1924    2 1197    8  202   68    2    8    2\n",
            "    5   97   90   35  684    2    2 1262   14   80  911    4 3594    7\n",
            "  883  200   90    5 2381 2426 2381    9 1555    5    2  127   24 2372\n",
            "  183   17   29 1915    8   81   10   10    4  841    9 1047   17   54\n",
            " 3297    5   27    2    2   56    6 1165    2    2   15   36  339    2\n",
            "    2   23   34    2    4    2    7   68 2350    4]\n",
            "Отзыв в виде текста:  <START> it was a <UNK> interesting experience for some reason the greatest scientific mind of the 20th century had never been the central figure in a movie the closest i can think of as films with <UNK> in them are <UNK> for <UNK> where like a <UNK> ex <UNK> china the great man is heard <UNK> a point on a radio <UNK> show so that <UNK> <UNK> is proved to have given the correct answer after all and in <UNK> where the great albert is one of a dozen leading <UNK> and scientists who are <UNK> with <UNK> by the villain intent on stealing some machines of <UNK> it is notable that in those two cases and in <UNK> we are dealing with comedies so far nobody has tried to do a serious film about the life of <UNK> like john <UNK> attempt to do one on <UNK> with <UNK> cliff i guess it is just too hard to get the world of <UNK> <UNK> or the secrets of <UNK> <UNK> field theory into exciting dialog but then only three years ago russell <UNK> and christopher <UNK> did a beautiful mind maybe nobody really has tried br br <UNK> after writing this i remembered the successful comedy young <UNK> with <UNK> serious about ten years ago but that is an exception and it was a spoof br br the other surprise was the actor playing the great albert it was walter matthau here taking time away from the series of films he did with jack lemmon in that last decade of their careers matthau was a highly capable and gifted character actor in both comedy and drama but normally his comic <UNK> were <UNK> of his <UNK> <UNK> <UNK> from the fortune <UNK> they were <UNK> and <UNK> later they would <UNK> their criminal <UNK> because we had grown to like them but they <UNK> <UNK> types but his albert <UNK> happens to be genuinely sweet more like his <UNK> than like <UNK> <UNK> br br he plays albert as good old uncle albert it seems that <UNK> <UNK> is living in <UNK> with his <UNK> catherine <UNK> <UNK> ryan and she is seeing a <UNK> professor named james <UNK> stephen <UNK> but <UNK> car needs <UNK> and they take it to the <UNK> shop where ed <UNK> tim <UNK> works <UNK> falls for ryan who is attracted to him but finds that he lacks the mental equipment that she <UNK> good old uncle albert <UNK> by his three friends lou <UNK> joseph <UNK> and gene <UNK> decide to give their <UNK> to <UNK> and make him an apparently <UNK> <UNK> genius this will open the doors of romance between him and ryan provided ryan is impressed and <UNK> does not spoil things as he hopes to do br br the atmosphere is sweet as when matthau and his <UNK> <UNK> up a super <UNK> <UNK> that they help <UNK> <UNK> on by <UNK> the <UNK> of their bodies the\n",
            "Длина отзыва:  500\n",
            "Значение метки класса отзыва: 1 (Positive) \n"
          ]
        }
      ]
    },
    {
      "cell_type": "markdown",
      "source": [
        "**Вывод:** отзыв длиной 560 был обрезан до 500 для соблюдения единого размера всех отзывов."
      ],
      "metadata": {
        "id": "6CQ4SVy9ErvJ"
      }
    },
    {
      "cell_type": "markdown",
      "source": [
        "8. Вывести предобработанные массивы обучающих и тестовых данных и их размерности.  "
      ],
      "metadata": {
        "id": "cTcJNWfBFJTD"
      }
    },
    {
      "cell_type": "code",
      "source": [
        "print('X train:', X_train)\n",
        "print('Shape of X train:', X_train.shape)\n",
        "print('X test:', X_test)\n",
        "print('Shape of X test:', X_test.shape)"
      ],
      "metadata": {
        "colab": {
          "base_uri": "https://localhost:8080/"
        },
        "id": "hY7HE9hyFVUV",
        "outputId": "2555c327-e8c0-4380-b9d0-9386e9238e94"
      },
      "execution_count": null,
      "outputs": [
        {
          "output_type": "stream",
          "name": "stdout",
          "text": [
            "X train: [[   0    0    0 ...   12   38   76]\n",
            " [   0    0    0 ...   33    4  130]\n",
            " [   0    0    0 ...  437    7   58]\n",
            " ...\n",
            " [   0    0    0 ... 1874 1553  422]\n",
            " [   0    0    0 ...   18 1552  234]\n",
            " [   0    0    0 ...    7   87 1090]]\n",
            "Shape of X train: (25000, 500)\n",
            "X test: [[   0    0    0 ...    6  194  717]\n",
            " [   0    0    0 ...   30   87  292]\n",
            " [   0    0    0 ...  495   55   73]\n",
            " ...\n",
            " [   0    0    0 ...    7   12  908]\n",
            " [   0    0    0 ...   61  477 2302]\n",
            " [   0    0    0 ...    5   68 4580]]\n",
            "Shape of X test: (25000, 500)\n"
          ]
        }
      ]
    },
    {
      "cell_type": "markdown",
      "source": [
        "9. Реализовать модель рекуррентной нейронной сети, состоящей из слоев Embedding, LSTM, Dropout, Dense, и обучить ее на обучающих данных с выделением части обучающих данных в качестве валидационных. Вывести информацию об архитектуре нейронной сети. Добиться качества обучения по метрике accuracy не менее 0.8."
      ],
      "metadata": {
        "id": "tWfnkzXuFrsd"
      }
    },
    {
      "cell_type": "code",
      "source": [
        "from keras.models import Sequential\n",
        "from keras.layers import Dense, Embedding, LSTM, Dropout\n",
        "\n",
        "#собираем модель\n",
        "model = Sequential()\n",
        "model.add(Embedding(input_dim=len(word_to_id), output_dim = 25, input_length=500))\n",
        "model.add(LSTM(units=72))\n",
        "model.add(Dropout(rate = 0.5))\n",
        "model.add(Dense(1, activation='sigmoid'))\n",
        "\n",
        "#компилируем модель\n",
        "model.compile(optimizer='adam', loss='binary_crossentropy', metrics=['accuracy'])\n",
        "\n",
        "#обучаяем модель\n",
        "history = model.fit(X_train, y_train, epochs=5, batch_size=32, validation_split=0.1)\n",
        "\n",
        "#выводим архитектуру модели\n",
        "print(model.summary())"
      ],
      "metadata": {
        "colab": {
          "base_uri": "https://localhost:8080/"
        },
        "id": "4FnS-zsiF4WM",
        "outputId": "4faf6466-6fc9-4975-ab3c-c839e2b9b838"
      },
      "execution_count": null,
      "outputs": [
        {
          "output_type": "stream",
          "name": "stdout",
          "text": [
            "Epoch 1/5\n",
            "704/704 [==============================] - 24s 30ms/step - loss: 0.4937 - accuracy: 0.7541 - val_loss: 0.5674 - val_accuracy: 0.7028\n",
            "Epoch 2/5\n",
            "704/704 [==============================] - 17s 24ms/step - loss: 0.3504 - accuracy: 0.8533 - val_loss: 0.3368 - val_accuracy: 0.8564\n",
            "Epoch 3/5\n",
            "704/704 [==============================] - 17s 23ms/step - loss: 0.2635 - accuracy: 0.8975 - val_loss: 0.3445 - val_accuracy: 0.8528\n",
            "Epoch 4/5\n",
            "704/704 [==============================] - 15s 22ms/step - loss: 0.2450 - accuracy: 0.9060 - val_loss: 0.4477 - val_accuracy: 0.8336\n",
            "Epoch 5/5\n",
            "704/704 [==============================] - 18s 25ms/step - loss: 0.2276 - accuracy: 0.9123 - val_loss: 0.3285 - val_accuracy: 0.8720\n",
            "Model: \"sequential_1\"\n",
            "_________________________________________________________________\n",
            " Layer (type)                Output Shape              Param #   \n",
            "=================================================================\n",
            " embedding_1 (Embedding)     (None, 500, 25)           2214700   \n",
            "                                                                 \n",
            " lstm_1 (LSTM)               (None, 72)                28224     \n",
            "                                                                 \n",
            " dropout_1 (Dropout)         (None, 72)                0         \n",
            "                                                                 \n",
            " dense_1 (Dense)             (None, 1)                 73        \n",
            "                                                                 \n",
            "=================================================================\n",
            "Total params: 2,242,997\n",
            "Trainable params: 2,242,997\n",
            "Non-trainable params: 0\n",
            "_________________________________________________________________\n",
            "None\n"
          ]
        }
      ]
    },
    {
      "cell_type": "markdown",
      "source": [
        "10. Оценить качество обучения на тестовых данных:\n",
        "*   Вывести значение метрики качетсва классификации на тестовых данных\n",
        "*   Вывести отчет о качестве классификации тестовой выборки\n",
        "*   Построить ROC-кривую по результату обработки тестовой выборки и вычислить площадь под ROC-кривой (AUC ROC)\n",
        "\n"
      ],
      "metadata": {
        "id": "r4VnTbXpJgsq"
      }
    },
    {
      "cell_type": "code",
      "source": [
        "#значение метрики качества классификации на тестовых данных\n",
        "print('\\n Оцениваем данные на тестовой выборке \\n')\n",
        "results = model.evaluate(X_test,y_test, batch_size = 32)\n",
        "print('Loss on test data::',results[0])\n",
        "print('Accuracy on test data:',results[1])"
      ],
      "metadata": {
        "colab": {
          "base_uri": "https://localhost:8080/"
        },
        "id": "4m2mpEdUMApz",
        "outputId": "ad24b7ba-738b-4c71-d478-032f3aa75a9c"
      },
      "execution_count": null,
      "outputs": [
        {
          "output_type": "stream",
          "name": "stdout",
          "text": [
            "\n",
            " Оцениваем данные на тестовой выборке \n",
            "\n",
            "782/782 [==============================] - 7s 9ms/step - loss: 0.3442 - accuracy: 0.8676\n",
            "Loss on test data:: 0.34422335028648376\n",
            "Accuracy on test data: 0.8676400184631348\n"
          ]
        }
      ]
    },
    {
      "cell_type": "code",
      "source": [
        "#отчет о качестве классификации на тестовой выборке\n",
        "y_score = model.predict(X_test)\n",
        "y_pred = [1 if y_score[i,0]>=0.5 else 0 for i in range(len(y_score))]\n",
        "from sklearn.metrics import classification_report\n",
        "print(classification_report(y_test, y_pred, labels = [0, 1], target_names=['Negative', 'Positive']))"
      ],
      "metadata": {
        "colab": {
          "base_uri": "https://localhost:8080/"
        },
        "id": "MC1myldJM3tW",
        "outputId": "0de86e2f-e5c5-4423-b644-9fe0c31449cb"
      },
      "execution_count": null,
      "outputs": [
        {
          "output_type": "stream",
          "name": "stdout",
          "text": [
            "782/782 [==============================] - 7s 9ms/step\n",
            "              precision    recall  f1-score   support\n",
            "\n",
            "    Negative       0.86      0.88      0.87     12500\n",
            "    Positive       0.88      0.85      0.87     12500\n",
            "\n",
            "    accuracy                           0.87     25000\n",
            "   macro avg       0.87      0.87      0.87     25000\n",
            "weighted avg       0.87      0.87      0.87     25000\n",
            "\n"
          ]
        }
      ]
    },
    {
      "cell_type": "code",
      "source": [
        "#построение ROC-кривой по результатам обработки тестовой выборки\n",
        "from sklearn.metrics import roc_curve, auc\n",
        "import matplotlib.pyplot as plt\n",
        "fpr, tpr, thresholds = roc_curve(y_test, y_score)\n",
        "plt.plot(fpr, tpr)\n",
        "plt.grid()\n",
        "plt.xlabel('False Positive Rate')\n",
        "plt.ylabel('True Positive Rate')\n",
        "plt.title('ROC')\n",
        "plt.show()\n",
        "print('Area under ROC is', auc(fpr, tpr))"
      ],
      "metadata": {
        "id": "vRgeRfYuNnFj",
        "colab": {
          "base_uri": "https://localhost:8080/",
          "height": 313
        },
        "outputId": "df6600f5-1bdb-41e3-f68c-58e3fc20e1f0"
      },
      "execution_count": null,
      "outputs": [
        {
          "output_type": "display_data",
          "data": {
            "text/plain": [
              "<Figure size 432x288 with 1 Axes>"
            ],
            "image/png": "[encoded data removed]"
          },
          "metadata": {
            "needs_background": "light"
          }
        },
        {
          "output_type": "stream",
          "name": "stdout",
          "text": [
            "Area under ROC is 0.9361053759999999\n"
          ]
        }
      ]
    },
    {
      "cell_type": "code",
      "source": [
        "#вычисление площади под ROC-кривой (AUC ROC).\n",
        "from sklearn.metrics import roc_auc_score\n",
        "print('AUC ROC:', roc_auc_score(y_test, y_score))"
      ],
      "metadata": {
        "colab": {
          "base_uri": "https://localhost:8080/"
        },
        "id": "UWR0bAPyN7_f",
        "outputId": "0e8688c5-b661-4947-f648-02aa1849fe32"
      },
      "execution_count": null,
      "outputs": [
        {
          "output_type": "stream",
          "name": "stdout",
          "text": [
            "AUC ROC: 0.9361053759999999\n"
          ]
        }
      ]
    },
    {
      "cell_type": "markdown",
      "source": [
        "##**Вывод:**"
      ],
      "metadata": {
        "id": "otTPyaohPkO-"
      }
    },
    {
      "cell_type": "markdown",
      "source": [
        "В результате применения рекуррентной нейронной сети для решения задачи определения тональности текста значения метрик качества precision, recall, f1-score, support и площадь под ROC-кривой оказались  достаточно близки к идеальному значению (равному 1), и для класса Positive, и для класса Negative. Невзвешенное среднее и взвешенное среднее значения этих параметров также близки к идеальным. Значение показателя accuracy составило 0.86764. Полученная рекуррентная нейронная сеть вполне пригодна для решения задачи определения тональности текста."
      ],
      "metadata": {
        "id": "mpPfJ3JWPn8p"
      }
    }
  ]
}